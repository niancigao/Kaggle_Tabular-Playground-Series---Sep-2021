{
 "cells": [
  {
   "cell_type": "markdown",
   "id": "7518df4d",
   "metadata": {},
   "source": [
    "```\n",
    "記得加上na 數量的新feat (也可以加na 數量std)，你們必須統一 CV 的分配\n",
    "\n",
    "念慈: (your model response should be probability instead of classification label) \n",
    "1. Fit a Logistic regression model (Select K by CV) \n",
    "2. Fit a CART model \n",
    "3. Fit a Random Forest model \n",
    "\n",
    "永鴻: \n",
    "1. Hyperparameter tuning and feature engineering of LightGBM (AUC should be > 0.81) \n",
    "2. LightGBM Cross Validation (you may write it from scratch) \n",
    "\n",
    "語謙: \n",
    "1. Hyperparameter tuning and feature engineering of XGBoost (AUC should be > 0.81) \n",
    "2. XGBoost Cross Validation (you may write it from scratch) \n",
    "\n",
    "TO DO: 你們做完後合力做的事情\n",
    "1. Voting: (XGBoost + LightGBM + CART + Random Forest + Logistic Regression) \n",
    "2. KDE plot of each model (XGBoost, LightGBM, CART, Random Forest, Logistic Regression) \n",
    "3. Heatmap of each model (XGBoost, LightGBM, CART, Random Forest, Logistic Regression) \n",
    "4. Fit a CatBoost model \n",
    "```\n",
    "CatBoost : https://ithelp.ithome.com.tw/articles/10275263\n",
    "```\n",
    "5. Power Averaging each model (if the correlation of heatmap > threshold (0.95))\n",
    "```"
   ]
  },
  {
   "cell_type": "markdown",
   "id": "32aa6caf",
   "metadata": {},
   "source": [
    "- L1會趨向於產生少量的特徵，而其他的特徵都是 0\n",
    "\n",
    "\n",
    "- L2會選擇更多的特徵，這些特徵都會接近於 0 \n",
    "\n",
    "\n",
    "- Lasso在特徵選擇時候非常有用，而Ridge就只是一種規則化而已\n",
    "\n",
    "\n",
    "- 在所有特徵中只有少數特徵起重要作用的情況下，選擇Lasso比較合適，因為它能自動選擇特徵\n",
    "\n",
    "\n",
    "- 而如果所有特徵中，大部分特徵都能起作用，而且起的作用很平均，那麼使用Ridge也許更合適\n",
    "\n",
    "\n",
    "- 原文：https://blog.csdn.net/sallyxyl1993/article/details/69364181"
   ]
  },
  {
   "cell_type": "code",
   "execution_count": 1,
   "id": "c44f8327",
   "metadata": {},
   "outputs": [],
   "source": [
    "import pandas as pd\n",
    "import matplotlib.pyplot as plt\n",
    "import seaborn as sns\n",
    "import numpy as np\n",
    "\n",
    "##### (評分指標)\n",
    "from sklearn.metrics import roc_auc_score, confusion_matrix\n",
    "\n",
    "##### 由多種方法組成，在各種迭代器中用於計算快速且代碼高效的解決方案\n",
    "import itertools                        # 用在 confusion matrix\n",
    "\n",
    "##### Progress bar (進度條)\n",
    "from tqdm import tqdm\n",
    "\n",
    "##### KFOLD\n",
    "from sklearn.model_selection import KFold\n"
   ]
  },
  {
   "cell_type": "markdown",
   "id": "f90d0b91",
   "metadata": {},
   "source": [
    "## confusion matrix 圖的配置，把矩陣化成圖"
   ]
  },
  {
   "cell_type": "code",
   "execution_count": 2,
   "id": "0c3a6745",
   "metadata": {},
   "outputs": [],
   "source": [
    "# help('FORMATTING')"
   ]
  },
  {
   "cell_type": "code",
   "execution_count": 3,
   "id": "cca0eab9",
   "metadata": {},
   "outputs": [],
   "source": [
    "##### you may import itertools\n",
    "\n",
    "def plot_confusion_matrix(cm, classes):\n",
    "\n",
    "    plt.imshow(cm, interpolation='nearest', cmap=plt.cm.Blues)   # interpolation : 插值 \n",
    "    plt.title('Confusion matrix', fontweight='bold', pad=15)     # 字體重量 :'bold'(粗體), pad : 標題放置距離\n",
    "    \n",
    "    plt.colorbar()\n",
    "    tick_marks = np.arange(len(classes))                # classes : list，的長度，的 array，X 的位置\n",
    "    plt.xticks(tick_marks, classes, rotation=0)         # xticks : 把坐標軸變成自己想要的樣子，類似覆蓋，覆蓋長度要和原來坐標長度一致\n",
    "    plt.yticks(tick_marks, classes)                     # rotation=0 : 以度為單位的角度\n",
    "                                                        # rotation='vertical' : 跟座標垂直\n",
    "    \n",
    "    thresh = cm.max() / 2.                              # threshold (臨界點)\n",
    "    for i, j in itertools.product(range(cm.shape[0]), range(cm.shape[1])):\n",
    "                                                        # itertools.product : 兩個集合的笛卡爾積，定義為所有有序對 (a, b) 的集合\n",
    "                                                        # ex : (0,0)、(0,1)、(1,0)、(1,1)\n",
    "        plt.text(j, i, format(cm[i, j], 'g'),           # 'd' 十進制整數，輸出以 10 為底的數字，細節 : help('FORMATTING')\n",
    "                 horizontalalignment=\"center\",          # 水平對齊 {'center', 'right', 'left'}\n",
    "                 color=\"white\" if cm[i, j] > thresh else \"black\")\n",
    "                                                        # 數字大於 threshold (臨界點)，給白色，因為 Blues 是淺藍到深\n",
    "\n",
    "    plt.ylabel('True label', fontweight='bold')\n",
    "    plt.xlabel('Predicted label', fontweight='bold')\n",
    "    plt.tight_layout()                                  # 調整子圖之間和周圍的填充\n",
    " "
   ]
  },
  {
   "cell_type": "markdown",
   "id": "4c3b8acd",
   "metadata": {},
   "source": [
    "## KFOLD 範例"
   ]
  },
  {
   "cell_type": "code",
   "execution_count": 4,
   "id": "64b335bc",
   "metadata": {},
   "outputs": [],
   "source": [
    "# Xtrain = train_df.copy().loc[:,'f1':'f118']\n",
    "# Ytrain = train_df.copy().loc[:,'claim']\n",
    "# Xtest = test_df.copy()"
   ]
  },
  {
   "cell_type": "markdown",
   "id": "86b07e58",
   "metadata": {},
   "source": [
    "```python\n",
    "##### Set your configuration(配置) here!!\n",
    "\n",
    "FOLD = 5                                          # 切 5 分\n",
    "SEEDS = [24, 42]                                  # 要做幾次 K-fold ,這裡做 2 次\n",
    "\n",
    "fet_imp = 0                                       # feature importance (not necessary)  # 看特徵重要性\n",
    "counter = 0                                       # 整個迴圈的個數\n",
    "oof_score = 0                                     # oof_score /= float(counter)，整個 kfold 的平均分數，roc_auc_score                         \n",
    "\n",
    "##### here I use XGBoost to implement KFold, you may choose your model by your self\n",
    "y_pred_final_xgb = np.zeros((Xtest.shape[0], 1))  # 建 2維 0 陣列\n",
    "y_pred_meta_xgb = np.zeros((Xtrain.shape[0], 1))  \n",
    "\n",
    "##### your chosen seeds\n",
    "for sidx, seed in tqdm(enumerate(SEEDS)):         # enumerate(枚舉) : 看list物件，(0,24) 第一次 & (1,42) 第二次\n",
    "    seed_score = 0                                # 累積每次 kfold 完分數，後面拿去算每次的平均分數\n",
    "\n",
    "    ##### start KFold\n",
    "\n",
    "    kfold = KFold(n_splits=FOLD, shuffle=True, random_state=seed)   # shuffle : 打亂，第 n 次的 random_state \n",
    "  # kfold = StratifiedKFold(n_splits=FOLD, shuffle=True, random_state=seed) \n",
    "\n",
    "    for flod_idx, (train_idx, val_idx) in enumerate(kfold.split(Xtrain.values, Ytrain.values)): \n",
    "                                  # ('f1:f118' & 'claim') 分別對 data 跟 label 切出訓練 & 驗證集，後面 fit 用\n",
    "                                  # kfold.split : 生成 index 以將數據拆分為訓練集和測試集 \n",
    "                                  # KFold()方法中的 split()：split(a,b)：方法會根據折數對 a 和 b 進行劃分，返回相應數據的下標\n",
    "                                  # DF --> array , Xtrain.values (957919, 118)    \n",
    "        counter += 1              # 整個做到第 (kfold 裡切幾次*做幾次 kflod) 次 \n",
    "\n",
    "        ##### setting sub training data and validation data\n",
    "        train_x, train_y = Xtrain.iloc[train_idx], Ytrain.iloc[train_idx]     # 拿出切好的訓練 & 驗證集 (train, val)\n",
    "        val_x, val_y = Xtrain.iloc[val_idx], Ytrain.iloc[val_idx]             # K-Flod 做完\n",
    "\n",
    "############################################################################  # 以下以 XGBoost 為例  ####################\n",
    "        ##### This is nothing to do with KFold (建)\n",
    "        # params['learning_rate']=0.02                         \n",
    "        # init_model = XGBClassifier(**params)\n",
    "        init_model = XGBClassifier(learning_rate = 0.02)                      # 建 model\n",
    "\n",
    "        ##### You may fit your model here!\n",
    "        init_model.fit(train_x, train_y, eval_set=[(train_x, train_y), (val_x, val_y)], \n",
    "                       early_stopping_rounds=200, verbose=500)                \n",
    "\n",
    "        ##### Ignore this block\n",
    "        # params['learning_rate']=0.01\n",
    "        # model = XGBClassifier(**params)\n",
    "        model = XGBClassifier(learning_rate = 0.01)\n",
    "\n",
    "        model.fit(train_x, train_y, eval_set=[(train_x, train_y), (val_x, val_y)], \n",
    "                  early_stopping_rounds=100, verbose=300, xgb_model=init_model)\n",
    "\n",
    "        ##### predict validation set and testing set      # 預測 驗證集 & 測試集\n",
    "        y_pred = model.predict_proba(val_x, iteration_range=(0, model.best_iteration))[:,-1]            \n",
    "        y_pred_meta_xgb[val_idx] += np.array([y_pred]).T  # 第 1/5 份驗證集的預測，5次才會滿\n",
    "\n",
    "        y_pred_final_xgb += np.array([model.predict_proba(Xtest, iteration_range=(0, model.best_iteration))[:,-1]]).T   \n",
    "                                                          # 整個測試集的預測，一次就滿了\n",
    "\n",
    "        ##### calculate your metrics here\n",
    "        fet_imp += model.feature_importances_             # 樹模型特有，特徵用越多次越重要\n",
    "                                                          # model.feature_importances_ : 每次特徵的重要性(比例)，總和約為 1\n",
    "        score = roc_auc_score(val_y, y_pred)              # 算 roc_auc 分數\n",
    "        oof_score += score                                # 把整個分數加到底\n",
    "        seed_score += score                               # 累積每次 kfold 完的分數\n",
    "\n",
    "        ##### metric logger (指標記錄器)\n",
    "        print(\"\\n Seed-{} | Fold-{} | OOF Score: {} \\n\".format(seed, flod_idx, score))    \n",
    "                                                          # 此次(24 & 42)，第 (flod_idx + 1) 個 kfold.split，評分\n",
    "\n",
    "    print(\"\\n Seed: {} | Aggregate OOF Score: {} \\n\\n\".format(seed, (seed_score / FOLD)))   \n",
    "                                                          # 此次 random_state，的平均指標分數\n",
    "\n",
    "\n",
    "fet_imp = fet_imp / float(counter)                     # 整個 Kfold 中的特徵重要性(比例)，總和約為 1\n",
    "y_pred_meta_xgb = y_pred_meta_xgb / float(len(SEEDS))  # 驗證集的預測 / 做幾次 kfold                      (平均一次驗證集)\n",
    "y_pred_final_xgb = y_pred_final_xgb / float(counter)   # 整個測試集的預測 / (kfold 裡切幾次*做幾次 kflod)  (平均一次測試集)\n",
    "oof_score /= float(counter)                            # (整個分數加到底 / 整個次數)，整個 kfold 的平均分數，roc_auc_score \n",
    "\n",
    "print(\"Aggregate OOF Score: {}\".format(oof_score))\n",
    "```"
   ]
  },
  {
   "cell_type": "code",
   "execution_count": 5,
   "id": "49c4025e",
   "metadata": {},
   "outputs": [
    {
     "data": {
      "text/html": [
       "<div>\n",
       "<style scoped>\n",
       "    .dataframe tbody tr th:only-of-type {\n",
       "        vertical-align: middle;\n",
       "    }\n",
       "\n",
       "    .dataframe tbody tr th {\n",
       "        vertical-align: top;\n",
       "    }\n",
       "\n",
       "    .dataframe thead th {\n",
       "        text-align: right;\n",
       "    }\n",
       "</style>\n",
       "<table border=\"1\" class=\"dataframe\">\n",
       "  <thead>\n",
       "    <tr style=\"text-align: right;\">\n",
       "      <th></th>\n",
       "      <th>f1</th>\n",
       "      <th>f2</th>\n",
       "      <th>f3</th>\n",
       "      <th>f4</th>\n",
       "      <th>f5</th>\n",
       "      <th>f6</th>\n",
       "      <th>f7</th>\n",
       "      <th>f8</th>\n",
       "      <th>f9</th>\n",
       "      <th>f10</th>\n",
       "      <th>...</th>\n",
       "      <th>f111</th>\n",
       "      <th>f112</th>\n",
       "      <th>f113</th>\n",
       "      <th>f114</th>\n",
       "      <th>f115</th>\n",
       "      <th>f116</th>\n",
       "      <th>f117</th>\n",
       "      <th>f118</th>\n",
       "      <th>Nanumber</th>\n",
       "      <th>claim</th>\n",
       "    </tr>\n",
       "    <tr>\n",
       "      <th>id</th>\n",
       "      <th></th>\n",
       "      <th></th>\n",
       "      <th></th>\n",
       "      <th></th>\n",
       "      <th></th>\n",
       "      <th></th>\n",
       "      <th></th>\n",
       "      <th></th>\n",
       "      <th></th>\n",
       "      <th></th>\n",
       "      <th></th>\n",
       "      <th></th>\n",
       "      <th></th>\n",
       "      <th></th>\n",
       "      <th></th>\n",
       "      <th></th>\n",
       "      <th></th>\n",
       "      <th></th>\n",
       "      <th></th>\n",
       "      <th></th>\n",
       "      <th></th>\n",
       "    </tr>\n",
       "  </thead>\n",
       "  <tbody>\n",
       "    <tr>\n",
       "      <th>0</th>\n",
       "      <td>0.10859</td>\n",
       "      <td>0.004314</td>\n",
       "      <td>-37.566</td>\n",
       "      <td>0.017364</td>\n",
       "      <td>0.28915</td>\n",
       "      <td>-10.25100</td>\n",
       "      <td>135.12</td>\n",
       "      <td>168900.0</td>\n",
       "      <td>3.992400e+14</td>\n",
       "      <td>86.489</td>\n",
       "      <td>...</td>\n",
       "      <td>1.7482</td>\n",
       "      <td>1.90960</td>\n",
       "      <td>-7.11570</td>\n",
       "      <td>4378.80</td>\n",
       "      <td>1.2096</td>\n",
       "      <td>8.613400e+14</td>\n",
       "      <td>140.1</td>\n",
       "      <td>1.01770</td>\n",
       "      <td>1</td>\n",
       "      <td>1</td>\n",
       "    </tr>\n",
       "    <tr>\n",
       "      <th>1</th>\n",
       "      <td>0.10090</td>\n",
       "      <td>0.299610</td>\n",
       "      <td>11822.000</td>\n",
       "      <td>0.276500</td>\n",
       "      <td>0.45970</td>\n",
       "      <td>-0.83733</td>\n",
       "      <td>1721.90</td>\n",
       "      <td>119810.0</td>\n",
       "      <td>3.874100e+15</td>\n",
       "      <td>9953.600</td>\n",
       "      <td>...</td>\n",
       "      <td>4.1684</td>\n",
       "      <td>0.34808</td>\n",
       "      <td>4.14200</td>\n",
       "      <td>913.23</td>\n",
       "      <td>1.2464</td>\n",
       "      <td>7.575100e+15</td>\n",
       "      <td>1861.0</td>\n",
       "      <td>0.28359</td>\n",
       "      <td>0</td>\n",
       "      <td>0</td>\n",
       "    </tr>\n",
       "    <tr>\n",
       "      <th>2</th>\n",
       "      <td>0.17803</td>\n",
       "      <td>-0.006980</td>\n",
       "      <td>907.270</td>\n",
       "      <td>0.272140</td>\n",
       "      <td>0.45948</td>\n",
       "      <td>0.17327</td>\n",
       "      <td>2298.00</td>\n",
       "      <td>360650.0</td>\n",
       "      <td>1.224500e+13</td>\n",
       "      <td>15827.000</td>\n",
       "      <td>...</td>\n",
       "      <td>1.2042</td>\n",
       "      <td>0.26290</td>\n",
       "      <td>8.13120</td>\n",
       "      <td>45119.00</td>\n",
       "      <td>1.1764</td>\n",
       "      <td>3.218100e+14</td>\n",
       "      <td>3838.2</td>\n",
       "      <td>0.40690</td>\n",
       "      <td>5</td>\n",
       "      <td>1</td>\n",
       "    </tr>\n",
       "    <tr>\n",
       "      <th>3</th>\n",
       "      <td>0.15236</td>\n",
       "      <td>0.007259</td>\n",
       "      <td>780.100</td>\n",
       "      <td>0.025179</td>\n",
       "      <td>0.51947</td>\n",
       "      <td>7.49140</td>\n",
       "      <td>112.51</td>\n",
       "      <td>259490.0</td>\n",
       "      <td>7.781400e+13</td>\n",
       "      <td>-36.837</td>\n",
       "      <td>...</td>\n",
       "      <td>2.0694</td>\n",
       "      <td>0.79631</td>\n",
       "      <td>-16.33600</td>\n",
       "      <td>4952.40</td>\n",
       "      <td>1.1784</td>\n",
       "      <td>4.533000e+12</td>\n",
       "      <td>4889.1</td>\n",
       "      <td>0.51486</td>\n",
       "      <td>2</td>\n",
       "      <td>1</td>\n",
       "    </tr>\n",
       "    <tr>\n",
       "      <th>4</th>\n",
       "      <td>0.11623</td>\n",
       "      <td>0.502900</td>\n",
       "      <td>-109.150</td>\n",
       "      <td>0.297910</td>\n",
       "      <td>0.34490</td>\n",
       "      <td>-0.40932</td>\n",
       "      <td>2538.90</td>\n",
       "      <td>65332.0</td>\n",
       "      <td>1.907200e+15</td>\n",
       "      <td>144.120</td>\n",
       "      <td>...</td>\n",
       "      <td>1.5298</td>\n",
       "      <td>1.14640</td>\n",
       "      <td>-0.43124</td>\n",
       "      <td>3856.50</td>\n",
       "      <td>1.4830</td>\n",
       "      <td>-8.991300e+12</td>\n",
       "      <td>NaN</td>\n",
       "      <td>0.23049</td>\n",
       "      <td>8</td>\n",
       "      <td>1</td>\n",
       "    </tr>\n",
       "  </tbody>\n",
       "</table>\n",
       "<p>5 rows × 120 columns</p>\n",
       "</div>"
      ],
      "text/plain": [
       "         f1        f2         f3        f4       f5        f6       f7  \\\n",
       "id                                                                       \n",
       "0   0.10859  0.004314    -37.566  0.017364  0.28915 -10.25100   135.12   \n",
       "1   0.10090  0.299610  11822.000  0.276500  0.45970  -0.83733  1721.90   \n",
       "2   0.17803 -0.006980    907.270  0.272140  0.45948   0.17327  2298.00   \n",
       "3   0.15236  0.007259    780.100  0.025179  0.51947   7.49140   112.51   \n",
       "4   0.11623  0.502900   -109.150  0.297910  0.34490  -0.40932  2538.90   \n",
       "\n",
       "          f8            f9        f10  ...    f111     f112      f113  \\\n",
       "id                                     ...                              \n",
       "0   168900.0  3.992400e+14     86.489  ...  1.7482  1.90960  -7.11570   \n",
       "1   119810.0  3.874100e+15   9953.600  ...  4.1684  0.34808   4.14200   \n",
       "2   360650.0  1.224500e+13  15827.000  ...  1.2042  0.26290   8.13120   \n",
       "3   259490.0  7.781400e+13    -36.837  ...  2.0694  0.79631 -16.33600   \n",
       "4    65332.0  1.907200e+15    144.120  ...  1.5298  1.14640  -0.43124   \n",
       "\n",
       "        f114    f115          f116    f117     f118  Nanumber  claim  \n",
       "id                                                                    \n",
       "0    4378.80  1.2096  8.613400e+14   140.1  1.01770         1      1  \n",
       "1     913.23  1.2464  7.575100e+15  1861.0  0.28359         0      0  \n",
       "2   45119.00  1.1764  3.218100e+14  3838.2  0.40690         5      1  \n",
       "3    4952.40  1.1784  4.533000e+12  4889.1  0.51486         2      1  \n",
       "4    3856.50  1.4830 -8.991300e+12     NaN  0.23049         8      1  \n",
       "\n",
       "[5 rows x 120 columns]"
      ]
     },
     "execution_count": 5,
     "metadata": {},
     "output_type": "execute_result"
    }
   ],
   "source": [
    "# 直接用加 NaN 數量的資料\n",
    "\n",
    "df_train = pd.read_csv(r\"C:\\Users\\user\\Desktop\\2022data\\na_number.csv\",index_col='id')\n",
    "df_test = pd.read_csv(r\"C:\\Users\\user\\Desktop\\2022data\\na_number_test.csv\",index_col='id')\n",
    "\n",
    "#路徑字串開頭要寫 r & 檔案名稱.csv                         \n",
    "# r :為了不讓 \\ 被讀成特殊字元 EX: \\n\n",
    "#指定欄位 id 為索引 (取代原本 0.1...957918的位置)\n",
    "\n",
    "# df_train.isnull().sum().sum() # 還有缺失值嗎  # 1820782\n",
    "# df_train.isnull().sum().sum() # 還有缺失值嗎  # 1820782\n",
    "\n",
    "df_train.head()\n"
   ]
  },
  {
   "cell_type": "code",
   "execution_count": 6,
   "id": "c60aeb15",
   "metadata": {},
   "outputs": [
    {
     "data": {
      "text/html": [
       "<div>\n",
       "<style scoped>\n",
       "    .dataframe tbody tr th:only-of-type {\n",
       "        vertical-align: middle;\n",
       "    }\n",
       "\n",
       "    .dataframe tbody tr th {\n",
       "        vertical-align: top;\n",
       "    }\n",
       "\n",
       "    .dataframe thead th {\n",
       "        text-align: right;\n",
       "    }\n",
       "</style>\n",
       "<table border=\"1\" class=\"dataframe\">\n",
       "  <thead>\n",
       "    <tr style=\"text-align: right;\">\n",
       "      <th></th>\n",
       "      <th>f1</th>\n",
       "      <th>f2</th>\n",
       "      <th>f3</th>\n",
       "      <th>f4</th>\n",
       "      <th>f5</th>\n",
       "      <th>f6</th>\n",
       "      <th>f7</th>\n",
       "      <th>f8</th>\n",
       "      <th>f9</th>\n",
       "      <th>f10</th>\n",
       "      <th>...</th>\n",
       "      <th>f110</th>\n",
       "      <th>f111</th>\n",
       "      <th>f112</th>\n",
       "      <th>f113</th>\n",
       "      <th>f114</th>\n",
       "      <th>f115</th>\n",
       "      <th>f116</th>\n",
       "      <th>f117</th>\n",
       "      <th>f118</th>\n",
       "      <th>Nanumber</th>\n",
       "    </tr>\n",
       "    <tr>\n",
       "      <th>id</th>\n",
       "      <th></th>\n",
       "      <th></th>\n",
       "      <th></th>\n",
       "      <th></th>\n",
       "      <th></th>\n",
       "      <th></th>\n",
       "      <th></th>\n",
       "      <th></th>\n",
       "      <th></th>\n",
       "      <th></th>\n",
       "      <th></th>\n",
       "      <th></th>\n",
       "      <th></th>\n",
       "      <th></th>\n",
       "      <th></th>\n",
       "      <th></th>\n",
       "      <th></th>\n",
       "      <th></th>\n",
       "      <th></th>\n",
       "      <th></th>\n",
       "      <th></th>\n",
       "    </tr>\n",
       "  </thead>\n",
       "  <tbody>\n",
       "    <tr>\n",
       "      <th>957919</th>\n",
       "      <td>0.165850</td>\n",
       "      <td>0.487050</td>\n",
       "      <td>1295.00</td>\n",
       "      <td>0.02310</td>\n",
       "      <td>0.31900</td>\n",
       "      <td>0.90188</td>\n",
       "      <td>573.29</td>\n",
       "      <td>3743.7</td>\n",
       "      <td>2.705700e+12</td>\n",
       "      <td>6221.000</td>\n",
       "      <td>...</td>\n",
       "      <td>-22.1890</td>\n",
       "      <td>2.0655</td>\n",
       "      <td>0.430880</td>\n",
       "      <td>-10.7410</td>\n",
       "      <td>81606.0</td>\n",
       "      <td>1.1940</td>\n",
       "      <td>1.980400e+14</td>\n",
       "      <td>2017.1</td>\n",
       "      <td>0.46357</td>\n",
       "      <td>1</td>\n",
       "    </tr>\n",
       "    <tr>\n",
       "      <th>957920</th>\n",
       "      <td>0.129650</td>\n",
       "      <td>0.373480</td>\n",
       "      <td>1763.00</td>\n",
       "      <td>0.72884</td>\n",
       "      <td>0.33247</td>\n",
       "      <td>-1.26310</td>\n",
       "      <td>875.55</td>\n",
       "      <td>554370.0</td>\n",
       "      <td>5.955700e+14</td>\n",
       "      <td>934.430</td>\n",
       "      <td>...</td>\n",
       "      <td>-1.6342</td>\n",
       "      <td>1.5736</td>\n",
       "      <td>-1.071200</td>\n",
       "      <td>11.8320</td>\n",
       "      <td>90114.0</td>\n",
       "      <td>1.1507</td>\n",
       "      <td>4.388000e+16</td>\n",
       "      <td>6638.9</td>\n",
       "      <td>0.28125</td>\n",
       "      <td>0</td>\n",
       "    </tr>\n",
       "    <tr>\n",
       "      <th>957921</th>\n",
       "      <td>0.120190</td>\n",
       "      <td>0.445210</td>\n",
       "      <td>736.26</td>\n",
       "      <td>0.04615</td>\n",
       "      <td>0.29605</td>\n",
       "      <td>0.31665</td>\n",
       "      <td>2659.50</td>\n",
       "      <td>317140.0</td>\n",
       "      <td>3.977800e+14</td>\n",
       "      <td>131.810</td>\n",
       "      <td>...</td>\n",
       "      <td>-32.7800</td>\n",
       "      <td>2.1364</td>\n",
       "      <td>-1.931200</td>\n",
       "      <td>-3.2804</td>\n",
       "      <td>37739.0</td>\n",
       "      <td>1.1548</td>\n",
       "      <td>1.718100e+14</td>\n",
       "      <td>5844.0</td>\n",
       "      <td>0.13797</td>\n",
       "      <td>1</td>\n",
       "    </tr>\n",
       "    <tr>\n",
       "      <th>957922</th>\n",
       "      <td>0.054008</td>\n",
       "      <td>0.395960</td>\n",
       "      <td>996.14</td>\n",
       "      <td>0.85934</td>\n",
       "      <td>0.36678</td>\n",
       "      <td>-0.17060</td>\n",
       "      <td>386.56</td>\n",
       "      <td>325680.0</td>\n",
       "      <td>-3.432200e+13</td>\n",
       "      <td>-26.473</td>\n",
       "      <td>...</td>\n",
       "      <td>-2.4162</td>\n",
       "      <td>1.5199</td>\n",
       "      <td>-0.011633</td>\n",
       "      <td>1.3840</td>\n",
       "      <td>26849.0</td>\n",
       "      <td>1.1490</td>\n",
       "      <td>2.138800e+17</td>\n",
       "      <td>6173.3</td>\n",
       "      <td>0.32910</td>\n",
       "      <td>0</td>\n",
       "    </tr>\n",
       "    <tr>\n",
       "      <th>957923</th>\n",
       "      <td>0.079947</td>\n",
       "      <td>-0.006919</td>\n",
       "      <td>10574.00</td>\n",
       "      <td>0.34845</td>\n",
       "      <td>0.45008</td>\n",
       "      <td>-1.84200</td>\n",
       "      <td>3027.00</td>\n",
       "      <td>428150.0</td>\n",
       "      <td>9.291500e+11</td>\n",
       "      <td>5999.400</td>\n",
       "      <td>...</td>\n",
       "      <td>-18.6300</td>\n",
       "      <td>3.7387</td>\n",
       "      <td>0.757080</td>\n",
       "      <td>-4.9405</td>\n",
       "      <td>50336.0</td>\n",
       "      <td>1.2488</td>\n",
       "      <td>2.151300e+17</td>\n",
       "      <td>2250.1</td>\n",
       "      <td>0.33796</td>\n",
       "      <td>0</td>\n",
       "    </tr>\n",
       "  </tbody>\n",
       "</table>\n",
       "<p>5 rows × 119 columns</p>\n",
       "</div>"
      ],
      "text/plain": [
       "              f1        f2        f3       f4       f5       f6       f7  \\\n",
       "id                                                                         \n",
       "957919  0.165850  0.487050   1295.00  0.02310  0.31900  0.90188   573.29   \n",
       "957920  0.129650  0.373480   1763.00  0.72884  0.33247 -1.26310   875.55   \n",
       "957921  0.120190  0.445210    736.26  0.04615  0.29605  0.31665  2659.50   \n",
       "957922  0.054008  0.395960    996.14  0.85934  0.36678 -0.17060   386.56   \n",
       "957923  0.079947 -0.006919  10574.00  0.34845  0.45008 -1.84200  3027.00   \n",
       "\n",
       "              f8            f9       f10  ...     f110    f111      f112  \\\n",
       "id                                        ...                              \n",
       "957919    3743.7  2.705700e+12  6221.000  ... -22.1890  2.0655  0.430880   \n",
       "957920  554370.0  5.955700e+14   934.430  ...  -1.6342  1.5736 -1.071200   \n",
       "957921  317140.0  3.977800e+14   131.810  ... -32.7800  2.1364 -1.931200   \n",
       "957922  325680.0 -3.432200e+13   -26.473  ...  -2.4162  1.5199 -0.011633   \n",
       "957923  428150.0  9.291500e+11  5999.400  ... -18.6300  3.7387  0.757080   \n",
       "\n",
       "           f113     f114    f115          f116    f117     f118  Nanumber  \n",
       "id                                                                         \n",
       "957919 -10.7410  81606.0  1.1940  1.980400e+14  2017.1  0.46357         1  \n",
       "957920  11.8320  90114.0  1.1507  4.388000e+16  6638.9  0.28125         0  \n",
       "957921  -3.2804  37739.0  1.1548  1.718100e+14  5844.0  0.13797         1  \n",
       "957922   1.3840  26849.0  1.1490  2.138800e+17  6173.3  0.32910         0  \n",
       "957923  -4.9405  50336.0  1.2488  2.151300e+17  2250.1  0.33796         0  \n",
       "\n",
       "[5 rows x 119 columns]"
      ]
     },
     "execution_count": 6,
     "metadata": {},
     "output_type": "execute_result"
    }
   ],
   "source": [
    "df_test.head()"
   ]
  },
  {
   "cell_type": "code",
   "execution_count": 6,
   "id": "cd982b28",
   "metadata": {},
   "outputs": [],
   "source": [
    "# K-Fold 資料\n",
    "\n",
    "# Xtrain = train_df.copy().loc[:,'f1':'f118']\n",
    "# Ytrain = train_df.copy().loc[:,'claim']\n",
    "# Xtest = test_df.copy()\n",
    "\n",
    "Xtrain = df_train.copy().loc[:,'f1':'Nanumber']\n",
    "Ytrain = df_train.copy().loc[:,'claim']\n",
    "Xtest = df_test.copy()\n"
   ]
  },
  {
   "cell_type": "markdown",
   "id": "b0661f1e",
   "metadata": {},
   "source": [
    "# 1. Fit a Logistic regression model\n",
    "- https://scikit-learn.org/stable/modules/generated/sklearn.linear_model.LogisticRegression.html\n",
    "- https://www.3chy2.com.tw/3c%E8%B3%87%E8%A8%8A/%E9%80%9A%E4%BF%97%E5%9C%B0%E8%AA%AA%E9%82%8F%E8%BC%AF%E5%9B%9E%E6%AD%B8%E3%80%90logistic-regression%E3%80%91%E7%AE%97%E6%B3%95%EF%BC%88%E4%BA%8C%EF%BC%89sklearn%E9%82%8F%E8%BC%AF%E5%9B%9E%E6%AD%B8/\n",
    "- https://www.twblogs.net/a/5cfdeffebd9eee14644e7e47"
   ]
  },
  {
   "cell_type": "markdown",
   "id": "0d503d0a",
   "metadata": {},
   "source": [
    "```\n",
    "適用於預測二元類別目標變數的發生機率(p)\n",
    "和線性回歸模型類似，與線性回歸主要不同之處在於\n",
    "(1) 目標變數是目標事件發生機率P經過log函數轉換成log odds值才進行線性預測\n",
    "(2) 羅吉斯回歸的各項參數是透過最大概似法(MLE)進行估計的\n",
    "```"
   ]
  },
  {
   "cell_type": "markdown",
   "id": "f51aec3f",
   "metadata": {},
   "source": [
    "1. **羅吉斯分配中，自變數(X)對依變數(Y)的影響是以指數的方式做變動，因此不需要常態分配的假設**<br><br>\n",
    "2. **邏輯回歸假設數據服從伯努利分佈，通過極大化似然函數的方法，運用梯度下降來求解參數，來達到將數據二分類的目的**<br><br>\n",
    "3. **邏輯回歸本身不受量綱影響，但是其使用梯度下降法求解參數受量綱影響大，<br>\n",
    "    如果不進行特徵歸一化，可能由於變量不同量綱導致參數迭代求解緩慢，影響算法速率**\n",
    "\n",
    "```\n",
    "  是否標準化取決於我們的邏輯回歸是不是用L1、L2正則(即算歐式距離)\n",
    "  \n",
    "  L1正則時，是簡單將參數的絕對值相加,，因為它們的大小級別不一樣，導致L1只會對級別比較大的參數有作用，那些小的參數將被忽略\n",
    "  \n",
    "  不用正則，標準化並不是必須的，損失函數只是僅僅在度量預測與真實的差距\n",
    "\n",
    "  Note:先拆分出測試集，不要在整個數據集上做標準化，避免將測試集的信息引入到訓練集中\n",
    "  \n",
    "```"
   ]
  },
  {
   "cell_type": "code",
   "execution_count": 8,
   "id": "c0deac6b",
   "metadata": {},
   "outputs": [],
   "source": [
    "from sklearn.preprocessing  import StandardScaler     # 標準化 :為了避免偏向某個變數去做訓練\n",
    "from sklearn.linear_model import LogisticRegression   # 默認 penalty = 'l2'"
   ]
  },
  {
   "cell_type": "code",
   "execution_count": 9,
   "id": "5ad735c5",
   "metadata": {},
   "outputs": [],
   "source": [
    "# ?LogisticRegression  \n",
    "# C越小，懲罰越重"
   ]
  },
  {
   "cell_type": "code",
   "execution_count": 11,
   "id": "2162ccdb",
   "metadata": {},
   "outputs": [],
   "source": [
    "from sklearn.model_selection import train_test_split  "
   ]
  },
  {
   "cell_type": "markdown",
   "id": "e8743480",
   "metadata": {},
   "source": [
    "# LogisticRegressionCV is a logistic regression that uses cross validation."
   ]
  },
  {
   "cell_type": "code",
   "execution_count": 11,
   "id": "a2186ace",
   "metadata": {},
   "outputs": [],
   "source": [
    "from sklearn import linear_model, metrics"
   ]
  },
  {
   "cell_type": "code",
   "execution_count": 12,
   "id": "f6b4f81d",
   "metadata": {},
   "outputs": [],
   "source": [
    "logidtic_params1 = {\n",
    "    'Cs': 10,                    # C=1.0 # cs=10\n",
    "    'class_weight': None,        ###\n",
    "    'cv': None,                  #\n",
    "    'dual': False,               ###\n",
    "    'fit_intercept': True,       ###\n",
    "    'intercept_scaling': 1.0,    ###\n",
    "    'l1_ratios': None,           ###\n",
    "    'max_iter': 100,             ###\n",
    "    'multi_class': 'auto',       ###\n",
    "    'n_jobs': None,              ###\n",
    "    'penalty': 'l2',             ###\n",
    "    'random_state': 0,           # random_state=None\n",
    "    'refit': True,               # 'warm_start': True\n",
    "    'scoring': None,             #\n",
    "    'solver': 'lbfgs',           ###\n",
    "    'tol': 0.0001,               ###\n",
    "    'verbose': 0                 ###\n",
    "}"
   ]
  },
  {
   "cell_type": "code",
   "execution_count": 13,
   "id": "52b3f0e8",
   "metadata": {},
   "outputs": [
    {
     "data": {
      "text/plain": [
       "LogisticRegressionCV(random_state=0)"
      ]
     },
     "execution_count": 13,
     "metadata": {},
     "output_type": "execute_result"
    }
   ],
   "source": [
    "Xtrain = Xtrain.fillna(0)                             # 補 0\n",
    "Xtest = Xtest.fillna(0)                               # Logistic 不能有 NaN\n",
    "\n",
    "sc=StandardScaler()\n",
    "\n",
    "sc.fit(Xtrain)                                        # 先拆分出測試集，不要在整個數據集上做標準化，避免將測試集的信息引入到訓練集中\n",
    "\n",
    "x_train_nor=sc.transform(Xtrain)\n",
    "x_test_nor=sc.transform(Xtest)\n",
    "\n",
    "simple_regressor = linear_model.LogisticRegressionCV(**logidtic_params1 )\n",
    "simple_regressor.fit(X = x_train_nor, y= Ytrain)\n"
   ]
  },
  {
   "cell_type": "code",
   "execution_count": 14,
   "id": "6322c557",
   "metadata": {},
   "outputs": [
    {
     "name": "stdout",
     "output_type": "stream",
     "text": [
      "confusion_matrix: [[373832 106572]\n",
      " [144420 333095]]\n",
      "accuracy_score: 0.7379820214444018\n",
      "recall_score: 0.6975592389767861\n",
      "precision_score: 0.757607462011022\n",
      "f1_score: 0.7263443896631204\n",
      "roc_auc_score: 0.7992423033170807\n"
     ]
    }
   ],
   "source": [
    "predicted_values = simple_regressor.predict(x_train_nor)\n",
    "predicted_proba = simple_regressor.predict_proba(x_train_nor)[:,1]\n",
    "\n",
    "print(f'confusion_matrix: {metrics.confusion_matrix(Ytrain, predicted_values)}')\n",
    "print(f'accuracy_score: {metrics.accuracy_score(Ytrain, predicted_values)}')\n",
    "\n",
    "\n",
    "print(f'recall_score: {metrics.recall_score(Ytrain, predicted_values)}')\n",
    "print(f'precision_score: {metrics.precision_score(Ytrain, predicted_values)}')\n",
    "\n",
    "print(f'f1_score: {metrics.f1_score(Ytrain, predicted_values)}')\n",
    "\n",
    "print(f'roc_auc_score: {metrics.roc_auc_score(Ytrain, predicted_proba)}')"
   ]
  },
  {
   "cell_type": "code",
   "execution_count": 15,
   "id": "dd491a34",
   "metadata": {},
   "outputs": [
    {
     "data": {
      "text/plain": [
       "array([[0.60481803, 0.39518197],\n",
       "       [0.7928882 , 0.2071118 ],\n",
       "       [0.62471211, 0.37528789],\n",
       "       ...,\n",
       "       [0.15522285, 0.84477715],\n",
       "       [0.77675813, 0.22324187],\n",
       "       [0.09183715, 0.90816285]])"
      ]
     },
     "execution_count": 15,
     "metadata": {},
     "output_type": "execute_result"
    }
   ],
   "source": [
    "predictes_for_test = simple_regressor.predict_proba(x_test_nor)\n",
    "predictes_for_test"
   ]
  },
  {
   "cell_type": "code",
   "execution_count": 16,
   "id": "888d1bbb",
   "metadata": {},
   "outputs": [
    {
     "name": "stderr",
     "output_type": "stream",
     "text": [
      "[Parallel(n_jobs=1)]: Using backend SequentialBackend with 1 concurrent workers.\n",
      "[Parallel(n_jobs=1)]: Done   1 out of   1 | elapsed:    4.7s finished\n"
     ]
    },
    {
     "name": "stdout",
     "output_type": "stream",
     "text": [
      "0.507425029718713\n"
     ]
    }
   ],
   "source": [
    "# 不標準化\n",
    "# 直接跑不用 kfold \n",
    "\n",
    "Xtrain = Xtrain.fillna(0)                             # 補 0\n",
    "Xtest = Xtest.fillna(0)                               # Logistic 不能有 NaN\n",
    "\n",
    "data_train, data_test, target_train, target_test = train_test_split(Xtrain,\n",
    "                                                                    Ytrain,\n",
    "                                                                    test_size=0.2,\n",
    "                                                                    random_state=42)\n",
    "\n",
    "log_model = LogisticRegression(max_iter=10000,verbose=True,penalty='l2')\n",
    "\n",
    "log_model.fit(data_train,target_train)                # 放訓練!!\n",
    "\n",
    "# 印出係數\n",
    "# print(log_model.coef_ ,'\\n')\n",
    "\n",
    "# 印出截距\n",
    "# print(log_model.intercept_ ,'\\n' )\n",
    "\n",
    "# 機率分類判斷\n",
    "predictions = log_model.predict_proba(data_test)  # 分別給出各類預測機率\n",
    "\n",
    "score = roc_auc_score(target_test, predictions[:,-1])                # (957919,)\n",
    "print(score)\n"
   ]
  },
  {
   "cell_type": "code",
   "execution_count": 17,
   "id": "c7be726b",
   "metadata": {},
   "outputs": [
    {
     "data": {
      "text/plain": [
       "0.5081023165598509"
      ]
     },
     "execution_count": 17,
     "metadata": {},
     "output_type": "execute_result"
    }
   ],
   "source": [
    "predictions = log_model.predict_proba(data_train)\n",
    "roc_auc_score(target_train, predictions[:,-1])"
   ]
  },
  {
   "cell_type": "code",
   "execution_count": 18,
   "id": "2df069b5",
   "metadata": {},
   "outputs": [
    {
     "name": "stderr",
     "output_type": "stream",
     "text": [
      "[Parallel(n_jobs=1)]: Using backend SequentialBackend with 1 concurrent workers.\n",
      "[Parallel(n_jobs=1)]: Done   1 out of   1 | elapsed:    4.4s finished\n"
     ]
    },
    {
     "name": "stdout",
     "output_type": "stream",
     "text": [
      "0.507425029718713\n"
     ]
    }
   ],
   "source": [
    "# 不標準化 # 不用 kfold \n",
    "\n",
    "Xtrain = Xtrain.fillna(0)                             # 補 0\n",
    "Xtest = Xtest.fillna(0)                               # Logistic 不能有 NaN\n",
    "\n",
    "data_train, data_test, target_train, target_test = train_test_split(Xtrain, Ytrain, test_size=0.2,random_state=42)\n",
    "\n",
    "log_model = LogisticRegression(max_iter=10000,verbose=True,penalty='none')\n",
    "\n",
    "log_model.fit(data_train,target_train)                # 放訓練!!\n",
    "\n",
    "# 印出係數\n",
    "# print(log_model.coef_ ,'\\n')\n",
    "\n",
    "# 印出截距\n",
    "# print(log_model.intercept_ ,'\\n' )\n",
    "\n",
    "# 機率分類判斷\n",
    "predictions = log_model.predict_proba(data_test)  # 分別給出各類預測機率\n",
    "\n",
    "score = roc_auc_score(target_test, predictions[:,-1])                # (957919,)\n",
    "print(score)\n"
   ]
  },
  {
   "cell_type": "code",
   "execution_count": 19,
   "id": "fde64995",
   "metadata": {},
   "outputs": [
    {
     "data": {
      "text/plain": [
       "0.5081023165598509"
      ]
     },
     "execution_count": 19,
     "metadata": {},
     "output_type": "execute_result"
    }
   ],
   "source": [
    "predictions = log_model.predict_proba(data_train)\n",
    "roc_auc_score(target_train, predictions[:,-1])"
   ]
  },
  {
   "cell_type": "code",
   "execution_count": 20,
   "id": "d138946e",
   "metadata": {},
   "outputs": [
    {
     "name": "stderr",
     "output_type": "stream",
     "text": [
      "[Parallel(n_jobs=1)]: Using backend SequentialBackend with 1 concurrent workers.\n"
     ]
    },
    {
     "name": "stdout",
     "output_type": "stream",
     "text": [
      "[[-1.38949441e-02 -1.36094068e-02  2.27635932e-02  7.63523731e-03\n",
      "  -6.79164766e-03  1.55312391e-02  1.35601233e-02  2.99383341e-02\n",
      "   8.33095517e-03  1.03120184e-02  8.63603138e-03  1.50037288e-03\n",
      "   7.84105304e-03  1.33127948e-02 -1.48782403e-02  1.02940171e-02\n",
      "   8.71565907e-04 -1.87348074e-03  3.16818492e-03 -9.17938496e-03\n",
      "  -2.74806531e-02 -4.16746567e-03  8.48219473e-03 -1.29559501e-02\n",
      "  -1.14430446e-02  8.07698946e-04  6.48289949e-03  1.28365162e-02\n",
      "   4.14776288e-03  1.73774866e-02  2.78344803e-02 -2.13744569e-02\n",
      "  -1.17416905e-03 -4.44408402e-02  2.77623432e-02  1.93062661e-02\n",
      "  -5.11885478e-03 -1.73571252e-02  1.23767847e-02 -3.11657438e-03\n",
      "  -9.94939542e-04 -2.81393259e-03  6.14840279e-03 -7.52126023e-03\n",
      "  -3.10135109e-02 -1.38472459e-02 -2.11493791e-02  1.91737364e-02\n",
      "   1.82878100e-04  1.30488919e-02 -4.69808387e-03 -2.54086885e-02\n",
      "   7.74611981e-03 -7.12796516e-03  6.47259026e-03  3.57208094e-03\n",
      "  -3.30358587e-02  3.35715070e-04  4.22132714e-03 -4.48447753e-03\n",
      "   1.27006571e-02  2.08102470e-02 -5.59668021e-03  2.12887607e-03\n",
      "  -9.97813836e-03 -9.94464616e-04 -1.61259231e-03 -6.09756202e-03\n",
      "  -8.05646630e-03  6.75366358e-03  2.15420365e-02 -1.09987824e-03\n",
      "  -1.27901711e-02 -5.32141115e-04 -1.79107361e-03 -2.01621172e-03\n",
      "   1.61592981e-02  6.09978296e-03  2.09159102e-02  3.00181722e-03\n",
      "   5.70595804e-03 -5.84176941e-03  8.76002615e-03  1.25286590e-03\n",
      "   5.56652669e-03  1.14326201e-02  1.06807576e-02 -8.63254746e-04\n",
      "  -8.83598411e-03  8.96999671e-03 -7.28873690e-03  1.32476332e-02\n",
      "  -5.60457719e-03 -2.10814641e-03  2.60605446e-02  1.62280344e-02\n",
      "   5.38409620e-03  9.05704403e-03  5.81309640e-03  6.11867242e-03\n",
      "  -4.73089534e-04  1.58911381e-02 -1.33136751e-04  7.22538241e-03\n",
      "   4.66475069e-03  1.61663462e-02 -1.62220998e-02  1.36965430e-02\n",
      "  -1.45060844e-02 -1.14580392e-02  9.51332631e-03 -1.31309150e-02\n",
      "   1.39180542e-02  5.15551562e-03 -6.63350690e-03 -3.89449705e-03\n",
      "  -4.52658165e-03  7.83682541e-03  1.15667349e+00]] \n",
      "\n",
      "[0.06915153] \n",
      "\n",
      "0.7976887705220119\n"
     ]
    },
    {
     "name": "stderr",
     "output_type": "stream",
     "text": [
      "[Parallel(n_jobs=1)]: Done   1 out of   1 | elapsed:    0.9s finished\n"
     ]
    }
   ],
   "source": [
    "# 不用 kfold \n",
    "\n",
    "Xtrain = Xtrain.fillna(0)                             # 補 0\n",
    "Xtest = Xtest.fillna(0)                               # Logistic 不能有 NaN\n",
    "\n",
    "sc=StandardScaler()\n",
    "\n",
    "sc.fit(Xtrain)                                        # 先拆分出測試集，不要在整個數據集上做標準化，避免將測試集的信息引入到訓練集中\n",
    "\n",
    "x_train_nor=sc.transform(Xtrain)\n",
    "x_test_nor=sc.transform(Xtest)\n",
    "\n",
    "data_train, data_test, target_train, target_test = train_test_split(x_train_nor, Ytrain, test_size=0.2,random_state=42)\n",
    "\n",
    "log_model = LogisticRegression(max_iter=10000,verbose=True)\n",
    "\n",
    "log_model.fit(data_train,target_train)                # 放訓練!!\n",
    "\n",
    "# 印出係數\n",
    "print(log_model.coef_ ,'\\n')\n",
    "\n",
    "# 印出截距\n",
    "print(log_model.intercept_ ,'\\n' )\n",
    "\n",
    "# 機率分類判斷\n",
    "predictions = log_model.predict_proba(data_test)  # 分別給出各類預測機率\n",
    "\n",
    "score = roc_auc_score(target_test, predictions[:,-1])                # (957919,)\n",
    "print(score)\n"
   ]
  },
  {
   "cell_type": "code",
   "execution_count": 21,
   "id": "1f5f8d71",
   "metadata": {
    "scrolled": false
   },
   "outputs": [
    {
     "name": "stderr",
     "output_type": "stream",
     "text": [
      "0it [00:00, ?it/s][Parallel(n_jobs=1)]: Using backend SequentialBackend with 1 concurrent workers.\n",
      "[Parallel(n_jobs=1)]: Done   1 out of   1 | elapsed:    1.1s remaining:    0.0s\n",
      "[Parallel(n_jobs=1)]: Done   1 out of   1 | elapsed:    1.1s finished\n"
     ]
    },
    {
     "name": "stdout",
     "output_type": "stream",
     "text": [
      "\n",
      " Seed-24 | Fold-0 | OOF Score: 0.7988754756026479 \n",
      "\n"
     ]
    },
    {
     "name": "stderr",
     "output_type": "stream",
     "text": [
      "[Parallel(n_jobs=1)]: Using backend SequentialBackend with 1 concurrent workers.\n",
      "[Parallel(n_jobs=1)]: Done   1 out of   1 | elapsed:    1.6s remaining:    0.0s\n",
      "[Parallel(n_jobs=1)]: Done   1 out of   1 | elapsed:    1.6s finished\n"
     ]
    },
    {
     "name": "stdout",
     "output_type": "stream",
     "text": [
      "\n",
      " Seed-24 | Fold-1 | OOF Score: 0.7979791608674599 \n",
      "\n"
     ]
    },
    {
     "name": "stderr",
     "output_type": "stream",
     "text": [
      "[Parallel(n_jobs=1)]: Using backend SequentialBackend with 1 concurrent workers.\n",
      "[Parallel(n_jobs=1)]: Done   1 out of   1 | elapsed:    1.1s remaining:    0.0s\n",
      "[Parallel(n_jobs=1)]: Done   1 out of   1 | elapsed:    1.1s finished\n"
     ]
    },
    {
     "name": "stdout",
     "output_type": "stream",
     "text": [
      "\n",
      " Seed-24 | Fold-2 | OOF Score: 0.7995381326682295 \n",
      "\n"
     ]
    },
    {
     "name": "stderr",
     "output_type": "stream",
     "text": [
      "[Parallel(n_jobs=1)]: Using backend SequentialBackend with 1 concurrent workers.\n",
      "[Parallel(n_jobs=1)]: Done   1 out of   1 | elapsed:    1.1s remaining:    0.0s\n",
      "[Parallel(n_jobs=1)]: Done   1 out of   1 | elapsed:    1.1s finished\n"
     ]
    },
    {
     "name": "stdout",
     "output_type": "stream",
     "text": [
      "\n",
      " Seed-24 | Fold-3 | OOF Score: 0.8001113288358077 \n",
      "\n"
     ]
    },
    {
     "name": "stderr",
     "output_type": "stream",
     "text": [
      "[Parallel(n_jobs=1)]: Using backend SequentialBackend with 1 concurrent workers.\n",
      "[Parallel(n_jobs=1)]: Done   1 out of   1 | elapsed:    1.0s remaining:    0.0s\n",
      "[Parallel(n_jobs=1)]: Done   1 out of   1 | elapsed:    1.0s finished\n",
      "1it [00:49, 49.21s/it]"
     ]
    },
    {
     "name": "stdout",
     "output_type": "stream",
     "text": [
      "\n",
      " Seed-24 | Fold-4 | OOF Score: 0.7988395058403863 \n",
      "\n",
      "\n",
      " Seed: 24 | Aggregate OOF Score: 0.7990687207629061 \n",
      "\n",
      "\n"
     ]
    },
    {
     "name": "stderr",
     "output_type": "stream",
     "text": [
      "[Parallel(n_jobs=1)]: Using backend SequentialBackend with 1 concurrent workers.\n",
      "[Parallel(n_jobs=1)]: Done   1 out of   1 | elapsed:    1.2s remaining:    0.0s\n",
      "[Parallel(n_jobs=1)]: Done   1 out of   1 | elapsed:    1.2s finished\n"
     ]
    },
    {
     "name": "stdout",
     "output_type": "stream",
     "text": [
      "\n",
      " Seed-42 | Fold-0 | OOF Score: 0.7976887705220119 \n",
      "\n"
     ]
    },
    {
     "name": "stderr",
     "output_type": "stream",
     "text": [
      "[Parallel(n_jobs=1)]: Using backend SequentialBackend with 1 concurrent workers.\n",
      "[Parallel(n_jobs=1)]: Done   1 out of   1 | elapsed:    1.3s remaining:    0.0s\n",
      "[Parallel(n_jobs=1)]: Done   1 out of   1 | elapsed:    1.3s finished\n"
     ]
    },
    {
     "name": "stdout",
     "output_type": "stream",
     "text": [
      "\n",
      " Seed-42 | Fold-1 | OOF Score: 0.7997294098730139 \n",
      "\n"
     ]
    },
    {
     "name": "stderr",
     "output_type": "stream",
     "text": [
      "[Parallel(n_jobs=1)]: Using backend SequentialBackend with 1 concurrent workers.\n",
      "[Parallel(n_jobs=1)]: Done   1 out of   1 | elapsed:    1.6s remaining:    0.0s\n",
      "[Parallel(n_jobs=1)]: Done   1 out of   1 | elapsed:    1.6s finished\n"
     ]
    },
    {
     "name": "stdout",
     "output_type": "stream",
     "text": [
      "\n",
      " Seed-42 | Fold-2 | OOF Score: 0.7984193136313238 \n",
      "\n"
     ]
    },
    {
     "name": "stderr",
     "output_type": "stream",
     "text": [
      "[Parallel(n_jobs=1)]: Using backend SequentialBackend with 1 concurrent workers.\n",
      "[Parallel(n_jobs=1)]: Done   1 out of   1 | elapsed:    1.1s remaining:    0.0s\n",
      "[Parallel(n_jobs=1)]: Done   1 out of   1 | elapsed:    1.1s finished\n"
     ]
    },
    {
     "name": "stdout",
     "output_type": "stream",
     "text": [
      "\n",
      " Seed-42 | Fold-3 | OOF Score: 0.7998322419186739 \n",
      "\n"
     ]
    },
    {
     "name": "stderr",
     "output_type": "stream",
     "text": [
      "[Parallel(n_jobs=1)]: Using backend SequentialBackend with 1 concurrent workers.\n",
      "[Parallel(n_jobs=1)]: Done   1 out of   1 | elapsed:    1.0s remaining:    0.0s\n",
      "[Parallel(n_jobs=1)]: Done   1 out of   1 | elapsed:    1.0s finished\n",
      "2it [01:13, 36.78s/it]"
     ]
    },
    {
     "name": "stdout",
     "output_type": "stream",
     "text": [
      "\n",
      " Seed-42 | Fold-4 | OOF Score: 0.7997507316245783 \n",
      "\n",
      "\n",
      " Seed: 42 | Aggregate OOF Score: 0.7990840935139204 \n",
      "\n",
      "\n",
      "Aggregate OOF Score: 0.7990764071384132\n"
     ]
    },
    {
     "name": "stderr",
     "output_type": "stream",
     "text": [
      "\n"
     ]
    }
   ],
   "source": [
    "# 標準化 :為了避免偏向某個變數去做訓練\n",
    "\n",
    "Xtrain = Xtrain.fillna(0)                         # 補 0\n",
    "Xtest = Xtest.fillna(0)                           # Logistic 不能有 NaN\n",
    "\n",
    "sc=StandardScaler()\n",
    "sc.fit(Xtrain)                                    # 先拆分出測試集，不要在整個數據集上做標準化，避免將測試集的信息引入到訓練集中\n",
    "\n",
    "Xtest  = sc.transform(Xtest)                      ##### 預測時要用 transform 後的測試集去預測 !!!!!\n",
    "\n",
    "##### Set your configuration(配置) here!!\n",
    "\n",
    "FOLD = 5                                          # 切 5 分\n",
    "SEEDS = [24, 42]                                  # 要做幾次 K-fold ,這裡做 2 次\n",
    "\n",
    "counter = 0                                       # 整個迴圈的個數\n",
    "oof_score = 0                                     # oof_score /= float(counter)，整個 kfold 的平均分數，roc_auc_score                         \n",
    "\n",
    "##### here I use XGBoost to implement KFold, you may choose your model by your self\n",
    "y_pred_final_log = np.zeros((Xtest.shape[0], 1))  # 建 2維 0 陣列\n",
    "y_pred_meta_log = np.zeros((Xtrain.shape[0], 1))  \n",
    "\n",
    "##### your chosen seeds\n",
    "for sidx, seed in tqdm(enumerate(SEEDS)):         # enumerate(枚舉) : 看list物件，(0,24) 第一次 & (1,42) 第二次\n",
    "    seed_score = 0                                # 累積每次 kfold 完分數，後面拿去算每次的平均分數\n",
    "\n",
    "    ##### start KFold\n",
    "\n",
    "    kfold = KFold(n_splits=FOLD, shuffle=True, random_state=seed)   # shuffle : 打亂，第 n 次的 random_state \n",
    "  # kfold = StratifiedKFold(n_splits=FOLD, shuffle=True, random_state=seed) \n",
    "\n",
    "    for flod_idx, (train_idx, val_idx) in enumerate(kfold.split(Xtrain.values, Ytrain.values)): \n",
    "                                  # ('f1:f118' & 'claim') 分別對 data 跟 label 切出訓練 & 驗證集，後面 fit 用\n",
    "                                  # kfold.split : 生成 index 以將數據拆分為訓練集和測試集 \n",
    "                                  # KFold()方法中的 split()：split(a,b)：方法會根據折數對 a 和 b 進行劃分，返回相應數據的下標\n",
    "                                  # DF --> array , Xtrain.values (957919, 118)    \n",
    "        counter += 1              # 整個做到第 (kfold 裡切幾次*做幾次 kflod) 次 \n",
    "\n",
    "        ##### setting sub training data and validation data\n",
    "        train_x, train_y = Xtrain.iloc[train_idx], Ytrain.iloc[train_idx]     # 拿出切好的訓練 & 驗證集 (train, val)\n",
    "        val_x, val_y = Xtrain.iloc[val_idx], Ytrain.iloc[val_idx]             # K-Flod 做完\n",
    "\n",
    "############################################################################  # 以下以 Logistic 為例  ####################\n",
    "        ##### This is nothing to do with KFold (建)\n",
    "    \n",
    "        train_x=sc.transform(train_x)\n",
    "        val_x=sc.transform(val_x)\n",
    "\n",
    "        log_model = LogisticRegression(max_iter=10000,verbose=2)\n",
    "\n",
    "        log_model.fit(train_x,train_y)  \n",
    "        \n",
    "        ##### predict validation set and testing set      # 預測 驗證集 & 測試集\n",
    "        y_pred = log_model.predict_proba(val_x)[:,-1]            \n",
    "        y_pred_meta_log[val_idx] += np.array([y_pred]).T  # 第 1/5 份驗證集的預測，5次才會滿\n",
    "\n",
    "        y_pred_final_log += np.array(log_model.predict_proba(Xtest)[:,-1]).T.reshape((Xtest.shape[0], 1))  \n",
    "                                                          # 整個測試集的預測，一次就滿了，要弄回 2維 (493474, 1)\n",
    "\n",
    "#########################################################################################################################\n",
    "        \n",
    "        ##### calculate your metrics here\n",
    "        score = roc_auc_score(val_y, y_pred)              # 算 roc_auc 分數\n",
    "        oof_score += score                                # 把整個分數加到底\n",
    "        seed_score += score                               # 累積每次 kfold 完的分數\n",
    "\n",
    "        ##### metric logger (指標記錄器)\n",
    "        print(\"\\n Seed-{} | Fold-{} | OOF Score: {} \\n\".format(seed, flod_idx, score))    \n",
    "                                                          # 此次(24 & 42)，第 (flod_idx + 1) 個 kfold.split，評分\n",
    "\n",
    "    print(\"\\n Seed: {} | Aggregate OOF Score: {} \\n\\n\".format(seed, (seed_score / FOLD)))   \n",
    "                                                          # 此次 random_state，的平均指標分數\n",
    "\n",
    "y_pred_meta_log = y_pred_meta_log / float(len(SEEDS))  # 驗證集的預測 / 做幾次 kfold                      (平均一次驗證集)\n",
    "y_pred_final_log = y_pred_final_log / float(counter)   # 整個測試集的預測 / (kfold 裡切幾次*做幾次 kflod)  (平均一次測試集)\n",
    "oof_score /= float(counter)                            # (整個分數加到底 / 整個次數)，整個 kfold 的平均分數，roc_auc_score \n",
    "\n",
    "print(\"Aggregate OOF Score: {}\".format(oof_score))\n"
   ]
  },
  {
   "cell_type": "code",
   "execution_count": 22,
   "id": "def89104",
   "metadata": {},
   "outputs": [
    {
     "data": {
      "text/plain": [
       "array([[0.39518783],\n",
       "       [0.20711159],\n",
       "       [0.37528803],\n",
       "       ...,\n",
       "       [0.84477103],\n",
       "       [0.22325396],\n",
       "       [0.90815888]])"
      ]
     },
     "execution_count": 22,
     "metadata": {},
     "output_type": "execute_result"
    }
   ],
   "source": [
    "test_log = y_pred_final_log   # 測試集\n",
    "test_log"
   ]
  },
  {
   "cell_type": "markdown",
   "id": "4acf4b81",
   "metadata": {},
   "source": [
    "**confusion_matrix**"
   ]
  },
  {
   "cell_type": "code",
   "execution_count": 23,
   "id": "7e632f8c",
   "metadata": {},
   "outputs": [
    {
     "name": "stdout",
     "output_type": "stream",
     "text": [
      "0.7378786724138471\n"
     ]
    },
    {
     "data": {
      "image/png": "[encoded data removed]",
      "text/plain": [
       "<Figure size 864x360 with 2 Axes>"
      ]
     },
     "metadata": {
      "needs_background": "light"
     },
     "output_type": "display_data"
    }
   ],
   "source": [
    "np.set_printoptions(precision=2)   # 矩陣輸出 2 位\n",
    "\n",
    "cnf_matrix = confusion_matrix(Ytrain, np.round(y_pred_meta_log.ravel()) , labels=[0, 1])  # (957919,)，Series & array\n",
    "\n",
    "\n",
    "plt.figure(figsize=(12, 5))\n",
    "plot_confusion_matrix(cnf_matrix, classes=[0, 1])\n",
    "\n",
    "print((cnf_matrix[0,0] + cnf_matrix[1,1]) / sum(cnf_matrix).sum())\n"
   ]
  },
  {
   "cell_type": "code",
   "execution_count": 24,
   "id": "9485b25b",
   "metadata": {},
   "outputs": [
    {
     "name": "stdout",
     "output_type": "stream",
     "text": [
      "0.7377567518001369\n"
     ]
    },
    {
     "data": {
      "image/png": "[encoded data removed]",
      "text/plain": [
       "<Figure size 864x360 with 2 Axes>"
      ]
     },
     "metadata": {
      "needs_background": "light"
     },
     "output_type": "display_data"
    }
   ],
   "source": [
    "np.set_printoptions(precision=2)   # 矩陣輸出 2 位\n",
    "\n",
    "cnf_matrix = confusion_matrix(Ytrain, np.round(y_pred_meta_log.ravel()) , labels=[0, 1])  # (957919,)，Series & array\n",
    "cnf_matrix = cnf_matrix/cnf_matrix.sum(axis=1)[:,np.newaxis]                              # 轉百分比\n",
    "\n",
    "plt.figure(figsize=(12, 5))\n",
    "plot_confusion_matrix(cnf_matrix, classes=[0, 1])\n",
    "\n",
    "print((cnf_matrix[0,0] + cnf_matrix[1,1]) / sum(cnf_matrix).sum())\n"
   ]
  },
  {
   "cell_type": "markdown",
   "id": "8602f7dd",
   "metadata": {},
   "source": [
    "**KDE plot**"
   ]
  },
  {
   "cell_type": "code",
   "execution_count": 25,
   "id": "48ce8318",
   "metadata": {},
   "outputs": [
    {
     "data": {
      "text/plain": [
       "<AxesSubplot:ylabel='Density'>"
      ]
     },
     "execution_count": 25,
     "metadata": {},
     "output_type": "execute_result"
    },
    {
     "data": {
      "image/png": "[encoded data removed]",
      "text/plain": [
       "<Figure size 432x288 with 1 Axes>"
      ]
     },
     "metadata": {
      "needs_background": "light"
     },
     "output_type": "display_data"
    }
   ],
   "source": [
    "sns.kdeplot( y_pred_final_log.ravel() )"
   ]
  },
  {
   "cell_type": "markdown",
   "id": "5b55b789",
   "metadata": {},
   "source": [
    "## 看輸出類別 or 連續決定 \n",
    "\n",
    "**RandomForestClassifier**\n",
    "\n",
    "**RandomForestRegressor**\n",
    "\n",
    "**DecisionTreeClassifier**\n",
    "\n",
    "**DecisionTreeRegressor**"
   ]
  },
  {
   "cell_type": "markdown",
   "id": "4a7b3eba",
   "metadata": {},
   "source": [
    "# 2. Fit a CART model \n",
    "- https://scikit-learn.org/stable/modules/tree.html\n",
    "\n",
    "- https://www.796t.com/content/1546975998.html\n",
    "\n",
    "- https://ithelp.ithome.com.tw/articles/10187191"
   ]
  },
  {
   "cell_type": "markdown",
   "id": "d0758bb5",
   "metadata": {},
   "source": [
    "**屬於無母數回歸方法(non-parametric)：對資料長相的要求不像回歸模型（有母數法，parametric）嚴格，不需要假設資料的線性關係與常態分佈**"
   ]
  },
  {
   "cell_type": "markdown",
   "id": "74ad600e",
   "metadata": {},
   "source": [
    "- 樹模型的結構不造成影響\n",
    "```\n",
    "每個特徵被單獨處理，標準化(數值縮放)，特徵彼此間的分布不會改變\n",
    "特徵排序順序不變，那麼所屬的分支以及分裂點就不會有不同 == 對數值不關心\n",
    "所以幾乎不需要數據預處理\n",
    "```\n",
    "\n",
    "\n",
    "- 決策樹對變量的量綱差異、離群值的存在以及有偏分佈不太敏感\n",
    "\n",
    "\n",
    "- 如果某些分類佔優勢，決策樹將會創建一棵有偏差的樹。因此，建議在訓練之前，先抽樣使樣本均衡。\n",
    "\n",
    "\n",
    "- 有研究表明迴歸模型樣本量選擇中，最好各組樣本含量大於解釋變量數的20倍。\n"
   ]
  },
  {
   "cell_type": "code",
   "execution_count": 7,
   "id": "511fb171",
   "metadata": {},
   "outputs": [],
   "source": [
    "# K-Fold 資料\n",
    "\n",
    "# Xtrain = train_df.copy().loc[:,'f1':'f118']\n",
    "# Ytrain = train_df.copy().loc[:,'claim']\n",
    "# Xtest = test_df.copy()\n",
    "\n",
    "Xtrain = df_train.copy().loc[:,'f1':'Nanumber']\n",
    "Ytrain = df_train.copy().loc[:,'claim']\n",
    "Xtest = df_test.copy()\n"
   ]
  },
  {
   "cell_type": "code",
   "execution_count": 8,
   "id": "3b01a5b8",
   "metadata": {},
   "outputs": [],
   "source": [
    "from sklearn.tree import DecisionTreeClassifier\n",
    "from sklearn.tree import plot_tree"
   ]
  },
  {
   "cell_type": "code",
   "execution_count": 9,
   "id": "18e03949",
   "metadata": {},
   "outputs": [],
   "source": [
    "#?DecisionTreeClassifier"
   ]
  },
  {
   "cell_type": "code",
   "execution_count": 29,
   "id": "8bdbffa8",
   "metadata": {},
   "outputs": [
    {
     "name": "stdout",
     "output_type": "stream",
     "text": [
      "0.8000024689772632\n"
     ]
    }
   ],
   "source": [
    "# K-Fold 資料     # max_depth = 5\n",
    "\n",
    "# Xtrain = train_df.copy().loc[:,'f1':'f118']\n",
    "# Ytrain = train_df.copy().loc[:,'claim']\n",
    "# Xtest = test_df.copy()\n",
    "\n",
    "# 直接跑不用 kfold\n",
    "\n",
    "Xtrain = Xtrain.fillna(0)                                         # 補 0\n",
    "Xtest = Xtest.fillna(0)                                           # DTs 不能有 NaN\n",
    "\n",
    "data_train, data_test, target_train, target_test = train_test_split(Xtrain, Ytrain, test_size=0.2,random_state=24)\n",
    "\n",
    "tree_model = DecisionTreeClassifier(criterion=\"gini\", max_depth=5)\n",
    "tree_model.fit(data_train, target_train)                                               \n",
    "# y_new = tree_model.predict(Xtrain)                                         \n",
    "                                                                             \n",
    "# 機率分類判斷\n",
    "tree_predictions = tree_model.predict_proba(data_test) \n",
    "\n",
    "tree_score = roc_auc_score(target_test, tree_predictions[:,-1])   # (957919,)\n",
    "print(tree_score)\n"
   ]
  },
  {
   "cell_type": "code",
   "execution_count": 30,
   "id": "d7756f84",
   "metadata": {
    "scrolled": true
   },
   "outputs": [
    {
     "data": {
      "text/plain": [
       "[Text(418.5, 498.3, 'X[118] <= 0.5\\ngini = 0.5\\nsamples = 766335\\nvalue = [384621, 381714]'),\n",
       " Text(209.25, 407.70000000000005, 'X[33] <= 0.0\\ngini = 0.233\\nsamples = 287410\\nvalue = [248759, 38651]'),\n",
       " Text(104.625, 317.1, 'X[20] <= -499.245\\ngini = 0.24\\nsamples = 153617\\nvalue = [132159, 21458]'),\n",
       " Text(52.3125, 226.5, 'X[1] <= -0.0\\ngini = 0.274\\nsamples = 9106\\nvalue = [7615, 1491]'),\n",
       " Text(26.15625, 135.89999999999998, 'X[91] <= 5717.15\\ngini = 0.367\\nsamples = 404\\nvalue = [306, 98]'),\n",
       " Text(13.078125, 45.299999999999955, 'gini = 0.301\\nsamples = 293\\nvalue = [239, 54]'),\n",
       " Text(39.234375, 45.299999999999955, 'gini = 0.479\\nsamples = 111\\nvalue = [67, 44]'),\n",
       " Text(78.46875, 135.89999999999998, 'X[81] <= -1836550016.0\\ngini = 0.269\\nsamples = 8702\\nvalue = [7309, 1393]'),\n",
       " Text(65.390625, 45.299999999999955, 'gini = 0.464\\nsamples = 60\\nvalue = [38, 22]'),\n",
       " Text(91.546875, 45.299999999999955, 'gini = 0.267\\nsamples = 8642\\nvalue = [7271, 1371]'),\n",
       " Text(156.9375, 226.5, 'X[2] <= 390.31\\ngini = 0.238\\nsamples = 144511\\nvalue = [124544, 19967]'),\n",
       " Text(130.78125, 135.89999999999998, 'X[44] <= -0.004\\ngini = 0.224\\nsamples = 34777\\nvalue = [30306, 4471]'),\n",
       " Text(117.703125, 45.299999999999955, 'gini = 0.377\\nsamples = 151\\nvalue = [113, 38]'),\n",
       " Text(143.859375, 45.299999999999955, 'gini = 0.223\\nsamples = 34626\\nvalue = [30193, 4433]'),\n",
       " Text(183.09375, 135.89999999999998, 'X[31] <= 12164.0\\ngini = 0.243\\nsamples = 109734\\nvalue = [94238, 15496]'),\n",
       " Text(170.015625, 45.299999999999955, 'gini = 0.259\\nsamples = 25971\\nvalue = [21999, 3972]'),\n",
       " Text(196.171875, 45.299999999999955, 'gini = 0.237\\nsamples = 83763\\nvalue = [72239, 11524]'),\n",
       " Text(313.875, 317.1, 'X[34] <= -31197000368128.0\\ngini = 0.224\\nsamples = 133793\\nvalue = [116600, 17193]'),\n",
       " Text(261.5625, 226.5, 'X[69] <= -0.007\\ngini = 0.197\\nsamples = 13803\\nvalue = [12272, 1531]'),\n",
       " Text(235.40625, 135.89999999999998, 'X[4] <= 0.293\\ngini = 0.338\\nsamples = 195\\nvalue = [153, 42]'),\n",
       " Text(222.328125, 45.299999999999955, 'gini = 0.182\\nsamples = 89\\nvalue = [80, 9]'),\n",
       " Text(248.484375, 45.299999999999955, 'gini = 0.429\\nsamples = 106\\nvalue = [73, 33]'),\n",
       " Text(287.71875, 135.89999999999998, 'X[100] <= -0.928\\ngini = 0.195\\nsamples = 13608\\nvalue = [12119, 1489]'),\n",
       " Text(274.640625, 45.299999999999955, 'gini = 0.444\\nsamples = 6\\nvalue = [2, 4]'),\n",
       " Text(300.796875, 45.299999999999955, 'gini = 0.195\\nsamples = 13602\\nvalue = [12117, 1485]'),\n",
       " Text(366.1875, 226.5, 'X[2] <= 701.885\\ngini = 0.227\\nsamples = 119990\\nvalue = [104328, 15662]'),\n",
       " Text(340.03125, 135.89999999999998, 'X[8] <= 1.0070500013244416e+16\\ngini = 0.215\\nsamples = 44936\\nvalue = [39419, 5517]'),\n",
       " Text(326.953125, 45.299999999999955, 'gini = 0.215\\nsamples = 44930\\nvalue = [39418, 5512]'),\n",
       " Text(353.109375, 45.299999999999955, 'gini = 0.278\\nsamples = 6\\nvalue = [1, 5]'),\n",
       " Text(392.34375, 135.89999999999998, 'X[15] <= 7.723\\ngini = 0.234\\nsamples = 75054\\nvalue = [64909, 10145]'),\n",
       " Text(379.265625, 45.299999999999955, 'gini = 0.215\\nsamples = 16456\\nvalue = [14440, 2016]'),\n",
       " Text(405.421875, 45.299999999999955, 'gini = 0.239\\nsamples = 58598\\nvalue = [50469, 8129]'),\n",
       " Text(627.75, 407.70000000000005, 'X[118] <= 1.5\\ngini = 0.406\\nsamples = 478925\\nvalue = [135862, 343063]'),\n",
       " Text(523.125, 317.1, 'X[2] <= 203.435\\ngini = 0.486\\nsamples = 108395\\nvalue = [45282, 63113]'),\n",
       " Text(470.8125, 226.5, 'X[20] <= -1190.65\\ngini = 0.494\\nsamples = 18003\\nvalue = [7978, 10025]'),\n",
       " Text(444.65625, 135.89999999999998, 'X[103] <= -175.525\\ngini = 0.447\\nsamples = 529\\nvalue = [178, 351]'),\n",
       " Text(431.578125, 45.299999999999955, 'gini = 0.278\\nsamples = 18\\nvalue = [15, 3]'),\n",
       " Text(457.734375, 45.299999999999955, 'gini = 0.434\\nsamples = 511\\nvalue = [163, 348]'),\n",
       " Text(496.96875, 135.89999999999998, 'X[6] <= 284.8\\ngini = 0.494\\nsamples = 17474\\nvalue = [7800, 9674]'),\n",
       " Text(483.890625, 45.299999999999955, 'gini = 0.499\\nsamples = 3317\\nvalue = [1599, 1718]'),\n",
       " Text(510.046875, 45.299999999999955, 'gini = 0.492\\nsamples = 14157\\nvalue = [6201, 7956]'),\n",
       " Text(575.4375, 226.5, 'X[39] <= 0.0\\ngini = 0.485\\nsamples = 90392\\nvalue = [37304, 53088]'),\n",
       " Text(549.28125, 135.89999999999998, 'X[34] <= 156429998620672.0\\ngini = 0.493\\nsamples = 14168\\nvalue = [6223, 7945]'),\n",
       " Text(536.203125, 45.299999999999955, 'gini = 0.498\\nsamples = 3499\\nvalue = [1648, 1851]'),\n",
       " Text(562.359375, 45.299999999999955, 'gini = 0.49\\nsamples = 10669\\nvalue = [4575, 6094]'),\n",
       " Text(601.59375, 135.89999999999998, 'X[20] <= -243.01\\ngini = 0.483\\nsamples = 76224\\nvalue = [31081, 45143]'),\n",
       " Text(588.515625, 45.299999999999955, 'gini = 0.465\\nsamples = 6053\\nvalue = [2225, 3828]'),\n",
       " Text(614.671875, 45.299999999999955, 'gini = 0.484\\nsamples = 70171\\nvalue = [28856, 41315]'),\n",
       " Text(732.375, 317.1, 'X[95] <= -36.002\\ngini = 0.369\\nsamples = 370530\\nvalue = [90580, 279950]'),\n",
       " Text(680.0625, 226.5, 'X[39] <= -0.003\\ngini = 0.399\\nsamples = 26284\\nvalue = [7238, 19046]'),\n",
       " Text(653.90625, 135.89999999999998, 'X[16] <= 6.3\\ngini = 0.446\\nsamples = 1498\\nvalue = [502, 996]'),\n",
       " Text(640.828125, 45.299999999999955, 'gini = 0.478\\nsamples = 516\\nvalue = [204, 312]'),\n",
       " Text(666.984375, 45.299999999999955, 'gini = 0.423\\nsamples = 982\\nvalue = [298, 684]'),\n",
       " Text(706.21875, 135.89999999999998, 'X[14] <= 0.009\\ngini = 0.396\\nsamples = 24786\\nvalue = [6736, 18050]'),\n",
       " Text(693.140625, 45.299999999999955, 'gini = 0.382\\nsamples = 12404\\nvalue = [3192, 9212]'),\n",
       " Text(719.296875, 45.299999999999955, 'gini = 0.409\\nsamples = 12382\\nvalue = [3544, 8838]'),\n",
       " Text(784.6875, 226.5, 'X[34] <= -46618000752640.0\\ngini = 0.367\\nsamples = 344246\\nvalue = [83342, 260904]'),\n",
       " Text(758.53125, 135.89999999999998, 'X[69] <= 1.0\\ngini = 0.393\\nsamples = 27511\\nvalue = [7405, 20106]'),\n",
       " Text(745.453125, 45.299999999999955, 'gini = 0.387\\nsamples = 21324\\nvalue = [5587, 15737]'),\n",
       " Text(771.609375, 45.299999999999955, 'gini = 0.415\\nsamples = 6187\\nvalue = [1818, 4369]'),\n",
       " Text(810.84375, 135.89999999999998, 'X[118] <= 3.5\\ngini = 0.365\\nsamples = 316735\\nvalue = [75937, 240798]'),\n",
       " Text(797.765625, 45.299999999999955, 'gini = 0.358\\nsamples = 172497\\nvalue = [40260, 132237]'),\n",
       " Text(823.921875, 45.299999999999955, 'gini = 0.372\\nsamples = 144238\\nvalue = [35677, 108561]')]"
      ]
     },
     "execution_count": 30,
     "metadata": {},
     "output_type": "execute_result"
    },
    {
     "data": {
      "image/png": "[encoded data removed]",
      "text/plain": [
       "<Figure size 1080x720 with 1 Axes>"
      ]
     },
     "metadata": {
      "needs_background": "light"
     },
     "output_type": "display_data"
    }
   ],
   "source": [
    "# 畫圖\n",
    "\n",
    "plt.figure(figsize=(15,10))\n",
    "plot_tree(tree_model)\n"
   ]
  },
  {
   "cell_type": "code",
   "execution_count": 31,
   "id": "d89203c3",
   "metadata": {},
   "outputs": [
    {
     "name": "stdout",
     "output_type": "stream",
     "text": [
      "0.6470442505837063\n"
     ]
    }
   ],
   "source": [
    "# K-Fold 資料     # max_depth=60\n",
    "\n",
    "# Xtrain = train_df.copy().loc[:,'f1':'f118']\n",
    "# Ytrain = train_df.copy().loc[:,'claim']\n",
    "# Xtest = test_df.copy()\n",
    "\n",
    "# 直接跑不用 kfold\n",
    "\n",
    "Xtrain = Xtrain.fillna(0)                                         # 補 0\n",
    "Xtest = Xtest.fillna(0)                                           # DTs 不能有 NaN\n",
    "\n",
    "data_train, data_test, target_train, target_test = train_test_split(Xtrain, Ytrain, test_size=0.2,random_state=24)\n",
    "\n",
    "tree_model = DecisionTreeClassifier(criterion=\"gini\", max_depth=60)\n",
    "tree_model.fit(data_train, target_train)                                               \n",
    "# y_new = tree_model.predict(Xtrain)                                         \n",
    "                                                                             \n",
    "# 機率分類判斷\n",
    "tree_predictions = tree_model.predict_proba(data_test) \n",
    "\n",
    "tree_score = roc_auc_score(target_test, tree_predictions[:,-1])   # (957919,)\n",
    "print(tree_score)\n"
   ]
  },
  {
   "cell_type": "code",
   "execution_count": 12,
   "id": "b4eb3ea2",
   "metadata": {},
   "outputs": [
    {
     "name": "stdout",
     "output_type": "stream",
     "text": [
      "0.7978588968602722\n"
     ]
    }
   ],
   "source": [
    "# K-Fold 資料     # max_depth = 3\n",
    "\n",
    "# Xtrain = train_df.copy().loc[:,'f1':'f118']\n",
    "# Ytrain = train_df.copy().loc[:,'claim']\n",
    "# Xtest = test_df.copy()\n",
    "\n",
    "# 直接跑不用 kfold\n",
    "\n",
    "Xtrain = Xtrain.fillna(0)                                         # 補 0\n",
    "Xtest = Xtest.fillna(0)                                           # DTs 不能有 NaN\n",
    "\n",
    "data_train, data_test, target_train, target_test = train_test_split(Xtrain, Ytrain, test_size=0.2,random_state=24)\n",
    "\n",
    "tree_model = DecisionTreeClassifier(criterion=\"gini\", max_depth=3)\n",
    "tree_model.fit(data_train, target_train)                                               \n",
    "# y_new = tree_model.predict(Xtrain)                                         \n",
    "                                                                             \n",
    "# 機率分類判斷\n",
    "tree_predictions = tree_model.predict_proba(data_test) \n",
    "\n",
    "tree_score = roc_auc_score(target_test, tree_predictions[:,-1])   # (957919,)\n",
    "print(tree_score)\n"
   ]
  },
  {
   "cell_type": "code",
   "execution_count": 33,
   "id": "9f111e23",
   "metadata": {},
   "outputs": [
    {
     "data": {
      "text/html": [
       "<div>\n",
       "<style scoped>\n",
       "    .dataframe tbody tr th:only-of-type {\n",
       "        vertical-align: middle;\n",
       "    }\n",
       "\n",
       "    .dataframe tbody tr th {\n",
       "        vertical-align: top;\n",
       "    }\n",
       "\n",
       "    .dataframe thead th {\n",
       "        text-align: right;\n",
       "    }\n",
       "</style>\n",
       "<table border=\"1\" class=\"dataframe\">\n",
       "  <thead>\n",
       "    <tr style=\"text-align: right;\">\n",
       "      <th></th>\n",
       "      <th>f1</th>\n",
       "      <th>f2</th>\n",
       "      <th>f3</th>\n",
       "      <th>f4</th>\n",
       "      <th>f5</th>\n",
       "      <th>f6</th>\n",
       "      <th>f7</th>\n",
       "      <th>f8</th>\n",
       "      <th>f9</th>\n",
       "      <th>f10</th>\n",
       "      <th>...</th>\n",
       "      <th>f110</th>\n",
       "      <th>f111</th>\n",
       "      <th>f112</th>\n",
       "      <th>f113</th>\n",
       "      <th>f114</th>\n",
       "      <th>f115</th>\n",
       "      <th>f116</th>\n",
       "      <th>f117</th>\n",
       "      <th>f118</th>\n",
       "      <th>Nanumber</th>\n",
       "    </tr>\n",
       "    <tr>\n",
       "      <th>id</th>\n",
       "      <th></th>\n",
       "      <th></th>\n",
       "      <th></th>\n",
       "      <th></th>\n",
       "      <th></th>\n",
       "      <th></th>\n",
       "      <th></th>\n",
       "      <th></th>\n",
       "      <th></th>\n",
       "      <th></th>\n",
       "      <th></th>\n",
       "      <th></th>\n",
       "      <th></th>\n",
       "      <th></th>\n",
       "      <th></th>\n",
       "      <th></th>\n",
       "      <th></th>\n",
       "      <th></th>\n",
       "      <th></th>\n",
       "      <th></th>\n",
       "      <th></th>\n",
       "    </tr>\n",
       "  </thead>\n",
       "  <tbody>\n",
       "    <tr>\n",
       "      <th>76287</th>\n",
       "      <td>0.129080</td>\n",
       "      <td>0.19689</td>\n",
       "      <td>383.160</td>\n",
       "      <td>0.049140</td>\n",
       "      <td>0.232380</td>\n",
       "      <td>2.07490</td>\n",
       "      <td>2098.7000</td>\n",
       "      <td>67119.0</td>\n",
       "      <td>8.345700e+15</td>\n",
       "      <td>14279.00</td>\n",
       "      <td>...</td>\n",
       "      <td>-17.1070</td>\n",
       "      <td>1.9376</td>\n",
       "      <td>116.34000</td>\n",
       "      <td>-15.27600</td>\n",
       "      <td>50636.00</td>\n",
       "      <td>1.1394</td>\n",
       "      <td>2.797800e+17</td>\n",
       "      <td>1336.90</td>\n",
       "      <td>0.44329</td>\n",
       "      <td>0</td>\n",
       "    </tr>\n",
       "    <tr>\n",
       "      <th>268423</th>\n",
       "      <td>0.172410</td>\n",
       "      <td>0.40379</td>\n",
       "      <td>0.000</td>\n",
       "      <td>0.193150</td>\n",
       "      <td>0.255320</td>\n",
       "      <td>-0.78084</td>\n",
       "      <td>838.1100</td>\n",
       "      <td>26253.0</td>\n",
       "      <td>3.647900e+11</td>\n",
       "      <td>106.66</td>\n",
       "      <td>...</td>\n",
       "      <td>-0.4640</td>\n",
       "      <td>3.5594</td>\n",
       "      <td>-0.91807</td>\n",
       "      <td>11.14900</td>\n",
       "      <td>815.90</td>\n",
       "      <td>0.0000</td>\n",
       "      <td>5.543100e+16</td>\n",
       "      <td>146.61</td>\n",
       "      <td>1.21110</td>\n",
       "      <td>4</td>\n",
       "    </tr>\n",
       "    <tr>\n",
       "      <th>759710</th>\n",
       "      <td>0.087129</td>\n",
       "      <td>0.37322</td>\n",
       "      <td>7753.500</td>\n",
       "      <td>0.189680</td>\n",
       "      <td>0.476220</td>\n",
       "      <td>-1.34370</td>\n",
       "      <td>2158.0000</td>\n",
       "      <td>154080.0</td>\n",
       "      <td>2.713600e+13</td>\n",
       "      <td>1286.90</td>\n",
       "      <td>...</td>\n",
       "      <td>-42.8800</td>\n",
       "      <td>1.6331</td>\n",
       "      <td>-1.51820</td>\n",
       "      <td>-4.89060</td>\n",
       "      <td>16297.00</td>\n",
       "      <td>1.2577</td>\n",
       "      <td>2.311000e+17</td>\n",
       "      <td>1936.40</td>\n",
       "      <td>0.38484</td>\n",
       "      <td>0</td>\n",
       "    </tr>\n",
       "    <tr>\n",
       "      <th>407862</th>\n",
       "      <td>0.130930</td>\n",
       "      <td>0.42235</td>\n",
       "      <td>840.120</td>\n",
       "      <td>0.359770</td>\n",
       "      <td>0.386020</td>\n",
       "      <td>-0.74311</td>\n",
       "      <td>1069.9000</td>\n",
       "      <td>495910.0</td>\n",
       "      <td>0.000000e+00</td>\n",
       "      <td>8989.20</td>\n",
       "      <td>...</td>\n",
       "      <td>-10.3520</td>\n",
       "      <td>1.1832</td>\n",
       "      <td>0.00000</td>\n",
       "      <td>2.75440</td>\n",
       "      <td>2303.50</td>\n",
       "      <td>1.2713</td>\n",
       "      <td>-3.246500e+15</td>\n",
       "      <td>1154.50</td>\n",
       "      <td>0.50500</td>\n",
       "      <td>3</td>\n",
       "    </tr>\n",
       "    <tr>\n",
       "      <th>702064</th>\n",
       "      <td>0.100640</td>\n",
       "      <td>0.33895</td>\n",
       "      <td>36.752</td>\n",
       "      <td>0.121410</td>\n",
       "      <td>0.249640</td>\n",
       "      <td>2.96150</td>\n",
       "      <td>49.0500</td>\n",
       "      <td>368520.0</td>\n",
       "      <td>1.612000e+14</td>\n",
       "      <td>710.89</td>\n",
       "      <td>...</td>\n",
       "      <td>-13.7880</td>\n",
       "      <td>1.4813</td>\n",
       "      <td>0.00000</td>\n",
       "      <td>8.47470</td>\n",
       "      <td>7694.40</td>\n",
       "      <td>1.2687</td>\n",
       "      <td>7.589200e+16</td>\n",
       "      <td>1818.60</td>\n",
       "      <td>0.43702</td>\n",
       "      <td>2</td>\n",
       "    </tr>\n",
       "    <tr>\n",
       "      <th>...</th>\n",
       "      <td>...</td>\n",
       "      <td>...</td>\n",
       "      <td>...</td>\n",
       "      <td>...</td>\n",
       "      <td>...</td>\n",
       "      <td>...</td>\n",
       "      <td>...</td>\n",
       "      <td>...</td>\n",
       "      <td>...</td>\n",
       "      <td>...</td>\n",
       "      <td>...</td>\n",
       "      <td>...</td>\n",
       "      <td>...</td>\n",
       "      <td>...</td>\n",
       "      <td>...</td>\n",
       "      <td>...</td>\n",
       "      <td>...</td>\n",
       "      <td>...</td>\n",
       "      <td>...</td>\n",
       "      <td>...</td>\n",
       "      <td>...</td>\n",
       "    </tr>\n",
       "    <tr>\n",
       "      <th>478609</th>\n",
       "      <td>0.047503</td>\n",
       "      <td>0.35926</td>\n",
       "      <td>3754.700</td>\n",
       "      <td>0.376450</td>\n",
       "      <td>0.000118</td>\n",
       "      <td>2.82590</td>\n",
       "      <td>975.3700</td>\n",
       "      <td>1007700.0</td>\n",
       "      <td>1.196700e+13</td>\n",
       "      <td>6223.00</td>\n",
       "      <td>...</td>\n",
       "      <td>-4.1333</td>\n",
       "      <td>3.7459</td>\n",
       "      <td>0.76608</td>\n",
       "      <td>5.99530</td>\n",
       "      <td>6813.90</td>\n",
       "      <td>1.1452</td>\n",
       "      <td>2.027700e+17</td>\n",
       "      <td>772.85</td>\n",
       "      <td>1.27660</td>\n",
       "      <td>0</td>\n",
       "    </tr>\n",
       "    <tr>\n",
       "      <th>516439</th>\n",
       "      <td>0.091182</td>\n",
       "      <td>0.49819</td>\n",
       "      <td>1091.300</td>\n",
       "      <td>0.151000</td>\n",
       "      <td>0.380930</td>\n",
       "      <td>7.34900</td>\n",
       "      <td>1330.4000</td>\n",
       "      <td>269890.0</td>\n",
       "      <td>1.826500e+14</td>\n",
       "      <td>118.97</td>\n",
       "      <td>...</td>\n",
       "      <td>-19.9780</td>\n",
       "      <td>1.8891</td>\n",
       "      <td>41.44500</td>\n",
       "      <td>11.85200</td>\n",
       "      <td>-512.55</td>\n",
       "      <td>1.1570</td>\n",
       "      <td>2.180400e+17</td>\n",
       "      <td>2203.90</td>\n",
       "      <td>0.39213</td>\n",
       "      <td>0</td>\n",
       "    </tr>\n",
       "    <tr>\n",
       "      <th>211136</th>\n",
       "      <td>0.065780</td>\n",
       "      <td>0.16348</td>\n",
       "      <td>18492.000</td>\n",
       "      <td>0.174960</td>\n",
       "      <td>0.409120</td>\n",
       "      <td>1.12150</td>\n",
       "      <td>1131.8000</td>\n",
       "      <td>0.0</td>\n",
       "      <td>1.773700e+15</td>\n",
       "      <td>230.25</td>\n",
       "      <td>...</td>\n",
       "      <td>-2.0213</td>\n",
       "      <td>2.2908</td>\n",
       "      <td>-6.77860</td>\n",
       "      <td>15.15300</td>\n",
       "      <td>772.61</td>\n",
       "      <td>1.2025</td>\n",
       "      <td>9.614400e+16</td>\n",
       "      <td>1001.10</td>\n",
       "      <td>0.46472</td>\n",
       "      <td>2</td>\n",
       "    </tr>\n",
       "    <tr>\n",
       "      <th>899</th>\n",
       "      <td>0.132260</td>\n",
       "      <td>0.48610</td>\n",
       "      <td>-23.475</td>\n",
       "      <td>0.000000</td>\n",
       "      <td>0.388370</td>\n",
       "      <td>0.68206</td>\n",
       "      <td>-9.4767</td>\n",
       "      <td>1142800.0</td>\n",
       "      <td>5.428200e+13</td>\n",
       "      <td>2708.30</td>\n",
       "      <td>...</td>\n",
       "      <td>-8.0303</td>\n",
       "      <td>3.4480</td>\n",
       "      <td>-1.20890</td>\n",
       "      <td>0.64585</td>\n",
       "      <td>12736.00</td>\n",
       "      <td>0.0000</td>\n",
       "      <td>1.485500e+14</td>\n",
       "      <td>10374.00</td>\n",
       "      <td>0.81931</td>\n",
       "      <td>6</td>\n",
       "    </tr>\n",
       "    <tr>\n",
       "      <th>242082</th>\n",
       "      <td>0.097492</td>\n",
       "      <td>0.25914</td>\n",
       "      <td>2209.200</td>\n",
       "      <td>-0.000736</td>\n",
       "      <td>0.296690</td>\n",
       "      <td>3.04720</td>\n",
       "      <td>0.0000</td>\n",
       "      <td>510100.0</td>\n",
       "      <td>-6.815200e+12</td>\n",
       "      <td>45942.00</td>\n",
       "      <td>...</td>\n",
       "      <td>-10.3860</td>\n",
       "      <td>1.6106</td>\n",
       "      <td>2.69440</td>\n",
       "      <td>7.85770</td>\n",
       "      <td>36180.00</td>\n",
       "      <td>1.2023</td>\n",
       "      <td>-1.191100e+15</td>\n",
       "      <td>724.40</td>\n",
       "      <td>0.77592</td>\n",
       "      <td>1</td>\n",
       "    </tr>\n",
       "  </tbody>\n",
       "</table>\n",
       "<p>766335 rows × 119 columns</p>\n",
       "</div>"
      ],
      "text/plain": [
       "              f1       f2         f3        f4        f5       f6         f7  \\\n",
       "id                                                                             \n",
       "76287   0.129080  0.19689    383.160  0.049140  0.232380  2.07490  2098.7000   \n",
       "268423  0.172410  0.40379      0.000  0.193150  0.255320 -0.78084   838.1100   \n",
       "759710  0.087129  0.37322   7753.500  0.189680  0.476220 -1.34370  2158.0000   \n",
       "407862  0.130930  0.42235    840.120  0.359770  0.386020 -0.74311  1069.9000   \n",
       "702064  0.100640  0.33895     36.752  0.121410  0.249640  2.96150    49.0500   \n",
       "...          ...      ...        ...       ...       ...      ...        ...   \n",
       "478609  0.047503  0.35926   3754.700  0.376450  0.000118  2.82590   975.3700   \n",
       "516439  0.091182  0.49819   1091.300  0.151000  0.380930  7.34900  1330.4000   \n",
       "211136  0.065780  0.16348  18492.000  0.174960  0.409120  1.12150  1131.8000   \n",
       "899     0.132260  0.48610    -23.475  0.000000  0.388370  0.68206    -9.4767   \n",
       "242082  0.097492  0.25914   2209.200 -0.000736  0.296690  3.04720     0.0000   \n",
       "\n",
       "               f8            f9       f10  ...     f110    f111       f112  \\\n",
       "id                                         ...                               \n",
       "76287     67119.0  8.345700e+15  14279.00  ... -17.1070  1.9376  116.34000   \n",
       "268423    26253.0  3.647900e+11    106.66  ...  -0.4640  3.5594   -0.91807   \n",
       "759710   154080.0  2.713600e+13   1286.90  ... -42.8800  1.6331   -1.51820   \n",
       "407862   495910.0  0.000000e+00   8989.20  ... -10.3520  1.1832    0.00000   \n",
       "702064   368520.0  1.612000e+14    710.89  ... -13.7880  1.4813    0.00000   \n",
       "...           ...           ...       ...  ...      ...     ...        ...   \n",
       "478609  1007700.0  1.196700e+13   6223.00  ...  -4.1333  3.7459    0.76608   \n",
       "516439   269890.0  1.826500e+14    118.97  ... -19.9780  1.8891   41.44500   \n",
       "211136        0.0  1.773700e+15    230.25  ...  -2.0213  2.2908   -6.77860   \n",
       "899     1142800.0  5.428200e+13   2708.30  ...  -8.0303  3.4480   -1.20890   \n",
       "242082   510100.0 -6.815200e+12  45942.00  ... -10.3860  1.6106    2.69440   \n",
       "\n",
       "            f113      f114    f115          f116      f117     f118  Nanumber  \n",
       "id                                                                             \n",
       "76287  -15.27600  50636.00  1.1394  2.797800e+17   1336.90  0.44329         0  \n",
       "268423  11.14900    815.90  0.0000  5.543100e+16    146.61  1.21110         4  \n",
       "759710  -4.89060  16297.00  1.2577  2.311000e+17   1936.40  0.38484         0  \n",
       "407862   2.75440   2303.50  1.2713 -3.246500e+15   1154.50  0.50500         3  \n",
       "702064   8.47470   7694.40  1.2687  7.589200e+16   1818.60  0.43702         2  \n",
       "...          ...       ...     ...           ...       ...      ...       ...  \n",
       "478609   5.99530   6813.90  1.1452  2.027700e+17    772.85  1.27660         0  \n",
       "516439  11.85200   -512.55  1.1570  2.180400e+17   2203.90  0.39213         0  \n",
       "211136  15.15300    772.61  1.2025  9.614400e+16   1001.10  0.46472         2  \n",
       "899      0.64585  12736.00  0.0000  1.485500e+14  10374.00  0.81931         6  \n",
       "242082   7.85770  36180.00  1.2023 -1.191100e+15    724.40  0.77592         1  \n",
       "\n",
       "[766335 rows x 119 columns]"
      ]
     },
     "execution_count": 33,
     "metadata": {},
     "output_type": "execute_result"
    }
   ],
   "source": [
    "data_train"
   ]
  },
  {
   "cell_type": "code",
   "execution_count": 18,
   "id": "6e1a9167",
   "metadata": {
    "scrolled": false
   },
   "outputs": [
    {
     "data": {
      "text/plain": [
       "[Text(558.0, 713.475, 'Nanumber <= 0.5\\ngini = 0.5\\nsamples = 766335\\nvalue = [384621, 381714]'),\n",
       " Text(279.0, 509.625, 'f34 <= 0.0\\ngini = 0.233\\nsamples = 287410\\nvalue = [248759, 38651]'),\n",
       " Text(139.5, 305.775, 'f21 <= -499.245\\ngini = 0.24\\nsamples = 153617\\nvalue = [132159, 21458]'),\n",
       " Text(69.75, 101.92499999999995, 'gini = 0.274\\nsamples = 9106\\nvalue = [7615, 1491]'),\n",
       " Text(209.25, 101.92499999999995, 'gini = 0.238\\nsamples = 144511\\nvalue = [124544, 19967]'),\n",
       " Text(418.5, 305.775, 'f35 <= -31197000368128.0\\ngini = 0.224\\nsamples = 133793\\nvalue = [116600, 17193]'),\n",
       " Text(348.75, 101.92499999999995, 'gini = 0.197\\nsamples = 13803\\nvalue = [12272, 1531]'),\n",
       " Text(488.25, 101.92499999999995, 'gini = 0.227\\nsamples = 119990\\nvalue = [104328, 15662]'),\n",
       " Text(837.0, 509.625, 'Nanumber <= 1.5\\ngini = 0.406\\nsamples = 478925\\nvalue = [135862, 343063]'),\n",
       " Text(697.5, 305.775, 'f3 <= 203.435\\ngini = 0.486\\nsamples = 108395\\nvalue = [45282, 63113]'),\n",
       " Text(627.75, 101.92499999999995, 'gini = 0.494\\nsamples = 18003\\nvalue = [7978, 10025]'),\n",
       " Text(767.25, 101.92499999999995, 'gini = 0.485\\nsamples = 90392\\nvalue = [37304, 53088]'),\n",
       " Text(976.5, 305.775, 'f96 <= -36.002\\ngini = 0.369\\nsamples = 370530\\nvalue = [90580, 279950]'),\n",
       " Text(906.75, 101.92499999999995, 'gini = 0.399\\nsamples = 26284\\nvalue = [7238, 19046]'),\n",
       " Text(1046.25, 101.92499999999995, 'gini = 0.367\\nsamples = 344246\\nvalue = [83342, 260904]')]"
      ]
     },
     "execution_count": 18,
     "metadata": {},
     "output_type": "execute_result"
    },
    {
     "data": {
      "image/png": "[encoded data removed]",
      "text/plain": [
       "<Figure size 1440x1080 with 1 Axes>"
      ]
     },
     "metadata": {
      "needs_background": "light"
     },
     "output_type": "display_data"
    }
   ],
   "source": [
    "# 畫圖\n",
    "\n",
    "features = [column for column in Xtrain]\n",
    "plt.figure(figsize=(20,15))\n",
    "plot_tree(tree_model,feature_names=features) # feature_names = features，要是字串\n"
   ]
  },
  {
   "cell_type": "code",
   "execution_count": 35,
   "id": "6f2130f3",
   "metadata": {},
   "outputs": [
    {
     "name": "stdout",
     "output_type": "stream",
     "text": [
      "0.7968934329305992\n"
     ]
    }
   ],
   "source": [
    "# K-Fold 資料     # max_depth=2\n",
    "\n",
    "# Xtrain = train_df.copy().loc[:,'f1':'f118']\n",
    "# Ytrain = train_df.copy().loc[:,'claim']\n",
    "# Xtest = test_df.copy()\n",
    "\n",
    "# 直接跑不用 kfold\n",
    "\n",
    "Xtrain = Xtrain.fillna(0)                                         # 補 0\n",
    "Xtest = Xtest.fillna(0)                                           # DTs 不能有 NaN\n",
    "\n",
    "data_train, data_test, target_train, target_test = train_test_split(Xtrain, Ytrain, test_size=0.2,random_state=24)\n",
    "\n",
    "tree_model = DecisionTreeClassifier(criterion=\"gini\", max_depth=2)\n",
    "tree_model.fit(data_train, target_train)                                               \n",
    "# y_new = tree_model.predict(Xtrain)                                         \n",
    "                                                                             \n",
    "# 機率分類判斷\n",
    "tree_predictions = tree_model.predict_proba(data_test) \n",
    "\n",
    "tree_score = roc_auc_score(target_test, tree_predictions[:,-1])   # (957919,)\n",
    "print(tree_score)\n"
   ]
  },
  {
   "cell_type": "code",
   "execution_count": 36,
   "id": "2e697658",
   "metadata": {},
   "outputs": [
    {
     "name": "stderr",
     "output_type": "stream",
     "text": [
      "\r",
      "0it [00:00, ?it/s]"
     ]
    },
    {
     "name": "stdout",
     "output_type": "stream",
     "text": [
      "\n",
      " Seed-24 | Fold-0 | OOF Score: 0.6463768878472134 \n",
      "\n",
      "\n",
      " Seed-24 | Fold-1 | OOF Score: 0.6440064818662827 \n",
      "\n",
      "\n",
      " Seed-24 | Fold-2 | OOF Score: 0.6428249523356397 \n",
      "\n",
      "\n",
      " Seed-24 | Fold-3 | OOF Score: 0.6441684475902703 \n",
      "\n"
     ]
    },
    {
     "name": "stderr",
     "output_type": "stream",
     "text": [
      "\r",
      "1it [38:09, 2289.03s/it]"
     ]
    },
    {
     "name": "stdout",
     "output_type": "stream",
     "text": [
      "\n",
      " Seed-24 | Fold-4 | OOF Score: 0.6476577517294464 \n",
      "\n",
      "\n",
      " Seed: 24 | Aggregate OOF Score: 0.6450069042737705 \n",
      "\n",
      "\n",
      "\n",
      " Seed-42 | Fold-0 | OOF Score: 0.6440335228837116 \n",
      "\n",
      "\n",
      " Seed-42 | Fold-1 | OOF Score: 0.6439043507843777 \n",
      "\n",
      "\n",
      " Seed-42 | Fold-2 | OOF Score: 0.6421792109255211 \n",
      "\n",
      "\n",
      " Seed-42 | Fold-3 | OOF Score: 0.6455134408007909 \n",
      "\n"
     ]
    },
    {
     "name": "stderr",
     "output_type": "stream",
     "text": [
      "2it [1:12:34, 2177.49s/it]"
     ]
    },
    {
     "name": "stdout",
     "output_type": "stream",
     "text": [
      "\n",
      " Seed-42 | Fold-4 | OOF Score: 0.6473683788139545 \n",
      "\n",
      "\n",
      " Seed: 42 | Aggregate OOF Score: 0.6445997808416711 \n",
      "\n",
      "\n",
      "Aggregate OOF Score: 0.6448033425577209\n"
     ]
    },
    {
     "name": "stderr",
     "output_type": "stream",
     "text": [
      "\n"
     ]
    }
   ],
   "source": [
    "# max_depth = 60\n",
    "\n",
    "\n",
    "Xtrain = Xtrain.fillna(0)                                       # 補 0\n",
    "Xtest = Xtest.fillna(0)                                         # DTs 不能有 NaN\n",
    "\n",
    "##### Set your configuration(配置) here!!\n",
    "\n",
    "FOLD = 5                                          # 切 5 分\n",
    "SEEDS = [24, 42]                                  # 要做幾次 K-fold ,這裡做 2 次\n",
    "\n",
    "fet_imp = 0                                       # feature importance (not necessary)  # 看特徵重要性\n",
    "counter = 0                                       # 整個迴圈的個數\n",
    "oof_score = 0                                     # oof_score /= float(counter)，整個 kfold 的平均分數，roc_auc_score                         \n",
    "\n",
    "##### here I use XGBoost to implement KFold, you may choose your model by your self\n",
    "y_pred_final_tree = np.zeros((Xtest.shape[0], 1))  # 建 2維 0 陣列\n",
    "y_pred_meta_tree = np.zeros((Xtrain.shape[0], 1))  \n",
    "\n",
    "##### your chosen seeds\n",
    "for sidx, seed in tqdm(enumerate(SEEDS)):         # enumerate(枚舉) : 看list物件，(0,24) 第一次 & (1,42) 第二次\n",
    "    seed_score = 0                                # 累積每次 kfold 完分數，後面拿去算每次的平均分數\n",
    "\n",
    "    ##### start KFold\n",
    "\n",
    "    kfold = KFold(n_splits=FOLD, shuffle=True, random_state=seed)   # shuffle : 打亂，第 n 次的 random_state \n",
    "  # kfold = StratifiedKFold(n_splits=FOLD, shuffle=True, random_state=seed) \n",
    "\n",
    "    for flod_idx, (train_idx, val_idx) in enumerate(kfold.split(Xtrain.values, Ytrain.values)): \n",
    "                                  # ('f1:f118' & 'claim') 分別對 data 跟 label 切出訓練 & 驗證集，後面 fit 用\n",
    "                                  # kfold.split : 生成 index 以將數據拆分為訓練集和測試集 \n",
    "                                  # KFold()方法中的 split()：split(a,b)：方法會根據折數對 a 和 b 進行劃分，返回相應數據的下標\n",
    "                                  # DF --> array , Xtrain.values (957919, 118)    \n",
    "        counter += 1              # 整個做到第 (kfold 裡切幾次*做幾次 kflod) 次 \n",
    "\n",
    "        ##### setting sub training data and validation data\n",
    "        train_x, train_y = Xtrain.iloc[train_idx], Ytrain.iloc[train_idx]     # 拿出切好的訓練 & 驗證集 (train, val)\n",
    "        val_x, val_y = Xtrain.iloc[val_idx], Ytrain.iloc[val_idx]             # K-Flod 做完\n",
    "\n",
    "############################################################################  # 以下以 Decision Tree 為例  ##############\n",
    "        ##### This is nothing to do with KFold (建)\n",
    "\n",
    "        tree_model = DecisionTreeClassifier(criterion=\"gini\", max_depth=60)\n",
    "        tree_model.fit(train_x, train_y)\n",
    "        # y_new = tree_model.predict(Xtrain) \n",
    "\n",
    "        ##### predict validation set and testing set       # 預測 驗證集 & 測試集\n",
    "    \n",
    "        y_pred = tree_model.predict_proba(val_x)[:,-1]            \n",
    "        y_pred_meta_tree[val_idx] += np.array([y_pred]).T  # 第 1/5 份驗證集的預測，5次才會滿\n",
    "\n",
    "        y_pred_final_tree += np.array(tree_model.predict_proba(Xtest)[:,-1]).T.reshape((Xtest.shape[0], 1))  \n",
    "                                                           # 整個測試集的預測，一次就滿了，要弄回 2維 (493474, 1)\n",
    "\n",
    "########################################################################################################################            \n",
    "\n",
    "        ##### calculate your metrics here\n",
    "        fet_imp += tree_model.feature_importances_        # 樹模型特有，特徵用越多次越重要\n",
    "                                                          # model.feature_importances_ : 每次特徵的重要性(比例)，總和約為 1\n",
    "        score = roc_auc_score(val_y, y_pred)              # 算 roc_auc 分數\n",
    "        oof_score += score                                # 把整個分數加到底\n",
    "        seed_score += score                               # 累積每次 kfold 完的分數\n",
    "\n",
    "        ##### metric logger (指標記錄器)\n",
    "        print(\"\\n Seed-{} | Fold-{} | OOF Score: {} \\n\".format(seed, flod_idx, score))    \n",
    "                                                          # 此次(24 & 42)，第 (flod_idx + 1) 個 kfold.split，評分\n",
    "\n",
    "    print(\"\\n Seed: {} | Aggregate OOF Score: {} \\n\\n\".format(seed, (seed_score / FOLD)))   \n",
    "                                                          # 此次 random_state，的平均指標分數\n",
    "\n",
    "\n",
    "fet_imp = fet_imp / float(counter)                        # 整個 Kfold 中的特徵重要性(比例)，總和約為 1\n",
    "y_pred_meta_tree = y_pred_meta_tree / float(len(SEEDS))   # 驗證集的預測 / 做幾次 kfold                      (平均一次驗證集)\n",
    "y_pred_final_tree = y_pred_final_tree / float(counter)    # 整個測試集的預測 / (kfold 裡切幾次*做幾次 kflod)  (平均一次測試集)\n",
    "oof_score /= float(counter)                               # (整個分數加到底 / 整個次數)，整個 kfold 的平均分數，roc_auc_score \n",
    "\n",
    "print(\"Aggregate OOF Score: {}\".format(oof_score))\n"
   ]
  },
  {
   "cell_type": "code",
   "execution_count": 37,
   "id": "3ab916f9",
   "metadata": {},
   "outputs": [
    {
     "data": {
      "text/plain": [
       "array([[0.6 ],\n",
       "       [0.01],\n",
       "       [0.6 ],\n",
       "       ...,\n",
       "       [0.8 ],\n",
       "       [0.11],\n",
       "       [1.  ]])"
      ]
     },
     "execution_count": 37,
     "metadata": {},
     "output_type": "execute_result"
    }
   ],
   "source": [
    "dctdepth_60 = y_pred_final_tree   # 測試集\n",
    "dctdepth_60"
   ]
  },
  {
   "cell_type": "markdown",
   "id": "8fd77ef1",
   "metadata": {},
   "source": [
    "**confusion_matrix**"
   ]
  },
  {
   "cell_type": "code",
   "execution_count": 38,
   "id": "614ea2b6",
   "metadata": {},
   "outputs": [
    {
     "name": "stdout",
     "output_type": "stream",
     "text": [
      "0.6296795449302081\n"
     ]
    },
    {
     "data": {
      "image/png": "[encoded data removed]",
      "text/plain": [
       "<Figure size 864x360 with 2 Axes>"
      ]
     },
     "metadata": {
      "needs_background": "light"
     },
     "output_type": "display_data"
    }
   ],
   "source": [
    "np.set_printoptions(precision=2)   # 矩陣輸出 2 位\n",
    "\n",
    "cnf_matrix = confusion_matrix(Ytrain, np.round(y_pred_meta_tree.ravel()) , labels=[0, 1])  # (957919,)，Series & array\n",
    "\n",
    "\n",
    "plt.figure(figsize=(12, 5))\n",
    "plot_confusion_matrix(cnf_matrix, classes=[0, 1])\n",
    "\n",
    "print((cnf_matrix[0,0] + cnf_matrix[1,1]) / sum(cnf_matrix).sum())\n"
   ]
  },
  {
   "cell_type": "code",
   "execution_count": 39,
   "id": "56546aff",
   "metadata": {},
   "outputs": [
    {
     "name": "stdout",
     "output_type": "stream",
     "text": [
      "0.6292198904783762\n"
     ]
    },
    {
     "data": {
      "image/png": "[encoded data removed]",
      "text/plain": [
       "<Figure size 864x360 with 2 Axes>"
      ]
     },
     "metadata": {
      "needs_background": "light"
     },
     "output_type": "display_data"
    }
   ],
   "source": [
    "np.set_printoptions(precision=2)   # 矩陣輸出 2 位\n",
    "\n",
    "cnf_matrix = confusion_matrix(Ytrain, np.round(y_pred_meta_tree.ravel()) , labels=[0, 1])  # (957919,)，Series & array\n",
    "cnf_matrix = cnf_matrix/cnf_matrix.sum(axis=1)[:,np.newaxis]                               # 轉百分比\n",
    "\n",
    "plt.figure(figsize=(12, 5))\n",
    "plot_confusion_matrix(cnf_matrix, classes=[0, 1])\n",
    "\n",
    "print((cnf_matrix[0,0] + cnf_matrix[1,1]) / sum(cnf_matrix).sum())\n"
   ]
  },
  {
   "cell_type": "markdown",
   "id": "345cb435",
   "metadata": {},
   "source": [
    "**KDE plot**"
   ]
  },
  {
   "cell_type": "code",
   "execution_count": 40,
   "id": "3b42d6fc",
   "metadata": {},
   "outputs": [
    {
     "data": {
      "text/plain": [
       "<AxesSubplot:ylabel='Density'>"
      ]
     },
     "execution_count": 40,
     "metadata": {},
     "output_type": "execute_result"
    },
    {
     "data": {
      "image/png": "[encoded data removed]",
      "text/plain": [
       "<Figure size 432x288 with 1 Axes>"
      ]
     },
     "metadata": {
      "needs_background": "light"
     },
     "output_type": "display_data"
    }
   ],
   "source": [
    "sns.kdeplot( y_pred_final_tree.ravel() )"
   ]
  },
  {
   "cell_type": "code",
   "execution_count": 41,
   "id": "12db4fae",
   "metadata": {},
   "outputs": [
    {
     "name": "stderr",
     "output_type": "stream",
     "text": [
      "\r",
      "0it [00:00, ?it/s]"
     ]
    },
    {
     "name": "stdout",
     "output_type": "stream",
     "text": [
      "\n",
      " Seed-24 | Fold-0 | OOF Score: 0.8000024689772632 \n",
      "\n",
      "\n",
      " Seed-24 | Fold-1 | OOF Score: 0.7998571171556973 \n",
      "\n",
      "\n",
      " Seed-24 | Fold-2 | OOF Score: 0.8004317775749922 \n",
      "\n",
      "\n",
      " Seed-24 | Fold-3 | OOF Score: 0.8007965573386104 \n",
      "\n"
     ]
    },
    {
     "name": "stderr",
     "output_type": "stream",
     "text": [
      "\r",
      "1it [05:02, 302.90s/it]"
     ]
    },
    {
     "name": "stdout",
     "output_type": "stream",
     "text": [
      "\n",
      " Seed-24 | Fold-4 | OOF Score: 0.7994068534740038 \n",
      "\n",
      "\n",
      " Seed: 24 | Aggregate OOF Score: 0.8000989549041133 \n",
      "\n",
      "\n",
      "\n",
      " Seed-42 | Fold-0 | OOF Score: 0.7986493842043213 \n",
      "\n",
      "\n",
      " Seed-42 | Fold-1 | OOF Score: 0.800868873022804 \n",
      "\n",
      "\n",
      " Seed-42 | Fold-2 | OOF Score: 0.7993011674102101 \n",
      "\n",
      "\n",
      " Seed-42 | Fold-3 | OOF Score: 0.8009613011039297 \n",
      "\n"
     ]
    },
    {
     "name": "stderr",
     "output_type": "stream",
     "text": [
      "2it [10:06, 303.13s/it]"
     ]
    },
    {
     "name": "stdout",
     "output_type": "stream",
     "text": [
      "\n",
      " Seed-42 | Fold-4 | OOF Score: 0.8003615492041063 \n",
      "\n",
      "\n",
      " Seed: 42 | Aggregate OOF Score: 0.8000284549890744 \n",
      "\n",
      "\n",
      "Aggregate OOF Score: 0.8000637049465936\n"
     ]
    },
    {
     "name": "stderr",
     "output_type": "stream",
     "text": [
      "\n"
     ]
    }
   ],
   "source": [
    "# max_depth = 5\n",
    "\n",
    "\n",
    "Xtrain = Xtrain.fillna(0)                                       # 補 0\n",
    "Xtest = Xtest.fillna(0)                                         # DTs 不能有 NaN\n",
    "\n",
    "##### Set your configuration(配置) here!!\n",
    "\n",
    "FOLD = 5                                          # 切 5 分\n",
    "SEEDS = [24, 42]                                  # 要做幾次 K-fold ,這裡做 2 次\n",
    "\n",
    "fet_imp = 0                                       # feature importance (not necessary)  # 看特徵重要性\n",
    "counter = 0                                       # 整個迴圈的個數\n",
    "oof_score = 0                                     # oof_score /= float(counter)，整個 kfold 的平均分數，roc_auc_score                         \n",
    "\n",
    "##### here I use XGBoost to implement KFold, you may choose your model by your self\n",
    "y_pred_final_tree = np.zeros((Xtest.shape[0], 1))  # 建 2維 0 陣列\n",
    "y_pred_meta_tree = np.zeros((Xtrain.shape[0], 1))  \n",
    "\n",
    "##### your chosen seeds\n",
    "for sidx, seed in tqdm(enumerate(SEEDS)):         # enumerate(枚舉) : 看list物件，(0,24) 第一次 & (1,42) 第二次\n",
    "    seed_score = 0                                # 累積每次 kfold 完分數，後面拿去算每次的平均分數\n",
    "\n",
    "    ##### start KFold\n",
    "\n",
    "    kfold = KFold(n_splits=FOLD, shuffle=True, random_state=seed)   # shuffle : 打亂，第 n 次的 random_state \n",
    "  # kfold = StratifiedKFold(n_splits=FOLD, shuffle=True, random_state=seed) \n",
    "\n",
    "    for flod_idx, (train_idx, val_idx) in enumerate(kfold.split(Xtrain.values, Ytrain.values)): \n",
    "                                  # ('f1:f118' & 'claim') 分別對 data 跟 label 切出訓練 & 驗證集，後面 fit 用\n",
    "                                  # kfold.split : 生成 index 以將數據拆分為訓練集和測試集 \n",
    "                                  # KFold()方法中的 split()：split(a,b)：方法會根據折數對 a 和 b 進行劃分，返回相應數據的下標\n",
    "                                  # DF --> array , Xtrain.values (957919, 118)    \n",
    "        counter += 1              # 整個做到第 (kfold 裡切幾次*做幾次 kflod) 次 \n",
    "\n",
    "        ##### setting sub training data and validation data\n",
    "        train_x, train_y = Xtrain.iloc[train_idx], Ytrain.iloc[train_idx]     # 拿出切好的訓練 & 驗證集 (train, val)\n",
    "        val_x, val_y = Xtrain.iloc[val_idx], Ytrain.iloc[val_idx]             # K-Flod 做完\n",
    "\n",
    "############################################################################  # 以下以 Decision Tree 為例  ##############\n",
    "        ##### This is nothing to do with KFold (建)\n",
    "\n",
    "        tree_model = DecisionTreeClassifier(criterion=\"gini\", max_depth=5)\n",
    "        tree_model.fit(train_x, train_y)\n",
    "        # y_new = tree_model.predict(Xtrain) \n",
    "\n",
    "        ##### predict validation set and testing set       # 預測 驗證集 & 測試集\n",
    "    \n",
    "        y_pred = tree_model.predict_proba(val_x)[:,-1]            \n",
    "        y_pred_meta_tree[val_idx] += np.array([y_pred]).T  # 第 1/5 份驗證集的預測，5次才會滿\n",
    "\n",
    "        y_pred_final_tree += np.array(tree_model.predict_proba(Xtest)[:,-1]).T.reshape((Xtest.shape[0], 1))  \n",
    "                                                           # 整個測試集的預測，一次就滿了，要弄回 2維 (493474, 1)\n",
    "\n",
    "########################################################################################################################            \n",
    "\n",
    "        ##### calculate your metrics here\n",
    "        fet_imp += tree_model.feature_importances_        # 樹模型特有，特徵用越多次越重要\n",
    "                                                          # model.feature_importances_ : 每次特徵的重要性(比例)，總和約為 1\n",
    "        score = roc_auc_score(val_y, y_pred)              # 算 roc_auc 分數\n",
    "        oof_score += score                                # 把整個分數加到底\n",
    "        seed_score += score                               # 累積每次 kfold 完的分數\n",
    "\n",
    "        ##### metric logger (指標記錄器)\n",
    "        print(\"\\n Seed-{} | Fold-{} | OOF Score: {} \\n\".format(seed, flod_idx, score))    \n",
    "                                                          # 此次(24 & 42)，第 (flod_idx + 1) 個 kfold.split，評分\n",
    "\n",
    "    print(\"\\n Seed: {} | Aggregate OOF Score: {} \\n\\n\".format(seed, (seed_score / FOLD)))   \n",
    "                                                          # 此次 random_state，的平均指標分數\n",
    "\n",
    "\n",
    "fet_imp = fet_imp / float(counter)                        # 整個 Kfold 中的特徵重要性(比例)，總和約為 1\n",
    "y_pred_meta_tree = y_pred_meta_tree / float(len(SEEDS))   # 驗證集的預測 / 做幾次 kfold                      (平均一次驗證集)\n",
    "y_pred_final_tree = y_pred_final_tree / float(counter)    # 整個測試集的預測 / (kfold 裡切幾次*做幾次 kflod)  (平均一次測試集)\n",
    "oof_score /= float(counter)                               # (整個分數加到底 / 整個次數)，整個 kfold 的平均分數，roc_auc_score \n",
    "\n",
    "print(\"Aggregate OOF Score: {}\".format(oof_score))\n"
   ]
  },
  {
   "cell_type": "code",
   "execution_count": 42,
   "id": "67d5c96a",
   "metadata": {},
   "outputs": [
    {
     "data": {
      "text/plain": [
       "array([[0.58],\n",
       "       [0.13],\n",
       "       [0.6 ],\n",
       "       ...,\n",
       "       [0.76],\n",
       "       [0.12],\n",
       "       [0.75]])"
      ]
     },
     "execution_count": 42,
     "metadata": {},
     "output_type": "execute_result"
    }
   ],
   "source": [
    "max_depth_5 = y_pred_final_tree   # 測試集\n",
    "max_depth_5"
   ]
  },
  {
   "cell_type": "markdown",
   "id": "a3860f35",
   "metadata": {},
   "source": [
    "**confusion_matrix**"
   ]
  },
  {
   "cell_type": "code",
   "execution_count": 43,
   "id": "c3cc4f5b",
   "metadata": {},
   "outputs": [
    {
     "name": "stdout",
     "output_type": "stream",
     "text": [
      "0.7723116463918139\n"
     ]
    },
    {
     "data": {
      "image/png": "[encoded data removed]",
      "text/plain": [
       "<Figure size 864x360 with 2 Axes>"
      ]
     },
     "metadata": {
      "needs_background": "light"
     },
     "output_type": "display_data"
    }
   ],
   "source": [
    "np.set_printoptions(precision=2)   # 矩陣輸出 2 位\n",
    "\n",
    "cnf_matrix = confusion_matrix(Ytrain, np.round(y_pred_meta_tree.ravel()) , labels=[0, 1])  # (957919,)，Series & array\n",
    "\n",
    "plt.figure(figsize=(12, 5))\n",
    "plot_confusion_matrix(cnf_matrix, classes=[0, 1])\n",
    "\n",
    "print((cnf_matrix[0,0] + cnf_matrix[1,1]) / sum(cnf_matrix).sum())\n"
   ]
  },
  {
   "cell_type": "code",
   "execution_count": 44,
   "id": "743f016d",
   "metadata": {},
   "outputs": [
    {
     "name": "stdout",
     "output_type": "stream",
     "text": [
      "0.7726888508924672\n"
     ]
    },
    {
     "data": {
      "image/png": "[encoded data removed]",
      "text/plain": [
       "<Figure size 864x360 with 2 Axes>"
      ]
     },
     "metadata": {
      "needs_background": "light"
     },
     "output_type": "display_data"
    }
   ],
   "source": [
    "np.set_printoptions(precision=2)   # 矩陣輸出 2 位\n",
    "\n",
    "cnf_matrix = confusion_matrix(Ytrain, np.round(y_pred_meta_tree.ravel()) , labels=[0, 1])  # (957919,)，Series & array\n",
    "cnf_matrix = cnf_matrix/cnf_matrix.sum(axis=1)[:,np.newaxis]                               # 轉百分比\n",
    "\n",
    "plt.figure(figsize=(12, 5))\n",
    "plot_confusion_matrix(cnf_matrix, classes=[0, 1])\n",
    "\n",
    "print((cnf_matrix[0,0] + cnf_matrix[1,1]) / sum(cnf_matrix).sum())\n"
   ]
  },
  {
   "cell_type": "markdown",
   "id": "4f479e42",
   "metadata": {},
   "source": [
    "**KDE plot**"
   ]
  },
  {
   "cell_type": "code",
   "execution_count": 45,
   "id": "26ef5ebd",
   "metadata": {},
   "outputs": [
    {
     "data": {
      "text/plain": [
       "<AxesSubplot:ylabel='Density'>"
      ]
     },
     "execution_count": 45,
     "metadata": {},
     "output_type": "execute_result"
    },
    {
     "data": {
      "image/png": "[encoded data removed]",
      "text/plain": [
       "<Figure size 432x288 with 1 Axes>"
      ]
     },
     "metadata": {
      "needs_background": "light"
     },
     "output_type": "display_data"
    }
   ],
   "source": [
    "sns.kdeplot( max_depth_5.ravel() )"
   ]
  },
  {
   "cell_type": "code",
   "execution_count": 46,
   "id": "1abe6cc1",
   "metadata": {
    "scrolled": true
   },
   "outputs": [
    {
     "data": {
      "text/plain": [
       "[Text(150.95892857142857, 199.32, 'X[118] <= 0.5\\ngini = 0.5\\nsamples = 766336\\nvalue = [384319, 382017]'),\n",
       " Text(62.775, 163.07999999999998, 'X[34] <= -29039000551424.0\\ngini = 0.234\\nsamples = 287635\\nvalue = [248675, 38960]'),\n",
       " Text(29.892857142857142, 126.83999999999999, 'X[52] <= 124.175\\ngini = 0.208\\nsamples = 29745\\nvalue = [26239, 3506]'),\n",
       " Text(23.914285714285715, 90.6, 'X[56] <= -0.001\\ngini = 0.208\\nsamples = 29741\\nvalue = [26239, 3502]'),\n",
       " Text(11.957142857142857, 54.359999999999985, 'X[109] <= -73.677\\ngini = 0.225\\nsamples = 11396\\nvalue = [9926, 1470]'),\n",
       " Text(5.978571428571429, 18.119999999999976, 'gini = 0.36\\nsamples = 187\\nvalue = [143, 44]'),\n",
       " Text(17.935714285714287, 18.119999999999976, 'gini = 0.222\\nsamples = 11209\\nvalue = [9783, 1426]'),\n",
       " Text(35.871428571428574, 54.359999999999985, 'X[0] <= 0.006\\ngini = 0.197\\nsamples = 18345\\nvalue = [16313, 2032]'),\n",
       " Text(29.892857142857142, 18.119999999999976, 'gini = 0.265\\nsamples = 1083\\nvalue = [913, 170]'),\n",
       " Text(41.85, 18.119999999999976, 'gini = 0.192\\nsamples = 17262\\nvalue = [15400, 1862]'),\n",
       " Text(35.871428571428574, 90.6, 'gini = 0.0\\nsamples = 4\\nvalue = [0, 4]'),\n",
       " Text(95.65714285714286, 126.83999999999999, 'X[33] <= -0.0\\ngini = 0.237\\nsamples = 257890\\nvalue = [222436, 35454]'),\n",
       " Text(71.74285714285715, 90.6, 'X[44] <= 0.002\\ngini = 0.246\\nsamples = 125269\\nvalue = [107288, 17981]'),\n",
       " Text(59.785714285714285, 54.359999999999985, 'X[69] <= -0.003\\ngini = 0.264\\nsamples = 27201\\nvalue = [22953, 4248]'),\n",
       " Text(53.80714285714286, 18.119999999999976, 'gini = 0.3\\nsamples = 3660\\nvalue = [2988, 672]'),\n",
       " Text(65.76428571428572, 18.119999999999976, 'gini = 0.258\\nsamples = 23541\\nvalue = [19965, 3576]'),\n",
       " Text(83.7, 54.359999999999985, 'X[39] <= -0.0\\ngini = 0.241\\nsamples = 98068\\nvalue = [84335, 13733]'),\n",
       " Text(77.72142857142858, 18.119999999999976, 'gini = 0.215\\nsamples = 14225\\nvalue = [12486, 1739]'),\n",
       " Text(89.67857142857143, 18.119999999999976, 'gini = 0.245\\nsamples = 83843\\nvalue = [71849, 11994]'),\n",
       " Text(119.57142857142857, 90.6, 'X[44] <= -0.0\\ngini = 0.229\\nsamples = 132621\\nvalue = [115148, 17473]'),\n",
       " Text(107.61428571428571, 54.359999999999985, 'X[6] <= 4946.25\\ngini = 0.254\\nsamples = 14846\\nvalue = [12634, 2212]'),\n",
       " Text(101.63571428571429, 18.119999999999976, 'gini = 0.253\\nsamples = 14824\\nvalue = [12623, 2201]'),\n",
       " Text(113.59285714285714, 18.119999999999976, 'gini = 0.5\\nsamples = 22\\nvalue = [11, 11]'),\n",
       " Text(131.52857142857144, 54.359999999999985, 'X[39] <= 0.982\\ngini = 0.226\\nsamples = 117775\\nvalue = [102514, 15261]'),\n",
       " Text(125.55, 18.119999999999976, 'gini = 0.222\\nsamples = 104450\\nvalue = [91136, 13314]'),\n",
       " Text(137.50714285714287, 18.119999999999976, 'gini = 0.25\\nsamples = 13325\\nvalue = [11378, 1947]'),\n",
       " Text(239.14285714285714, 163.07999999999998, 'X[118] <= 1.5\\ngini = 0.406\\nsamples = 478701\\nvalue = [135644, 343057]'),\n",
       " Text(191.31428571428572, 126.83999999999999, 'X[20] <= -89.601\\ngini = 0.486\\nsamples = 108105\\nvalue = [45066, 63039]'),\n",
       " Text(167.4, 90.6, 'X[44] <= -0.002\\ngini = 0.472\\nsamples = 9467\\nvalue = [3604, 5863]'),\n",
       " Text(155.44285714285715, 54.359999999999985, 'X[90] <= 0.501\\ngini = 0.395\\nsamples = 543\\nvalue = [147, 396]'),\n",
       " Text(149.46428571428572, 18.119999999999976, 'gini = 0.377\\nsamples = 508\\nvalue = [128, 380]'),\n",
       " Text(161.42142857142858, 18.119999999999976, 'gini = 0.496\\nsamples = 35\\nvalue = [19, 16]'),\n",
       " Text(179.35714285714286, 54.359999999999985, 'X[2] <= 6440.8\\ngini = 0.475\\nsamples = 8924\\nvalue = [3457, 5467]'),\n",
       " Text(173.37857142857143, 18.119999999999976, 'gini = 0.479\\nsamples = 7168\\nvalue = [2852, 4316]'),\n",
       " Text(185.3357142857143, 18.119999999999976, 'gini = 0.452\\nsamples = 1756\\nvalue = [605, 1151]'),\n",
       " Text(215.22857142857143, 90.6, 'X[2] <= 183.785\\ngini = 0.487\\nsamples = 98638\\nvalue = [41462, 57176]'),\n",
       " Text(203.27142857142857, 54.359999999999985, 'X[6] <= 284.865\\ngini = 0.494\\nsamples = 15573\\nvalue = [6950, 8623]'),\n",
       " Text(197.29285714285714, 18.119999999999976, 'gini = 0.5\\nsamples = 2947\\nvalue = [1434, 1513]'),\n",
       " Text(209.25, 18.119999999999976, 'gini = 0.492\\nsamples = 12626\\nvalue = [5516, 7110]'),\n",
       " Text(227.18571428571428, 54.359999999999985, 'X[34] <= -124189998579712.0\\ngini = 0.486\\nsamples = 83065\\nvalue = [34512, 48553]'),\n",
       " Text(221.20714285714286, 18.119999999999976, 'gini = 0.499\\nsamples = 3031\\nvalue = [1445, 1586]'),\n",
       " Text(233.1642857142857, 18.119999999999976, 'gini = 0.485\\nsamples = 80034\\nvalue = [33067, 46967]'),\n",
       " Text(286.9714285714286, 126.83999999999999, 'X[34] <= -100979999506432.0\\ngini = 0.369\\nsamples = 370596\\nvalue = [90578, 280018]'),\n",
       " Text(263.0571428571429, 90.6, 'X[69] <= -0.001\\ngini = 0.406\\nsamples = 17329\\nvalue = [4908, 12421]'),\n",
       " Text(251.1, 54.359999999999985, 'X[48] <= -1.552\\ngini = 0.375\\nsamples = 3546\\nvalue = [886, 2660]'),\n",
       " Text(245.12142857142857, 18.119999999999976, 'gini = 0.198\\nsamples = 9\\nvalue = [8, 1]'),\n",
       " Text(257.0785714285714, 18.119999999999976, 'gini = 0.373\\nsamples = 3537\\nvalue = [878, 2659]'),\n",
       " Text(275.01428571428573, 54.359999999999985, 'X[73] <= 6476950142976.0\\ngini = 0.413\\nsamples = 13783\\nvalue = [4022, 9761]'),\n",
       " Text(269.0357142857143, 18.119999999999976, 'gini = 0.413\\nsamples = 13763\\nvalue = [4007, 9756]'),\n",
       " Text(280.99285714285713, 18.119999999999976, 'gini = 0.375\\nsamples = 20\\nvalue = [15, 5]'),\n",
       " Text(310.8857142857143, 90.6, 'X[95] <= 10.012\\ngini = 0.367\\nsamples = 353267\\nvalue = [85670, 267597]'),\n",
       " Text(298.92857142857144, 54.359999999999985, 'X[6] <= 21.295\\ngini = 0.388\\nsamples = 45518\\nvalue = [11973, 33545]'),\n",
       " Text(292.95, 18.119999999999976, 'gini = 0.421\\nsamples = 3515\\nvalue = [1059, 2456]'),\n",
       " Text(304.90714285714284, 18.119999999999976, 'gini = 0.385\\nsamples = 42003\\nvalue = [10914, 31089]'),\n",
       " Text(322.84285714285716, 54.359999999999985, 'X[39] <= -0.003\\ngini = 0.364\\nsamples = 307749\\nvalue = [73697, 234052]'),\n",
       " Text(316.8642857142857, 18.119999999999976, 'gini = 0.394\\nsamples = 16841\\nvalue = [4546, 12295]'),\n",
       " Text(328.82142857142856, 18.119999999999976, 'gini = 0.362\\nsamples = 290908\\nvalue = [69151, 221757]')]"
      ]
     },
     "execution_count": 46,
     "metadata": {},
     "output_type": "execute_result"
    },
    {
     "data": {
      "image/png": "[encoded data removed]",
      "text/plain": [
       "<Figure size 432x288 with 1 Axes>"
      ]
     },
     "metadata": {
      "needs_background": "light"
     },
     "output_type": "display_data"
    }
   ],
   "source": [
    "# 畫圖     # max_depth = 5\n",
    "\n",
    "plot_tree(tree_model)\n"
   ]
  },
  {
   "cell_type": "code",
   "execution_count": 47,
   "id": "78782977",
   "metadata": {},
   "outputs": [
    {
     "data": {
      "image/png": "[encoded data removed]",
      "text/plain": [
       "<Figure size 576x288 with 2 Axes>"
      ]
     },
     "metadata": {
      "needs_background": "light"
     },
     "output_type": "display_data"
    }
   ],
   "source": [
    "fig = plt.figure(figsize=(8,4))\n",
    "axs = fig.subplots(1,2)\n",
    "\n",
    "# plt.figure(1)\n",
    "# plt.figure(2)"
   ]
  },
  {
   "cell_type": "code",
   "execution_count": 48,
   "id": "9f40af70",
   "metadata": {},
   "outputs": [],
   "source": [
    "test_log1 = pd.DataFrame(test_log)\n",
    "max_depth_51 = pd.DataFrame(max_depth_5)\n"
   ]
  },
  {
   "cell_type": "code",
   "execution_count": 49,
   "id": "c5032ca2",
   "metadata": {},
   "outputs": [
    {
     "data": {
      "text/html": [
       "<div>\n",
       "<style scoped>\n",
       "    .dataframe tbody tr th:only-of-type {\n",
       "        vertical-align: middle;\n",
       "    }\n",
       "\n",
       "    .dataframe tbody tr th {\n",
       "        vertical-align: top;\n",
       "    }\n",
       "\n",
       "    .dataframe thead th {\n",
       "        text-align: right;\n",
       "    }\n",
       "</style>\n",
       "<table border=\"1\" class=\"dataframe\">\n",
       "  <thead>\n",
       "    <tr style=\"text-align: right;\">\n",
       "      <th></th>\n",
       "      <th>id</th>\n",
       "      <th>Logistic</th>\n",
       "      <th>dctdepth_5</th>\n",
       "    </tr>\n",
       "  </thead>\n",
       "  <tbody>\n",
       "    <tr>\n",
       "      <th>0</th>\n",
       "      <td>957919</td>\n",
       "      <td>0.395188</td>\n",
       "      <td>0.583207</td>\n",
       "    </tr>\n",
       "    <tr>\n",
       "      <th>1</th>\n",
       "      <td>957920</td>\n",
       "      <td>0.207112</td>\n",
       "      <td>0.129017</td>\n",
       "    </tr>\n",
       "    <tr>\n",
       "      <th>2</th>\n",
       "      <td>957921</td>\n",
       "      <td>0.375288</td>\n",
       "      <td>0.595605</td>\n",
       "    </tr>\n",
       "    <tr>\n",
       "      <th>3</th>\n",
       "      <td>957922</td>\n",
       "      <td>0.263373</td>\n",
       "      <td>0.144138</td>\n",
       "    </tr>\n",
       "    <tr>\n",
       "      <th>4</th>\n",
       "      <td>957923</td>\n",
       "      <td>0.285499</td>\n",
       "      <td>0.151109</td>\n",
       "    </tr>\n",
       "    <tr>\n",
       "      <th>...</th>\n",
       "      <td>...</td>\n",
       "      <td>...</td>\n",
       "      <td>...</td>\n",
       "    </tr>\n",
       "    <tr>\n",
       "      <th>493469</th>\n",
       "      <td>1451388</td>\n",
       "      <td>0.581088</td>\n",
       "      <td>0.762203</td>\n",
       "    </tr>\n",
       "    <tr>\n",
       "      <th>493470</th>\n",
       "      <td>1451389</td>\n",
       "      <td>0.216424</td>\n",
       "      <td>0.129017</td>\n",
       "    </tr>\n",
       "    <tr>\n",
       "      <th>493471</th>\n",
       "      <td>1451390</td>\n",
       "      <td>0.844771</td>\n",
       "      <td>0.757146</td>\n",
       "    </tr>\n",
       "    <tr>\n",
       "      <th>493472</th>\n",
       "      <td>1451391</td>\n",
       "      <td>0.223254</td>\n",
       "      <td>0.123806</td>\n",
       "    </tr>\n",
       "    <tr>\n",
       "      <th>493473</th>\n",
       "      <td>1451392</td>\n",
       "      <td>0.908159</td>\n",
       "      <td>0.752278</td>\n",
       "    </tr>\n",
       "  </tbody>\n",
       "</table>\n",
       "<p>493474 rows × 3 columns</p>\n",
       "</div>"
      ],
      "text/plain": [
       "             id  Logistic  dctdepth_5\n",
       "0        957919  0.395188    0.583207\n",
       "1        957920  0.207112    0.129017\n",
       "2        957921  0.375288    0.595605\n",
       "3        957922  0.263373    0.144138\n",
       "4        957923  0.285499    0.151109\n",
       "...         ...       ...         ...\n",
       "493469  1451388  0.581088    0.762203\n",
       "493470  1451389  0.216424    0.129017\n",
       "493471  1451390  0.844771    0.757146\n",
       "493472  1451391  0.223254    0.123806\n",
       "493473  1451392  0.908159    0.752278\n",
       "\n",
       "[493474 rows x 3 columns]"
      ]
     },
     "execution_count": 49,
     "metadata": {},
     "output_type": "execute_result"
    }
   ],
   "source": [
    "logdct = pd.concat(((Xtest.reset_index().iloc[:,0],test_log1, max_depth_51)), axis = 'columns')  # 需要轉 dataframe\n",
    "logdct.columns = ['id','Logistic','dctdepth_5']\n",
    "logdct"
   ]
  },
  {
   "cell_type": "code",
   "execution_count": 50,
   "id": "336e007e",
   "metadata": {},
   "outputs": [],
   "source": [
    "# logdct.to_csv(\"C:/Users/user/Desktop/logdct_hat.csv\") "
   ]
  }
 ],
 "metadata": {
  "kernelspec": {
   "display_name": "Python 3",
   "language": "python",
   "name": "python3"
  },
  "language_info": {
   "codemirror_mode": {
    "name": "ipython",
    "version": 3
   },
   "file_extension": ".py",
   "mimetype": "text/x-python",
   "name": "python",
   "nbconvert_exporter": "python",
   "pygments_lexer": "ipython3",
   "version": "3.8.8"
  }
 },
 "nbformat": 4,
 "nbformat_minor": 5
}
