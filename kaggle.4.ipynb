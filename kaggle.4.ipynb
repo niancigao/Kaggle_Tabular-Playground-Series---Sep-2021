{
 "cells": [
  {
   "cell_type": "markdown",
   "id": "a94ddec0",
   "metadata": {},
   "source": [
    "```\n",
    "記得加上na 數量的新feat (也可以加na 數量std)，你們必須統一 CV 的分配\n",
    "\n",
    "念慈: (your model response should be probability instead of classification label) \n",
    "1. Fit a Logistic regression model (Select K by CV) \n",
    "2. Fit a CART model \n",
    "3. Fit a Random Forest model \n",
    "\n",
    "永鴻: \n",
    "1. Hyperparameter tuning and feature engineering of LightGBM (AUC should be > 0.81) \n",
    "2. LightGBM Cross Validation (you may write it from scratch) \n",
    "\n",
    "語謙: \n",
    "1. Hyperparameter tuning and feature engineering of XGBoost (AUC should be > 0.81) \n",
    "2. XGBoost Cross Validation (you may write it from scratch) \n",
    "\n",
    "TO DO: 你們做完後合力做的事情\n",
    "1. Voting: (XGBoost + LightGBM + CART + Random Forest + Logistic Regression) \n",
    "2. KDE plot of each model (XGBoost, LightGBM, CART, Random Forest, Logistic Regression) \n",
    "3. Heatmap of each model (XGBoost, LightGBM, CART, Random Forest, Logistic Regression) \n",
    "4. Fit a CatBoost model \n",
    "```\n",
    "CatBoost : https://ithelp.ithome.com.tw/articles/10275263\n",
    "```\n",
    "5. Power Averaging each model (if the correlation of heatmap > threshold (0.95))\n",
    "```"
   ]
  },
  {
   "cell_type": "markdown",
   "id": "145b1864",
   "metadata": {},
   "source": [
    "**看變數分布**\n",
    "- sns.displot( df [ 'f1' ] ,bins=50,kde=True )\n",
    "- sns.kdeplot( df [ 'f1' ] )\n",
    "- sns.histplot(transform_data, kde=True)\n",
    "\n",
    "- plt.show()"
   ]
  },
  {
   "cell_type": "markdown",
   "id": "94eb2743",
   "metadata": {},
   "source": [
    "# 核密度估計(Kernel Density Estimation)\n",
    "\n",
    "- 直方圖缺陷 : 結果易受到長條寬度的影響，bin太少時，視覺上就與原先圖形非常不相似、不準確\n",
    "\n",
    "\n",
    "- 核密度估計與直方圖密切相關，但可以通過使用合適的核賦予其平滑性或連續性等屬性\n",
    "\n",
    "\n",
    "- 核函數：uniform、triangular、biweight、triweight、Epanechnikov、normal 等\n",
    "\n",
    "\n",
    "- 平滑算法使用高斯核，所以估計的密度曲線可以擴展到對特定數據集沒有意義的值"
   ]
  },
  {
   "cell_type": "markdown",
   "id": "52789875",
   "metadata": {},
   "source": [
    "**核函數(Kernel function)**\n",
    "\n",
    "- 機率密度函數，表達隨機變數落在特定值的可能性\n",
    "\n",
    "\n",
    "- 核函數具有對稱的性質，且在中心點位置皆是波峰\n",
    "\n",
    "\n",
    "**核密度估計(Kernel Density Estimation)**\n",
    "\n",
    "- $f_n(x) \\;=\\; \\frac{1}{n h}\\;\\sum^{n}_{i=1}\\;K(\\frac{x-x_i}{h})$\n",
    "```\n",
    "K : 核函數，類似權重的效果\n",
    "h : 帶寬，用來控制密度分布的平滑程度，數值越大，則折線圖越平滑\n",
    "逐一計算 x 與任一樣本 xi 的距離，最後除以全部樣本數 n，就可以計算出可能性是多少\n",
    "再把可能性的結果帶入核函數\n",
    "```\n",
    "\n",
    "- $K(x) \\;=\\; \\frac{1}{\\sqrt{2\\pi}}\\;exp(-\\frac{x^2}{2})$ , 這裡為高斯函數 , 扮演類似權重的作用\n",
    "\n",
    "\n",
    "- 用來估計未知的機率密度函數。\n",
    "- 核心思想是，如果數據點距離所要求的 x 平均起來很近的話，那這個x出現的概率就很大\n",
    "- 而這個距離的計算是引進核函數來做為權重，就類似將距離轉換為概率的意思，但中心思想不變\n",
    "\n",
    "來源 : https://medium.com/qiubingcheng/%E7%99%BD%E8%A9%B1%E8%A7%A3%E9%87%8B%E6%A0%B8%E5%AF%86%E5%BA%A6%E4%BC%B0%E8%A8%88-kernel-density-estimation-18c4913f0b6a"
   ]
  },
  {
   "cell_type": "markdown",
   "id": "9d9e161d",
   "metadata": {},
   "source": [
    "- 機器學習常犯錯的十件事 : https://ithelp.ithome.com.tw/articles/10279778"
   ]
  },
  {
   "cell_type": "code",
   "execution_count": 1,
   "id": "b33e9fee",
   "metadata": {},
   "outputs": [],
   "source": [
    "import pandas as pd\n",
    "import matplotlib.pyplot as plt\n",
    "import seaborn as sns\n",
    "import numpy as np\n",
    "\n",
    "##### (評分指標)\n",
    "from sklearn.metrics import roc_auc_score, confusion_matrix\n",
    "\n",
    "##### 由多種方法組成，在各種迭代器中用於計算快速且代碼高效的解決方案\n",
    "import itertools                        # 用在 confusion matrix\n",
    "\n",
    "##### Progress bar (進度條)\n",
    "from tqdm import tqdm\n",
    "\n",
    "##### KFOLD\n",
    "from sklearn.model_selection import KFold\n"
   ]
  },
  {
   "cell_type": "markdown",
   "id": "de5a18b0",
   "metadata": {},
   "source": [
    "## confusion matrix 圖的配置，把矩陣化成圖"
   ]
  },
  {
   "cell_type": "code",
   "execution_count": 2,
   "id": "3e8a71a1",
   "metadata": {},
   "outputs": [],
   "source": [
    "##### you may import itertools\n",
    "\n",
    "def plot_confusion_matrix(cm, classes):\n",
    "\n",
    "    plt.imshow(cm, interpolation='nearest', cmap=plt.cm.Blues)   # interpolation : 插值 \n",
    "    plt.title('Confusion matrix', fontweight='bold', pad=15)     # 字體重量 :'bold'(粗體), pad : 標題放置距離\n",
    "    \n",
    "    plt.colorbar()\n",
    "    tick_marks = np.arange(len(classes))                # classes : list，的長度，的 array，X 的位置\n",
    "    plt.xticks(tick_marks, classes, rotation=0)         # xticks : 把坐標軸變成自己想要的樣子，類似覆蓋，覆蓋長度要和原來坐標長度一致\n",
    "    plt.yticks(tick_marks, classes)                     # rotation=0 : 以度為單位的角度\n",
    "                                                        # rotation='vertical' : 跟座標垂直\n",
    "    \n",
    "    thresh = cm.max() / 2.                              # threshold (臨界點)\n",
    "    for i, j in itertools.product(range(cm.shape[0]), range(cm.shape[1])):\n",
    "                                                        # itertools.product : 兩個集合的笛卡爾積，定義為所有有序對 (a, b) 的集合\n",
    "                                                        # ex : (0,0)、(0,1)、(1,0)、(1,1)\n",
    "        plt.text(j, i, format(cm[i, j], 'g'),           # 'd' 十進制整數，輸出以 10 為底的數字，細節 : help('FORMATTING')\n",
    "                 horizontalalignment=\"center\",          # 水平對齊 {'center', 'right', 'left'}\n",
    "                 color=\"white\" if cm[i, j] > thresh else \"black\")\n",
    "                                                        # 數字大於 threshold (臨界點)，給白色，因為 Blues 是淺藍到深\n",
    "                                                        # 'g' 浮點數 & 整數 ...\n",
    "    plt.ylabel('True label', fontweight='bold')\n",
    "    plt.xlabel('Predicted label', fontweight='bold')\n",
    "    plt.tight_layout()                                  # 調整子圖之間和周圍的填充\n",
    " "
   ]
  },
  {
   "cell_type": "code",
   "execution_count": 3,
   "id": "b7c88b19",
   "metadata": {},
   "outputs": [
    {
     "data": {
      "text/html": [
       "<div>\n",
       "<style scoped>\n",
       "    .dataframe tbody tr th:only-of-type {\n",
       "        vertical-align: middle;\n",
       "    }\n",
       "\n",
       "    .dataframe tbody tr th {\n",
       "        vertical-align: top;\n",
       "    }\n",
       "\n",
       "    .dataframe thead th {\n",
       "        text-align: right;\n",
       "    }\n",
       "</style>\n",
       "<table border=\"1\" class=\"dataframe\">\n",
       "  <thead>\n",
       "    <tr style=\"text-align: right;\">\n",
       "      <th></th>\n",
       "      <th>f1</th>\n",
       "      <th>f2</th>\n",
       "      <th>f3</th>\n",
       "      <th>f4</th>\n",
       "      <th>f5</th>\n",
       "      <th>f6</th>\n",
       "      <th>f7</th>\n",
       "      <th>f8</th>\n",
       "      <th>f9</th>\n",
       "      <th>f10</th>\n",
       "      <th>...</th>\n",
       "      <th>f111</th>\n",
       "      <th>f112</th>\n",
       "      <th>f113</th>\n",
       "      <th>f114</th>\n",
       "      <th>f115</th>\n",
       "      <th>f116</th>\n",
       "      <th>f117</th>\n",
       "      <th>f118</th>\n",
       "      <th>Nanumber</th>\n",
       "      <th>claim</th>\n",
       "    </tr>\n",
       "    <tr>\n",
       "      <th>id</th>\n",
       "      <th></th>\n",
       "      <th></th>\n",
       "      <th></th>\n",
       "      <th></th>\n",
       "      <th></th>\n",
       "      <th></th>\n",
       "      <th></th>\n",
       "      <th></th>\n",
       "      <th></th>\n",
       "      <th></th>\n",
       "      <th></th>\n",
       "      <th></th>\n",
       "      <th></th>\n",
       "      <th></th>\n",
       "      <th></th>\n",
       "      <th></th>\n",
       "      <th></th>\n",
       "      <th></th>\n",
       "      <th></th>\n",
       "      <th></th>\n",
       "      <th></th>\n",
       "    </tr>\n",
       "  </thead>\n",
       "  <tbody>\n",
       "    <tr>\n",
       "      <th>0</th>\n",
       "      <td>0.10859</td>\n",
       "      <td>0.004314</td>\n",
       "      <td>-37.566</td>\n",
       "      <td>0.017364</td>\n",
       "      <td>0.28915</td>\n",
       "      <td>-10.25100</td>\n",
       "      <td>135.12</td>\n",
       "      <td>168900.0</td>\n",
       "      <td>3.992400e+14</td>\n",
       "      <td>86.489</td>\n",
       "      <td>...</td>\n",
       "      <td>1.7482</td>\n",
       "      <td>1.90960</td>\n",
       "      <td>-7.11570</td>\n",
       "      <td>4378.80</td>\n",
       "      <td>1.2096</td>\n",
       "      <td>8.613400e+14</td>\n",
       "      <td>140.1</td>\n",
       "      <td>1.01770</td>\n",
       "      <td>1</td>\n",
       "      <td>1</td>\n",
       "    </tr>\n",
       "    <tr>\n",
       "      <th>1</th>\n",
       "      <td>0.10090</td>\n",
       "      <td>0.299610</td>\n",
       "      <td>11822.000</td>\n",
       "      <td>0.276500</td>\n",
       "      <td>0.45970</td>\n",
       "      <td>-0.83733</td>\n",
       "      <td>1721.90</td>\n",
       "      <td>119810.0</td>\n",
       "      <td>3.874100e+15</td>\n",
       "      <td>9953.600</td>\n",
       "      <td>...</td>\n",
       "      <td>4.1684</td>\n",
       "      <td>0.34808</td>\n",
       "      <td>4.14200</td>\n",
       "      <td>913.23</td>\n",
       "      <td>1.2464</td>\n",
       "      <td>7.575100e+15</td>\n",
       "      <td>1861.0</td>\n",
       "      <td>0.28359</td>\n",
       "      <td>0</td>\n",
       "      <td>0</td>\n",
       "    </tr>\n",
       "    <tr>\n",
       "      <th>2</th>\n",
       "      <td>0.17803</td>\n",
       "      <td>-0.006980</td>\n",
       "      <td>907.270</td>\n",
       "      <td>0.272140</td>\n",
       "      <td>0.45948</td>\n",
       "      <td>0.17327</td>\n",
       "      <td>2298.00</td>\n",
       "      <td>360650.0</td>\n",
       "      <td>1.224500e+13</td>\n",
       "      <td>15827.000</td>\n",
       "      <td>...</td>\n",
       "      <td>1.2042</td>\n",
       "      <td>0.26290</td>\n",
       "      <td>8.13120</td>\n",
       "      <td>45119.00</td>\n",
       "      <td>1.1764</td>\n",
       "      <td>3.218100e+14</td>\n",
       "      <td>3838.2</td>\n",
       "      <td>0.40690</td>\n",
       "      <td>5</td>\n",
       "      <td>1</td>\n",
       "    </tr>\n",
       "    <tr>\n",
       "      <th>3</th>\n",
       "      <td>0.15236</td>\n",
       "      <td>0.007259</td>\n",
       "      <td>780.100</td>\n",
       "      <td>0.025179</td>\n",
       "      <td>0.51947</td>\n",
       "      <td>7.49140</td>\n",
       "      <td>112.51</td>\n",
       "      <td>259490.0</td>\n",
       "      <td>7.781400e+13</td>\n",
       "      <td>-36.837</td>\n",
       "      <td>...</td>\n",
       "      <td>2.0694</td>\n",
       "      <td>0.79631</td>\n",
       "      <td>-16.33600</td>\n",
       "      <td>4952.40</td>\n",
       "      <td>1.1784</td>\n",
       "      <td>4.533000e+12</td>\n",
       "      <td>4889.1</td>\n",
       "      <td>0.51486</td>\n",
       "      <td>2</td>\n",
       "      <td>1</td>\n",
       "    </tr>\n",
       "    <tr>\n",
       "      <th>4</th>\n",
       "      <td>0.11623</td>\n",
       "      <td>0.502900</td>\n",
       "      <td>-109.150</td>\n",
       "      <td>0.297910</td>\n",
       "      <td>0.34490</td>\n",
       "      <td>-0.40932</td>\n",
       "      <td>2538.90</td>\n",
       "      <td>65332.0</td>\n",
       "      <td>1.907200e+15</td>\n",
       "      <td>144.120</td>\n",
       "      <td>...</td>\n",
       "      <td>1.5298</td>\n",
       "      <td>1.14640</td>\n",
       "      <td>-0.43124</td>\n",
       "      <td>3856.50</td>\n",
       "      <td>1.4830</td>\n",
       "      <td>-8.991300e+12</td>\n",
       "      <td>NaN</td>\n",
       "      <td>0.23049</td>\n",
       "      <td>8</td>\n",
       "      <td>1</td>\n",
       "    </tr>\n",
       "  </tbody>\n",
       "</table>\n",
       "<p>5 rows × 120 columns</p>\n",
       "</div>"
      ],
      "text/plain": [
       "         f1        f2         f3        f4       f5        f6       f7  \\\n",
       "id                                                                       \n",
       "0   0.10859  0.004314    -37.566  0.017364  0.28915 -10.25100   135.12   \n",
       "1   0.10090  0.299610  11822.000  0.276500  0.45970  -0.83733  1721.90   \n",
       "2   0.17803 -0.006980    907.270  0.272140  0.45948   0.17327  2298.00   \n",
       "3   0.15236  0.007259    780.100  0.025179  0.51947   7.49140   112.51   \n",
       "4   0.11623  0.502900   -109.150  0.297910  0.34490  -0.40932  2538.90   \n",
       "\n",
       "          f8            f9        f10  ...    f111     f112      f113  \\\n",
       "id                                     ...                              \n",
       "0   168900.0  3.992400e+14     86.489  ...  1.7482  1.90960  -7.11570   \n",
       "1   119810.0  3.874100e+15   9953.600  ...  4.1684  0.34808   4.14200   \n",
       "2   360650.0  1.224500e+13  15827.000  ...  1.2042  0.26290   8.13120   \n",
       "3   259490.0  7.781400e+13    -36.837  ...  2.0694  0.79631 -16.33600   \n",
       "4    65332.0  1.907200e+15    144.120  ...  1.5298  1.14640  -0.43124   \n",
       "\n",
       "        f114    f115          f116    f117     f118  Nanumber  claim  \n",
       "id                                                                    \n",
       "0    4378.80  1.2096  8.613400e+14   140.1  1.01770         1      1  \n",
       "1     913.23  1.2464  7.575100e+15  1861.0  0.28359         0      0  \n",
       "2   45119.00  1.1764  3.218100e+14  3838.2  0.40690         5      1  \n",
       "3    4952.40  1.1784  4.533000e+12  4889.1  0.51486         2      1  \n",
       "4    3856.50  1.4830 -8.991300e+12     NaN  0.23049         8      1  \n",
       "\n",
       "[5 rows x 120 columns]"
      ]
     },
     "execution_count": 3,
     "metadata": {},
     "output_type": "execute_result"
    }
   ],
   "source": [
    "# 直接用加 NaN 數量的資料\n",
    "\n",
    "df_train = pd.read_csv(r\"C:\\Users\\user\\Desktop\\2022data\\na_number.csv\",index_col='id')\n",
    "df_test = pd.read_csv(r\"C:\\Users\\user\\Desktop\\2022data\\na_number_test.csv\",index_col='id')\n",
    "\n",
    "#路徑字串開頭要寫 r & 檔案名稱.csv                         \n",
    "# r :為了不讓 \\ 被讀成特殊字元 EX: \\n\n",
    "#指定欄位 id 為索引 (取代原本 0.1...957918的位置)\n",
    "\n",
    "# df_train.isnull().sum().sum() # 還有缺失值嗎  # 1820782\n",
    "# df_train.isnull().sum().sum() # 還有缺失值嗎  # 1820782\n",
    "\n",
    "df_train.head()\n"
   ]
  },
  {
   "cell_type": "code",
   "execution_count": 4,
   "id": "7fe6ee67",
   "metadata": {},
   "outputs": [
    {
     "data": {
      "text/html": [
       "<div>\n",
       "<style scoped>\n",
       "    .dataframe tbody tr th:only-of-type {\n",
       "        vertical-align: middle;\n",
       "    }\n",
       "\n",
       "    .dataframe tbody tr th {\n",
       "        vertical-align: top;\n",
       "    }\n",
       "\n",
       "    .dataframe thead th {\n",
       "        text-align: right;\n",
       "    }\n",
       "</style>\n",
       "<table border=\"1\" class=\"dataframe\">\n",
       "  <thead>\n",
       "    <tr style=\"text-align: right;\">\n",
       "      <th></th>\n",
       "      <th>f1</th>\n",
       "      <th>f2</th>\n",
       "      <th>f3</th>\n",
       "      <th>f4</th>\n",
       "      <th>f5</th>\n",
       "      <th>f6</th>\n",
       "      <th>f7</th>\n",
       "      <th>f8</th>\n",
       "      <th>f9</th>\n",
       "      <th>f10</th>\n",
       "      <th>...</th>\n",
       "      <th>f110</th>\n",
       "      <th>f111</th>\n",
       "      <th>f112</th>\n",
       "      <th>f113</th>\n",
       "      <th>f114</th>\n",
       "      <th>f115</th>\n",
       "      <th>f116</th>\n",
       "      <th>f117</th>\n",
       "      <th>f118</th>\n",
       "      <th>Nanumber</th>\n",
       "    </tr>\n",
       "    <tr>\n",
       "      <th>id</th>\n",
       "      <th></th>\n",
       "      <th></th>\n",
       "      <th></th>\n",
       "      <th></th>\n",
       "      <th></th>\n",
       "      <th></th>\n",
       "      <th></th>\n",
       "      <th></th>\n",
       "      <th></th>\n",
       "      <th></th>\n",
       "      <th></th>\n",
       "      <th></th>\n",
       "      <th></th>\n",
       "      <th></th>\n",
       "      <th></th>\n",
       "      <th></th>\n",
       "      <th></th>\n",
       "      <th></th>\n",
       "      <th></th>\n",
       "      <th></th>\n",
       "      <th></th>\n",
       "    </tr>\n",
       "  </thead>\n",
       "  <tbody>\n",
       "    <tr>\n",
       "      <th>957919</th>\n",
       "      <td>0.165850</td>\n",
       "      <td>0.487050</td>\n",
       "      <td>1295.00</td>\n",
       "      <td>0.02310</td>\n",
       "      <td>0.31900</td>\n",
       "      <td>0.90188</td>\n",
       "      <td>573.29</td>\n",
       "      <td>3743.7</td>\n",
       "      <td>2.705700e+12</td>\n",
       "      <td>6221.000</td>\n",
       "      <td>...</td>\n",
       "      <td>-22.1890</td>\n",
       "      <td>2.0655</td>\n",
       "      <td>0.430880</td>\n",
       "      <td>-10.7410</td>\n",
       "      <td>81606.0</td>\n",
       "      <td>1.1940</td>\n",
       "      <td>1.980400e+14</td>\n",
       "      <td>2017.1</td>\n",
       "      <td>0.46357</td>\n",
       "      <td>1</td>\n",
       "    </tr>\n",
       "    <tr>\n",
       "      <th>957920</th>\n",
       "      <td>0.129650</td>\n",
       "      <td>0.373480</td>\n",
       "      <td>1763.00</td>\n",
       "      <td>0.72884</td>\n",
       "      <td>0.33247</td>\n",
       "      <td>-1.26310</td>\n",
       "      <td>875.55</td>\n",
       "      <td>554370.0</td>\n",
       "      <td>5.955700e+14</td>\n",
       "      <td>934.430</td>\n",
       "      <td>...</td>\n",
       "      <td>-1.6342</td>\n",
       "      <td>1.5736</td>\n",
       "      <td>-1.071200</td>\n",
       "      <td>11.8320</td>\n",
       "      <td>90114.0</td>\n",
       "      <td>1.1507</td>\n",
       "      <td>4.388000e+16</td>\n",
       "      <td>6638.9</td>\n",
       "      <td>0.28125</td>\n",
       "      <td>0</td>\n",
       "    </tr>\n",
       "    <tr>\n",
       "      <th>957921</th>\n",
       "      <td>0.120190</td>\n",
       "      <td>0.445210</td>\n",
       "      <td>736.26</td>\n",
       "      <td>0.04615</td>\n",
       "      <td>0.29605</td>\n",
       "      <td>0.31665</td>\n",
       "      <td>2659.50</td>\n",
       "      <td>317140.0</td>\n",
       "      <td>3.977800e+14</td>\n",
       "      <td>131.810</td>\n",
       "      <td>...</td>\n",
       "      <td>-32.7800</td>\n",
       "      <td>2.1364</td>\n",
       "      <td>-1.931200</td>\n",
       "      <td>-3.2804</td>\n",
       "      <td>37739.0</td>\n",
       "      <td>1.1548</td>\n",
       "      <td>1.718100e+14</td>\n",
       "      <td>5844.0</td>\n",
       "      <td>0.13797</td>\n",
       "      <td>1</td>\n",
       "    </tr>\n",
       "    <tr>\n",
       "      <th>957922</th>\n",
       "      <td>0.054008</td>\n",
       "      <td>0.395960</td>\n",
       "      <td>996.14</td>\n",
       "      <td>0.85934</td>\n",
       "      <td>0.36678</td>\n",
       "      <td>-0.17060</td>\n",
       "      <td>386.56</td>\n",
       "      <td>325680.0</td>\n",
       "      <td>-3.432200e+13</td>\n",
       "      <td>-26.473</td>\n",
       "      <td>...</td>\n",
       "      <td>-2.4162</td>\n",
       "      <td>1.5199</td>\n",
       "      <td>-0.011633</td>\n",
       "      <td>1.3840</td>\n",
       "      <td>26849.0</td>\n",
       "      <td>1.1490</td>\n",
       "      <td>2.138800e+17</td>\n",
       "      <td>6173.3</td>\n",
       "      <td>0.32910</td>\n",
       "      <td>0</td>\n",
       "    </tr>\n",
       "    <tr>\n",
       "      <th>957923</th>\n",
       "      <td>0.079947</td>\n",
       "      <td>-0.006919</td>\n",
       "      <td>10574.00</td>\n",
       "      <td>0.34845</td>\n",
       "      <td>0.45008</td>\n",
       "      <td>-1.84200</td>\n",
       "      <td>3027.00</td>\n",
       "      <td>428150.0</td>\n",
       "      <td>9.291500e+11</td>\n",
       "      <td>5999.400</td>\n",
       "      <td>...</td>\n",
       "      <td>-18.6300</td>\n",
       "      <td>3.7387</td>\n",
       "      <td>0.757080</td>\n",
       "      <td>-4.9405</td>\n",
       "      <td>50336.0</td>\n",
       "      <td>1.2488</td>\n",
       "      <td>2.151300e+17</td>\n",
       "      <td>2250.1</td>\n",
       "      <td>0.33796</td>\n",
       "      <td>0</td>\n",
       "    </tr>\n",
       "  </tbody>\n",
       "</table>\n",
       "<p>5 rows × 119 columns</p>\n",
       "</div>"
      ],
      "text/plain": [
       "              f1        f2        f3       f4       f5       f6       f7  \\\n",
       "id                                                                         \n",
       "957919  0.165850  0.487050   1295.00  0.02310  0.31900  0.90188   573.29   \n",
       "957920  0.129650  0.373480   1763.00  0.72884  0.33247 -1.26310   875.55   \n",
       "957921  0.120190  0.445210    736.26  0.04615  0.29605  0.31665  2659.50   \n",
       "957922  0.054008  0.395960    996.14  0.85934  0.36678 -0.17060   386.56   \n",
       "957923  0.079947 -0.006919  10574.00  0.34845  0.45008 -1.84200  3027.00   \n",
       "\n",
       "              f8            f9       f10  ...     f110    f111      f112  \\\n",
       "id                                        ...                              \n",
       "957919    3743.7  2.705700e+12  6221.000  ... -22.1890  2.0655  0.430880   \n",
       "957920  554370.0  5.955700e+14   934.430  ...  -1.6342  1.5736 -1.071200   \n",
       "957921  317140.0  3.977800e+14   131.810  ... -32.7800  2.1364 -1.931200   \n",
       "957922  325680.0 -3.432200e+13   -26.473  ...  -2.4162  1.5199 -0.011633   \n",
       "957923  428150.0  9.291500e+11  5999.400  ... -18.6300  3.7387  0.757080   \n",
       "\n",
       "           f113     f114    f115          f116    f117     f118  Nanumber  \n",
       "id                                                                         \n",
       "957919 -10.7410  81606.0  1.1940  1.980400e+14  2017.1  0.46357         1  \n",
       "957920  11.8320  90114.0  1.1507  4.388000e+16  6638.9  0.28125         0  \n",
       "957921  -3.2804  37739.0  1.1548  1.718100e+14  5844.0  0.13797         1  \n",
       "957922   1.3840  26849.0  1.1490  2.138800e+17  6173.3  0.32910         0  \n",
       "957923  -4.9405  50336.0  1.2488  2.151300e+17  2250.1  0.33796         0  \n",
       "\n",
       "[5 rows x 119 columns]"
      ]
     },
     "execution_count": 4,
     "metadata": {},
     "output_type": "execute_result"
    }
   ],
   "source": [
    "df_test.head()"
   ]
  },
  {
   "cell_type": "code",
   "execution_count": 5,
   "id": "95fa4f35",
   "metadata": {},
   "outputs": [],
   "source": [
    "# K-Fold 資料\n",
    "\n",
    "# Xtrain = train_df.copy().loc[:,'f1':'f118']\n",
    "# Ytrain = train_df.copy().loc[:,'claim']\n",
    "# Xtest = test_df.copy()\n",
    "\n",
    "Xtrain = df_train.copy().loc[:,'f1':'Nanumber']\n",
    "Ytrain = df_train.copy().loc[:,'claim']\n",
    "Xtest = df_test.copy()\n"
   ]
  },
  {
   "cell_type": "markdown",
   "id": "6d09c285",
   "metadata": {},
   "source": [
    "# 3. Fit a Random Forest model\n",
    "`概率模型（樹形模型）不需要歸一化，不關心變量的值，而是關心變量的分佈(各個特徵出現的機率)和變量之間的條件概率，如決策樹、RF`\n",
    "\n",
    "- https://scikit-learn.org/stable/modules/generated/sklearn.ensemble.RandomForestClassifier.html\n",
    "\n",
    "- 詞彙表 : https://scikit-learn.org/stable/glossary.html#term-n_jobs"
   ]
  },
  {
   "cell_type": "code",
   "execution_count": 6,
   "id": "3262c712",
   "metadata": {},
   "outputs": [],
   "source": [
    "from sklearn.ensemble import RandomForestClassifier\n",
    "from sklearn.model_selection import train_test_split  "
   ]
  },
  {
   "cell_type": "code",
   "execution_count": 7,
   "id": "24f62a9d",
   "metadata": {},
   "outputs": [
    {
     "name": "stdout",
     "output_type": "stream",
     "text": [
      "0.7928942487157519\n"
     ]
    }
   ],
   "source": [
    "# K-Fold 資料     # max_depth = 5\n",
    "\n",
    "# Xtrain = train_df.copy().loc[:,'f1':'f118']\n",
    "# Ytrain = train_df.copy().loc[:,'claim']\n",
    "# Xtest = test_df.copy()\n",
    "\n",
    "# 直接跑不用 kfold\n",
    "\n",
    "Xtrain = Xtrain.fillna(0)                              # 補 0\n",
    "Xtest = Xtest.fillna(0)                                # RFs 不能有 NaN，\n",
    "                                                       # python 裡 sklearn 不能，pycaret 能，原理上隨機森林是支持有缺失值的\n",
    "\n",
    "train_data, test_data, train_target, test_target = train_test_split(Xtrain, Ytrain, test_size=0.2,random_state=24)\n",
    "    \n",
    "rf_model = RandomForestClassifier(max_depth=5, max_features= 'sqrt',\n",
    "                                  max_samples=None, criterion= 'gini',\n",
    "                                  oob_score=True, bootstrap=True)\n",
    "rf_model.fit(train_data, train_target)\n",
    "# y_new = rf_model.predict(Xtrain)\n",
    "\n",
    "# 機率分類判斷\n",
    "rf_predictions = rf_model.predict_proba(test_data) \n",
    "\n",
    "rf_score = roc_auc_score(test_target, rf_predictions[:,-1]) # (957919,)\n",
    "print(rf_score)\n",
    "\n",
    "########                                                                                  ###############\n",
    "########  n_jobs = -1，動用所有 CPU                                                        ###############\n",
    "########                                                                                  ###############\n"
   ]
  },
  {
   "cell_type": "code",
   "execution_count": 8,
   "id": "d9f4a1d8",
   "metadata": {},
   "outputs": [
    {
     "name": "stdout",
     "output_type": "stream",
     "text": [
      "0.7995234438403136\n"
     ]
    }
   ],
   "source": [
    "# K-Fold 資料     # max_depth = 60\n",
    "\n",
    "# Xtrain = train_df.copy().loc[:,'f1':'f118']\n",
    "# Ytrain = train_df.copy().loc[:,'claim']\n",
    "# Xtest = test_df.copy()\n",
    "\n",
    "# 直接跑不用 kfold\n",
    "\n",
    "Xtrain = Xtrain.fillna(0)                              # 補 0\n",
    "Xtest = Xtest.fillna(0)                                # RFs 不能有 NaN，\n",
    "                                                       # python 裡 sklearn 不能，pycaret 能，原理上隨機森林是支持有缺失值的\n",
    "\n",
    "train_data, test_data, train_target, test_target = train_test_split(Xtrain, Ytrain, test_size=0.2,random_state=24)\n",
    "    \n",
    "rf_model = RandomForestClassifier(max_depth=60, max_features= 'sqrt',\n",
    "                                  max_samples=None, criterion= 'gini',\n",
    "                                  oob_score=True, bootstrap=True)\n",
    "rf_model.fit(train_data, train_target)\n",
    "# y_new = rf_model.predict(Xtrain)\n",
    "\n",
    "# 機率分類判斷\n",
    "rf_predictions = rf_model.predict_proba(test_data) \n",
    "\n",
    "rf_score = roc_auc_score(test_target, rf_predictions[:,-1]) # (957919,)\n",
    "print(rf_score)\n",
    "\n",
    "########                                                                                  ###############\n",
    "########  n_jobs = -1，是啥意思                                                            ###############\n",
    "########                                                                                  ###############\n"
   ]
  },
  {
   "cell_type": "markdown",
   "id": "f99d2dd9",
   "metadata": {},
   "source": [
    "# K-Fold"
   ]
  },
  {
   "cell_type": "code",
   "execution_count": 9,
   "id": "946a1d7b",
   "metadata": {},
   "outputs": [
    {
     "name": "stderr",
     "output_type": "stream",
     "text": [
      "\r",
      "0it [00:00, ?it/s]"
     ]
    },
    {
     "name": "stdout",
     "output_type": "stream",
     "text": [
      "\n",
      " Seed-24 | Fold-0 | OOF Score: 0.7904225431168876 \n",
      "\n",
      "\n",
      " Seed-24 | Fold-1 | OOF Score: 0.789410790479903 \n",
      "\n",
      "\n",
      " Seed-24 | Fold-2 | OOF Score: 0.7935818125406779 \n",
      "\n",
      "\n",
      " Seed-24 | Fold-3 | OOF Score: 0.790900926455021 \n",
      "\n"
     ]
    },
    {
     "name": "stderr",
     "output_type": "stream",
     "text": [
      "\r",
      "1it [40:01, 2401.80s/it]"
     ]
    },
    {
     "name": "stdout",
     "output_type": "stream",
     "text": [
      "\n",
      " Seed-24 | Fold-4 | OOF Score: 0.789661078818029 \n",
      "\n",
      "\n",
      " Seed: 24 | Aggregate OOF Score: 0.7907954302821038 \n",
      "\n",
      "\n",
      "\n",
      " Seed-42 | Fold-0 | OOF Score: 0.7915421563957606 \n",
      "\n",
      "\n",
      " Seed-42 | Fold-1 | OOF Score: 0.791165291138846 \n",
      "\n",
      "\n",
      " Seed-42 | Fold-2 | OOF Score: 0.7913487836915104 \n",
      "\n",
      "\n",
      " Seed-42 | Fold-3 | OOF Score: 0.7925757170893544 \n",
      "\n"
     ]
    },
    {
     "name": "stderr",
     "output_type": "stream",
     "text": [
      "2it [1:15:33, 2266.88s/it]"
     ]
    },
    {
     "name": "stdout",
     "output_type": "stream",
     "text": [
      "\n",
      " Seed-42 | Fold-4 | OOF Score: 0.7920922576317434 \n",
      "\n",
      "\n",
      " Seed: 42 | Aggregate OOF Score: 0.791744841189443 \n",
      "\n",
      "\n",
      "Aggregate OOF Score: 0.7912701357357734\n"
     ]
    },
    {
     "name": "stderr",
     "output_type": "stream",
     "text": [
      "\n"
     ]
    }
   ],
   "source": [
    "# max_depth = 5\n",
    "\n",
    "\n",
    "Xtrain = Xtrain.fillna(0)                         # 補 0\n",
    "Xtest = Xtest.fillna(0)                           # RFs 不能有 NaN，\n",
    "                                                  # python 裡 sklearn 不能，pycaret 能，原理上隨機森林是支持有缺失值的\n",
    "##### Set your configuration(配置) here!!\n",
    "\n",
    "FOLD = 5                                          # 切 5 分\n",
    "SEEDS = [24, 42]                                  # 要做幾次 K-fold ,這裡做 2 次\n",
    "\n",
    "fet_imp = 0                                       # feature importance (not necessary)  # 看特徵重要性\n",
    "counter = 0                                       # 整個迴圈的個數\n",
    "oof_score = 0                                     # oof_score /= float(counter)，整個 kfold 的平均分數，roc_auc_score                         \n",
    "\n",
    "##### here I use XGBoost to implement KFold, you may choose your model by your self\n",
    "y_pred_final_rf = np.zeros((Xtest.shape[0], 1))   # 建 2維 0 陣列\n",
    "y_pred_meta_rf = np.zeros((Xtrain.shape[0], 1))  \n",
    "\n",
    "##### your chosen seeds\n",
    "for sidx, seed in tqdm(enumerate(SEEDS)):         # enumerate(枚舉) : 看list物件，(0,24) 第一次 & (1,42) 第二次\n",
    "    seed_score = 0                                # 累積每次 kfold 完分數，後面拿去算每次的平均分數\n",
    "\n",
    "    ##### start KFold\n",
    "\n",
    "    kfold = KFold(n_splits=FOLD, shuffle=True, random_state=seed)   # shuffle : 打亂，第 n 次的 random_state \n",
    "  # kfold = StratifiedKFold(n_splits=FOLD, shuffle=True, random_state=seed) \n",
    "\n",
    "    for flod_idx, (train_idx, val_idx) in enumerate(kfold.split(Xtrain.values, Ytrain.values)): \n",
    "                                  # ('f1:f118' & 'claim') 分別對 data 跟 label 切出訓練 & 驗證集，後面 fit 用\n",
    "                                  # kfold.split : 生成 index 以將數據拆分為訓練集和測試集 \n",
    "                                  # KFold()方法中的 split()：split(a,b)：方法會根據折數對 a 和 b 進行劃分，返回相應數據的下標\n",
    "                                  # DF --> array , Xtrain.values (957919, 118)    \n",
    "        counter += 1              # 整個做到第 (kfold 裡切幾次*做幾次 kflod) 次 \n",
    "\n",
    "        ##### setting sub training data and validation data\n",
    "        train_x, train_y = Xtrain.iloc[train_idx], Ytrain.iloc[train_idx]     # 拿出切好的訓練 & 驗證集 (train, val)\n",
    "        val_x, val_y = Xtrain.iloc[val_idx], Ytrain.iloc[val_idx]             # K-Flod 做完\n",
    "\n",
    "############################################################################  # 以下以 Random forest 為例  ###############\n",
    "        ##### This is nothing to do with KFold (建)\n",
    "\n",
    "        rf_model = RandomForestClassifier(max_depth=5, max_features= 'sqrt',\n",
    "                                          max_samples=None, criterion= 'gini',\n",
    "                                          oob_score=True, bootstrap=True)\n",
    "        rf_model.fit(train_x, train_y)\n",
    "        # y_new = rf_model.predict(Xtrain)      \n",
    "\n",
    "        ##### predict validation set and testing set       # 預測 驗證集 & 測試集\n",
    "        \n",
    "        y_pred = rf_model.predict_proba(val_x)[:,-1]            \n",
    "        y_pred_meta_rf[val_idx] += np.array([y_pred]).T    # 第 1/5 份驗證集的預測，5次才會滿\n",
    "\n",
    "        y_pred_final_rf += np.array(rf_model.predict_proba(Xtest)[:,-1]).T.reshape((Xtest.shape[0], 1))  \n",
    "                                                           # 整個測試集的預測，一次就滿了，要弄回 2維 (493474, 1)\n",
    "            \n",
    "#########################################################################################################################            \n",
    "\n",
    "        ##### calculate your metrics here\n",
    "        fet_imp += rf_model.feature_importances_          # 樹模型特有，特徵用越多次越重要\n",
    "                                                          # model.feature_importances_ : 每次特徵的重要性(比例)，總和約為 1\n",
    "        score = roc_auc_score(val_y, y_pred)              # 算 roc_auc 分數\n",
    "        oof_score += score                                # 把整個分數加到底\n",
    "        seed_score += score                               # 累積每次 kfold 完的分數\n",
    "\n",
    "        ##### metric logger (指標記錄器)\n",
    "        print(\"\\n Seed-{} | Fold-{} | OOF Score: {} \\n\".format(seed, flod_idx, score))    \n",
    "                                                          # 此次(24 & 42)，第 (flod_idx + 1) 個 kfold.split，評分\n",
    "\n",
    "    print(\"\\n Seed: {} | Aggregate OOF Score: {} \\n\\n\".format(seed, (seed_score / FOLD)))   \n",
    "                                                          # 此次 random_state，的平均指標分數\n",
    "\n",
    "\n",
    "fet_imp = fet_imp / float(counter)                        # 整個 Kfold 中的特徵重要性(比例)，總和約為 1\n",
    "y_pred_meta_rf = y_pred_meta_rf / float(len(SEEDS))       # 驗證集的預測 / 做幾次 kfold                      (平均一次驗證集)\n",
    "y_pred_final_rf = y_pred_final_rf / float(counter)        # 整個測試集的預測 / (kfold 裡切幾次*做幾次 kflod)  (平均一次測試集)\n",
    "oof_score /= float(counter)                               # (整個分數加到底 / 整個次數)，整個 kfold 的平均分數，roc_auc_score \n",
    "\n",
    "print(\"Aggregate OOF Score: {}\".format(oof_score))\n"
   ]
  },
  {
   "cell_type": "code",
   "execution_count": 10,
   "id": "1a575906",
   "metadata": {},
   "outputs": [
    {
     "data": {
      "text/plain": [
       "array([[0.55391419],\n",
       "       [0.3624544 ],\n",
       "       [0.55492821],\n",
       "       ...,\n",
       "       [0.61957003],\n",
       "       [0.36157116],\n",
       "       [0.57582232]])"
      ]
     },
     "execution_count": 10,
     "metadata": {},
     "output_type": "execute_result"
    }
   ],
   "source": [
    "max_depth_5 = y_pred_final_rf   # 測試集\n",
    "max_depth_5"
   ]
  },
  {
   "cell_type": "markdown",
   "id": "72d20a61",
   "metadata": {},
   "source": [
    "**confusion_matrix**"
   ]
  },
  {
   "cell_type": "code",
   "execution_count": 11,
   "id": "e1819d6c",
   "metadata": {},
   "outputs": [
    {
     "name": "stdout",
     "output_type": "stream",
     "text": [
      "0.7723711503791031\n"
     ]
    },
    {
     "data": {
      "image/png": "[encoded data removed]",
      "text/plain": [
       "<Figure size 864x360 with 2 Axes>"
      ]
     },
     "metadata": {
      "needs_background": "light"
     },
     "output_type": "display_data"
    }
   ],
   "source": [
    "np.set_printoptions(precision=2)   # 矩陣輸出 2 位\n",
    "\n",
    "cnf_matrix = confusion_matrix(Ytrain, np.round(y_pred_meta_rf.ravel()) , labels=[0, 1])  # (957919,)，Series & array\n",
    "\n",
    "\n",
    "plt.figure(figsize=(12, 5))\n",
    "plot_confusion_matrix(cnf_matrix, classes=[0, 1])\n",
    "\n",
    "print((cnf_matrix[0,0] + cnf_matrix[1,1]) / sum(cnf_matrix).sum())\n"
   ]
  },
  {
   "cell_type": "code",
   "execution_count": 12,
   "id": "3d1777e4",
   "metadata": {},
   "outputs": [
    {
     "name": "stdout",
     "output_type": "stream",
     "text": [
      "0.7727498509248139\n"
     ]
    },
    {
     "data": {
      "image/png": "[encoded data removed]",
      "text/plain": [
       "<Figure size 864x360 with 2 Axes>"
      ]
     },
     "metadata": {
      "needs_background": "light"
     },
     "output_type": "display_data"
    }
   ],
   "source": [
    "np.set_printoptions(precision=2)   # 矩陣輸出 2 位\n",
    "\n",
    "cnf_matrix = confusion_matrix(Ytrain, np.round(y_pred_meta_rf.ravel()) , labels=[0, 1])  # (957919,)，Series & array\n",
    "cnf_matrix = cnf_matrix/cnf_matrix.sum(axis=1)[:,np.newaxis]                              # 轉百分比\n",
    "\n",
    "plt.figure(figsize=(12, 5))\n",
    "plot_confusion_matrix(cnf_matrix, classes=[0, 1])\n",
    "\n",
    "print((cnf_matrix[0,0] + cnf_matrix[1,1]) / sum(cnf_matrix).sum())\n"
   ]
  },
  {
   "cell_type": "markdown",
   "id": "f474a7ba",
   "metadata": {},
   "source": [
    "**KDE plot**"
   ]
  },
  {
   "cell_type": "code",
   "execution_count": 13,
   "id": "1bf836b8",
   "metadata": {},
   "outputs": [
    {
     "data": {
      "text/plain": [
       "<AxesSubplot:ylabel='Density'>"
      ]
     },
     "execution_count": 13,
     "metadata": {},
     "output_type": "execute_result"
    },
    {
     "data": {
      "image/png": "[encoded data removed]",
      "text/plain": [
       "<Figure size 432x288 with 1 Axes>"
      ]
     },
     "metadata": {
      "needs_background": "light"
     },
     "output_type": "display_data"
    }
   ],
   "source": [
    "sns.kdeplot( max_depth_5.ravel() )"
   ]
  },
  {
   "cell_type": "code",
   "execution_count": 14,
   "id": "1dc32e88",
   "metadata": {},
   "outputs": [
    {
     "name": "stderr",
     "output_type": "stream",
     "text": [
      "\r",
      "0it [00:00, ?it/s]"
     ]
    },
    {
     "name": "stdout",
     "output_type": "stream",
     "text": [
      "\n",
      " Seed-24 | Fold-0 | OOF Score: 0.7997383688581529 \n",
      "\n",
      "\n",
      " Seed-24 | Fold-1 | OOF Score: 0.7990669149145542 \n",
      "\n",
      "\n",
      " Seed-24 | Fold-2 | OOF Score: 0.79962551916103 \n",
      "\n",
      "\n",
      " Seed-24 | Fold-3 | OOF Score: 0.8001769892452939 \n",
      "\n"
     ]
    },
    {
     "name": "stderr",
     "output_type": "stream",
     "text": [
      "\r",
      "1it [5:02:08, 18128.15s/it]"
     ]
    },
    {
     "name": "stdout",
     "output_type": "stream",
     "text": [
      "\n",
      " Seed-24 | Fold-4 | OOF Score: 0.7993683059321588 \n",
      "\n",
      "\n",
      " Seed: 24 | Aggregate OOF Score: 0.799595219622238 \n",
      "\n",
      "\n",
      "\n",
      " Seed-42 | Fold-0 | OOF Score: 0.7986236765874141 \n",
      "\n",
      "\n",
      " Seed-42 | Fold-1 | OOF Score: 0.8006792334909092 \n",
      "\n",
      "\n",
      " Seed-42 | Fold-2 | OOF Score: 0.7982417104993047 \n",
      "\n",
      "\n",
      " Seed-42 | Fold-3 | OOF Score: 0.7999114689226849 \n",
      "\n"
     ]
    },
    {
     "name": "stderr",
     "output_type": "stream",
     "text": [
      "2it [9:13:28, 16604.47s/it]"
     ]
    },
    {
     "name": "stdout",
     "output_type": "stream",
     "text": [
      "\n",
      " Seed-42 | Fold-4 | OOF Score: 0.8003058428876731 \n",
      "\n",
      "\n",
      " Seed: 42 | Aggregate OOF Score: 0.7995523864775972 \n",
      "\n",
      "\n",
      "Aggregate OOF Score: 0.7995738030499175\n"
     ]
    },
    {
     "name": "stderr",
     "output_type": "stream",
     "text": [
      "\n"
     ]
    }
   ],
   "source": [
    "# max_depth = 60\n",
    "\n",
    "\n",
    "Xtrain = Xtrain.fillna(0)                         # 補 0\n",
    "Xtest = Xtest.fillna(0)                           # RFs 不能有 NaN，\n",
    "                                                  # python 裡 sklearn 不能，pycaret 能，原理上隨機森林是支持有缺失值的\n",
    "##### Set your configuration(配置) here!!\n",
    "\n",
    "FOLD = 5                                          # 切 5 分\n",
    "SEEDS = [24, 42]                                  # 要做幾次 K-fold ,這裡做 2 次\n",
    "\n",
    "fet_imp = 0                                       # feature importance (not necessary)  # 看特徵重要性\n",
    "counter = 0                                       # 整個迴圈的個數\n",
    "oof_score = 0                                     # oof_score /= float(counter)，整個 kfold 的平均分數，roc_auc_score                         \n",
    "\n",
    "##### here I use XGBoost to implement KFold, you may choose your model by your self\n",
    "y_pred_final_rf = np.zeros((Xtest.shape[0], 1))   # 建 2維 0 陣列\n",
    "y_pred_meta_rf = np.zeros((Xtrain.shape[0], 1))  \n",
    "\n",
    "##### your chosen seeds\n",
    "for sidx, seed in tqdm(enumerate(SEEDS)):         # enumerate(枚舉) : 看list物件，(0,24) 第一次 & (1,42) 第二次\n",
    "    seed_score = 0                                # 累積每次 kfold 完分數，後面拿去算每次的平均分數\n",
    "\n",
    "    ##### start KFold\n",
    "\n",
    "    kfold = KFold(n_splits=FOLD, shuffle=True, random_state=seed)   # shuffle : 打亂，第 n 次的 random_state \n",
    "  # kfold = StratifiedKFold(n_splits=FOLD, shuffle=True, random_state=seed) \n",
    "\n",
    "    for flod_idx, (train_idx, val_idx) in enumerate(kfold.split(Xtrain.values, Ytrain.values)): \n",
    "                                  # ('f1:f118' & 'claim') 分別對 data 跟 label 切出訓練 & 驗證集，後面 fit 用\n",
    "                                  # kfold.split : 生成 index 以將數據拆分為訓練集和測試集 \n",
    "                                  # KFold()方法中的 split()：split(a,b)：方法會根據折數對 a 和 b 進行劃分，返回相應數據的下標\n",
    "                                  # DF --> array , Xtrain.values (957919, 118)    \n",
    "        counter += 1              # 整個做到第 (kfold 裡切幾次*做幾次 kflod) 次 \n",
    "\n",
    "        ##### setting sub training data and validation data\n",
    "        train_x, train_y = Xtrain.iloc[train_idx], Ytrain.iloc[train_idx]     # 拿出切好的訓練 & 驗證集 (train, val)\n",
    "        val_x, val_y = Xtrain.iloc[val_idx], Ytrain.iloc[val_idx]             # K-Flod 做完\n",
    "\n",
    "############################################################################  # 以下以 Random forest 為例  ###############\n",
    "        ##### This is nothing to do with KFold (建)\n",
    "\n",
    "        rf_model = RandomForestClassifier(max_depth=60, max_features= 'sqrt',\n",
    "                                          max_samples=None, criterion= 'gini',\n",
    "                                          oob_score=True, bootstrap=True)\n",
    "        rf_model.fit(train_x, train_y)\n",
    "        # y_new = rf_model.predict(Xtrain)      \n",
    "\n",
    "        ##### predict validation set and testing set       # 預測 驗證集 & 測試集\n",
    "        \n",
    "        y_pred = rf_model.predict_proba(val_x)[:,-1]            \n",
    "        y_pred_meta_rf[val_idx] += np.array([y_pred]).T    # 第 1/5 份驗證集的預測，5次才會滿\n",
    "\n",
    "        y_pred_final_rf += np.array(rf_model.predict_proba(Xtest)[:,-1]).T.reshape((Xtest.shape[0], 1))  \n",
    "                                                           # 整個測試集的預測，一次就滿了，要弄回 2維 (493474, 1)\n",
    "            \n",
    "#########################################################################################################################            \n",
    "\n",
    "        ##### calculate your metrics here\n",
    "        fet_imp += rf_model.feature_importances_          # 樹模型特有，特徵用越多次越重要\n",
    "                                                          # model.feature_importances_ : 每次特徵的重要性(比例)，總和約為 1\n",
    "        score = roc_auc_score(val_y, y_pred)              # 算 roc_auc 分數\n",
    "        oof_score += score                                # 把整個分數加到底\n",
    "        seed_score += score                               # 累積每次 kfold 完的分數\n",
    "\n",
    "        ##### metric logger (指標記錄器)\n",
    "        print(\"\\n Seed-{} | Fold-{} | OOF Score: {} \\n\".format(seed, flod_idx, score))    \n",
    "                                                          # 此次(24 & 42)，第 (flod_idx + 1) 個 kfold.split，評分\n",
    "\n",
    "    print(\"\\n Seed: {} | Aggregate OOF Score: {} \\n\\n\".format(seed, (seed_score / FOLD)))   \n",
    "                                                          # 此次 random_state，的平均指標分數\n",
    "\n",
    "\n",
    "fet_imp = fet_imp / float(counter)                        # 整個 Kfold 中的特徵重要性(比例)，總和約為 1\n",
    "y_pred_meta_rf = y_pred_meta_rf / float(len(SEEDS))       # 驗證集的預測 / 做幾次 kfold                      (平均一次驗證集)\n",
    "y_pred_final_rf = y_pred_final_rf / float(counter)        # 整個測試集的預測 / (kfold 裡切幾次*做幾次 kflod)  (平均一次測試集)\n",
    "oof_score /= float(counter)                               # (整個分數加到底 / 整個次數)，整個 kfold 的平均分數，roc_auc_score \n",
    "\n",
    "print(\"Aggregate OOF Score: {}\".format(oof_score))\n"
   ]
  },
  {
   "cell_type": "code",
   "execution_count": 15,
   "id": "cd16abd3",
   "metadata": {},
   "outputs": [
    {
     "data": {
      "text/plain": [
       "array([[0.65],\n",
       "       [0.11],\n",
       "       [0.62],\n",
       "       ...,\n",
       "       [0.77],\n",
       "       [0.2 ],\n",
       "       [0.69]])"
      ]
     },
     "execution_count": 15,
     "metadata": {},
     "output_type": "execute_result"
    }
   ],
   "source": [
    "max_depth_60 = y_pred_final_rf   # 測試集\n",
    "max_depth_60"
   ]
  },
  {
   "cell_type": "markdown",
   "id": "8224b8ec",
   "metadata": {},
   "source": [
    "**confusion_matrix**"
   ]
  },
  {
   "cell_type": "code",
   "execution_count": 16,
   "id": "88926b11",
   "metadata": {},
   "outputs": [
    {
     "name": "stdout",
     "output_type": "stream",
     "text": [
      "0.7723680185902984\n"
     ]
    },
    {
     "data": {
      "image/png": "[encoded data removed]",
      "text/plain": [
       "<Figure size 864x360 with 2 Axes>"
      ]
     },
     "metadata": {
      "needs_background": "light"
     },
     "output_type": "display_data"
    }
   ],
   "source": [
    "np.set_printoptions(precision=2)   # 矩陣輸出 2 位\n",
    "\n",
    "cnf_matrix = confusion_matrix(Ytrain, np.round(y_pred_meta_rf.ravel()) , labels=[0, 1])  # (957919,)，Series & array\n",
    "\n",
    "\n",
    "plt.figure(figsize=(12, 5))\n",
    "plot_confusion_matrix(cnf_matrix, classes=[0, 1])\n",
    "\n",
    "print((cnf_matrix[0,0] + cnf_matrix[1,1]) / sum(cnf_matrix).sum())\n"
   ]
  },
  {
   "cell_type": "code",
   "execution_count": 17,
   "id": "49719c17",
   "metadata": {},
   "outputs": [
    {
     "name": "stdout",
     "output_type": "stream",
     "text": [
      "0.772743139343641\n"
     ]
    },
    {
     "data": {
      "image/png": "[encoded data removed]",
      "text/plain": [
       "<Figure size 864x360 with 2 Axes>"
      ]
     },
     "metadata": {
      "needs_background": "light"
     },
     "output_type": "display_data"
    }
   ],
   "source": [
    "np.set_printoptions(precision=2)   # 矩陣輸出 2 位\n",
    "\n",
    "cnf_matrix = confusion_matrix(Ytrain, np.round(y_pred_meta_rf.ravel()) , labels=[0, 1])  # (957919,)，Series & array\n",
    "cnf_matrix = cnf_matrix/cnf_matrix.sum(axis=1)[:,np.newaxis]                              # 轉百分比\n",
    "\n",
    "plt.figure(figsize=(12, 5))\n",
    "plot_confusion_matrix(cnf_matrix, classes=[0, 1])\n",
    "\n",
    "print((cnf_matrix[0,0] + cnf_matrix[1,1]) / sum(cnf_matrix).sum())\n"
   ]
  },
  {
   "cell_type": "markdown",
   "id": "fdb2c3fb",
   "metadata": {},
   "source": [
    "**KDE plot**"
   ]
  },
  {
   "cell_type": "code",
   "execution_count": 18,
   "id": "61e020a2",
   "metadata": {},
   "outputs": [
    {
     "data": {
      "text/plain": [
       "<AxesSubplot:ylabel='Density'>"
      ]
     },
     "execution_count": 18,
     "metadata": {},
     "output_type": "execute_result"
    },
    {
     "data": {
      "image/png": "[encoded data removed]",
      "text/plain": [
       "<Figure size 432x288 with 1 Axes>"
      ]
     },
     "metadata": {
      "needs_background": "light"
     },
     "output_type": "display_data"
    }
   ],
   "source": [
    "sns.kdeplot( max_depth_60.ravel() )"
   ]
  },
  {
   "cell_type": "code",
   "execution_count": 21,
   "id": "3484d7f5",
   "metadata": {},
   "outputs": [],
   "source": [
    "depth_51 = pd.DataFrame(max_depth_5)\n",
    "depth_601 = pd.DataFrame(max_depth_60)"
   ]
  },
  {
   "cell_type": "code",
   "execution_count": 23,
   "id": "799afa03",
   "metadata": {},
   "outputs": [
    {
     "data": {
      "text/html": [
       "<div>\n",
       "<style scoped>\n",
       "    .dataframe tbody tr th:only-of-type {\n",
       "        vertical-align: middle;\n",
       "    }\n",
       "\n",
       "    .dataframe tbody tr th {\n",
       "        vertical-align: top;\n",
       "    }\n",
       "\n",
       "    .dataframe thead th {\n",
       "        text-align: right;\n",
       "    }\n",
       "</style>\n",
       "<table border=\"1\" class=\"dataframe\">\n",
       "  <thead>\n",
       "    <tr style=\"text-align: right;\">\n",
       "      <th></th>\n",
       "      <th>id</th>\n",
       "      <th>max_depth_5</th>\n",
       "      <th>max_depth_60</th>\n",
       "    </tr>\n",
       "  </thead>\n",
       "  <tbody>\n",
       "    <tr>\n",
       "      <th>0</th>\n",
       "      <td>957919</td>\n",
       "      <td>0.553914</td>\n",
       "      <td>0.653503</td>\n",
       "    </tr>\n",
       "    <tr>\n",
       "      <th>1</th>\n",
       "      <td>957920</td>\n",
       "      <td>0.362454</td>\n",
       "      <td>0.107132</td>\n",
       "    </tr>\n",
       "    <tr>\n",
       "      <th>2</th>\n",
       "      <td>957921</td>\n",
       "      <td>0.554928</td>\n",
       "      <td>0.621970</td>\n",
       "    </tr>\n",
       "    <tr>\n",
       "      <th>3</th>\n",
       "      <td>957922</td>\n",
       "      <td>0.362015</td>\n",
       "      <td>0.129830</td>\n",
       "    </tr>\n",
       "    <tr>\n",
       "      <th>4</th>\n",
       "      <td>957923</td>\n",
       "      <td>0.362685</td>\n",
       "      <td>0.170366</td>\n",
       "    </tr>\n",
       "    <tr>\n",
       "      <th>...</th>\n",
       "      <td>...</td>\n",
       "      <td>...</td>\n",
       "      <td>...</td>\n",
       "    </tr>\n",
       "    <tr>\n",
       "      <th>493469</th>\n",
       "      <td>1451388</td>\n",
       "      <td>0.561253</td>\n",
       "      <td>0.742159</td>\n",
       "    </tr>\n",
       "    <tr>\n",
       "      <th>493470</th>\n",
       "      <td>1451389</td>\n",
       "      <td>0.361851</td>\n",
       "      <td>0.151462</td>\n",
       "    </tr>\n",
       "    <tr>\n",
       "      <th>493471</th>\n",
       "      <td>1451390</td>\n",
       "      <td>0.619570</td>\n",
       "      <td>0.766042</td>\n",
       "    </tr>\n",
       "    <tr>\n",
       "      <th>493472</th>\n",
       "      <td>1451391</td>\n",
       "      <td>0.361571</td>\n",
       "      <td>0.204669</td>\n",
       "    </tr>\n",
       "    <tr>\n",
       "      <th>493473</th>\n",
       "      <td>1451392</td>\n",
       "      <td>0.575822</td>\n",
       "      <td>0.690662</td>\n",
       "    </tr>\n",
       "  </tbody>\n",
       "</table>\n",
       "<p>493474 rows × 3 columns</p>\n",
       "</div>"
      ],
      "text/plain": [
       "             id  max_depth_5  max_depth_60\n",
       "0        957919     0.553914      0.653503\n",
       "1        957920     0.362454      0.107132\n",
       "2        957921     0.554928      0.621970\n",
       "3        957922     0.362015      0.129830\n",
       "4        957923     0.362685      0.170366\n",
       "...         ...          ...           ...\n",
       "493469  1451388     0.561253      0.742159\n",
       "493470  1451389     0.361851      0.151462\n",
       "493471  1451390     0.619570      0.766042\n",
       "493472  1451391     0.361571      0.204669\n",
       "493473  1451392     0.575822      0.690662\n",
       "\n",
       "[493474 rows x 3 columns]"
      ]
     },
     "execution_count": 23,
     "metadata": {},
     "output_type": "execute_result"
    }
   ],
   "source": [
    "random_forest = pd.concat((Xtest.reset_index().iloc[:,0], depth_51, depth_601), axis = 'columns')  # 需要轉 dataframe\n",
    "random_forest.columns = ['id', 'max_depth_5', 'max_depth_60']\n",
    "random_forest"
   ]
  },
  {
   "cell_type": "code",
   "execution_count": 24,
   "id": "f9523cdb",
   "metadata": {},
   "outputs": [],
   "source": [
    "# random_forest.to_csv(\"C:/Users/user/Desktop/random_forest_hat.csv\") "
   ]
  },
  {
   "cell_type": "markdown",
   "id": "18135f59",
   "metadata": {},
   "source": [
    "# CatBoost\n",
    "\n",
    "CatBoost : https://ithelp.ithome.com.tw/articles/10275263\n",
    "\n",
    "CatBoostClassifier : https://catboost.ai/en/docs/concepts/python-reference_catboostclassifier"
   ]
  }
 ],
 "metadata": {
  "kernelspec": {
   "display_name": "Python 3",
   "language": "python",
   "name": "python3"
  },
  "language_info": {
   "codemirror_mode": {
    "name": "ipython",
    "version": 3
   },
   "file_extension": ".py",
   "mimetype": "text/x-python",
   "name": "python",
   "nbconvert_exporter": "python",
   "pygments_lexer": "ipython3",
   "version": "3.8.8"
  }
 },
 "nbformat": 4,
 "nbformat_minor": 5
}
